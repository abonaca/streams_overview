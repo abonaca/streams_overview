{
 "cells": [
  {
   "cell_type": "markdown",
   "id": "ea2010dd",
   "metadata": {},
   "source": [
    "TODO: \n",
    "- M30/NGC whatever from Sollima (galstreams) and Ibata. \n",
    "- The Ibata stream orbit fits that failed should still appear in the table\n",
    "- Stream widths"
   ]
  },
  {
   "cell_type": "markdown",
   "id": "d02ad07f-02c8-45f6-9168-b239df4ce3e3",
   "metadata": {},
   "source": [
    "# Imports"
   ]
  },
  {
   "cell_type": "code",
   "execution_count": 2,
   "id": "7c0d5c3d-5caa-406e-9ca4-aa1d4ab6d2d8",
   "metadata": {
    "ExecuteTime": {
     "end_time": "2024-02-14T06:39:24.745943Z",
     "start_time": "2024-02-14T06:39:23.231746Z"
    },
    "execution": {
     "iopub.execute_input": "2024-02-08T13:50:45.692986Z",
     "iopub.status.busy": "2024-02-08T13:50:45.692371Z",
     "iopub.status.idle": "2024-02-08T13:50:51.554655Z",
     "shell.execute_reply": "2024-02-08T13:50:51.553970Z",
     "shell.execute_reply.started": "2024-02-08T13:50:45.692940Z"
    }
   },
   "outputs": [],
   "source": [
    "import io\n",
    "import pathlib\n",
    "import pickle\n",
    "import re\n",
    "\n",
    "import ads\n",
    "import astropy.coordinates as coord\n",
    "import astropy.table as at\n",
    "import astropy.units as u\n",
    "import gala.coordinates as gc\n",
    "import gala.dynamics as gd\n",
    "import gala.integrate as gi\n",
    "import gala.potential as gp\n",
    "import galstreams\n",
    "import matplotlib as mpl\n",
    "import matplotlib.pyplot as plt\n",
    "import numpy as np\n",
    "from astropy.stats import median_absolute_deviation as MAD\n",
    "from gala.units import galactic\n",
    "from helpers import (\n",
    "    get_full_galstreams_poly,\n",
    "    get_isochrone,\n",
    "    make_ibata_poly_nodes,\n",
    "    run_orbit_fit,\n",
    "    get_default_track_for_stream,\n",
    ")\n",
    "from pyia import GaiaData\n",
    "from scipy.interpolate import InterpolatedUnivariateSpline\n",
    "from scipy.optimize import minimize\n",
    "from tqdm.auto import tqdm\n",
    "\n",
    "%matplotlib inline"
   ]
  },
  {
   "cell_type": "markdown",
   "id": "d96aab5c-9a93-43a1-a7b5-5a6b0e8a5b23",
   "metadata": {},
   "source": [
    "Fiducial isochrone model:"
   ]
  },
  {
   "cell_type": "code",
   "execution_count": 3,
   "id": "36ebade2-b025-435a-aa51-1b6175805c7c",
   "metadata": {
    "ExecuteTime": {
     "end_time": "2024-02-14T06:39:29.714179Z",
     "start_time": "2024-02-14T06:39:29.682126Z"
    },
    "execution": {
     "iopub.execute_input": "2024-01-31T21:48:09.780761Z",
     "iopub.status.busy": "2024-01-31T21:48:09.780117Z",
     "iopub.status.idle": "2024-01-31T21:48:09.794226Z",
     "shell.execute_reply": "2024-01-31T21:48:09.793541Z",
     "shell.execute_reply.started": "2024-01-31T21:48:09.780716Z"
    }
   },
   "outputs": [],
   "source": [
    "iso = get_isochrone()\n",
    "\n",
    "tmp_iso = iso[iso[\"stage\"] == 1]\n",
    "MSTO_absmag = tmp_iso[\"rP1\"].min()"
   ]
  },
  {
   "cell_type": "code",
   "execution_count": 4,
   "id": "aad19498",
   "metadata": {
    "ExecuteTime": {
     "end_time": "2024-02-14T06:39:45.330865Z",
     "start_time": "2024-02-14T06:39:30.889572Z"
    }
   },
   "outputs": [
    {
     "name": "stdout",
     "output_type": "stream",
     "text": [
      "Initializing galstreams library from master_log... \n"
     ]
    }
   ],
   "source": [
    "mwstreams = galstreams.MWStreams()"
   ]
  },
  {
   "cell_type": "markdown",
   "id": "8954fea9-6936-4af0-ba0e-48ef6b6c43a1",
   "metadata": {},
   "source": [
    "# Load data\n",
    "\n",
    "## Ibata:"
   ]
  },
  {
   "cell_type": "code",
   "execution_count": 5,
   "id": "eeefece4-4db6-40fc-9fbc-6a211d648640",
   "metadata": {
    "ExecuteTime": {
     "end_time": "2024-02-14T06:39:47.349075Z",
     "start_time": "2024-02-14T06:39:47.152464Z"
    },
    "execution": {
     "iopub.execute_input": "2024-02-02T15:32:26.855925Z",
     "iopub.status.busy": "2024-02-02T15:32:26.854962Z",
     "iopub.status.idle": "2024-02-02T15:32:26.994313Z",
     "shell.execute_reply": "2024-02-02T15:32:26.993948Z",
     "shell.execute_reply.started": "2024-02-02T15:32:26.855878Z"
    }
   },
   "outputs": [],
   "source": [
    "# tbl = at.Table.read(\"../data/Ibata2023_Table1.csv\")\n",
    "ibata_g = GaiaData(\n",
    "    \"../data/Ibata2023_GaiaDR3-xm.fits\",\n",
    "    radial_velocity_colname=\"vh\",\n",
    "    radial_velocity_unit=u.km / u.s,\n",
    ")"
   ]
  },
  {
   "cell_type": "code",
   "execution_count": 6,
   "id": "6ff1867a-dbaf-4478-9e44-395323981c0b",
   "metadata": {
    "ExecuteTime": {
     "end_time": "2024-02-14T06:39:48.138355Z",
     "start_time": "2024-02-14T06:39:48.057692Z"
    },
    "execution": {
     "iopub.execute_input": "2024-02-02T15:32:27.043907Z",
     "iopub.status.busy": "2024-02-02T15:32:27.043721Z",
     "iopub.status.idle": "2024-02-02T15:32:27.094616Z",
     "shell.execute_reply": "2024-02-02T15:32:27.094317Z",
     "shell.execute_reply.started": "2024-02-02T15:32:27.043892Z"
    }
   },
   "outputs": [],
   "source": [
    "ibata_tbl = at.Table.read(\"../data/ibata_streams_full.csv\")\n",
    "sID_to_name = {row[\"sID\"]: row[\"name\"] for row in at.unique(ibata_tbl, keys=\"sID\")}\n",
    "name_to_sID = {v: k for k, v in sID_to_name.items()}"
   ]
  },
  {
   "cell_type": "code",
   "execution_count": 7,
   "id": "211d1b51-4ca3-4020-bc87-5cddabc65e25",
   "metadata": {
    "ExecuteTime": {
     "end_time": "2024-02-14T06:39:48.755932Z",
     "start_time": "2024-02-14T06:39:48.726396Z"
    },
    "execution": {
     "iopub.execute_input": "2024-02-02T15:32:28.163838Z",
     "iopub.status.busy": "2024-02-02T15:32:28.163305Z",
     "iopub.status.idle": "2024-02-02T15:32:28.238844Z",
     "shell.execute_reply": "2024-02-02T15:32:28.238454Z",
     "shell.execute_reply.started": "2024-02-02T15:32:28.163799Z"
    }
   },
   "outputs": [
    {
     "name": "stderr",
     "output_type": "stream",
     "text": [
      "WARNING: negative parallaxes are converted to NaN distances even when `allow_negative=True`, because negative parallaxes cannot be transformed into distances. See the discussion in this paper: https://arxiv.org/abs/1507.02105 [astropy.coordinates.distances]\n"
     ]
    }
   ],
   "source": [
    "_dist = ibata_g.get_distance(allow_negative=True)\n",
    "_dist[~np.isfinite(_dist)] = 100 * u.Mpc  # put them very far away if missing\n",
    "\n",
    "ibata_c = ibata_g.get_skycoord(distance=_dist)"
   ]
  },
  {
   "cell_type": "markdown",
   "id": "509ef2e0-799f-4cd4-8030-ba20cb386a5e",
   "metadata": {},
   "source": [
    "## S5 streams:\n",
    "s5_streams = \"300S\",\\n\"Willka Yaku\",\\n\"AAU\", \"Jet\", \"Phoenix\", \"Indus\", \"Palca\", \"Elqui\", \"Turranburra\",\n",
    "\n",
    "Distance modulus functions are from Li et al 2022, Table 1"
   ]
  },
  {
   "cell_type": "code",
   "execution_count": 8,
   "id": "a5e8f326-adea-49ff-9b17-5f50a8bfae45",
   "metadata": {
    "ExecuteTime": {
     "end_time": "2024-02-14T06:39:52.098276Z",
     "start_time": "2024-02-14T06:39:50.177546Z"
    }
   },
   "outputs": [
    {
     "name": "stderr",
     "output_type": "stream",
     "text": [
      "/usr/local/lib64/python3.9/site-packages/astropy/units/quantity.py:502: VisibleDeprecationWarning: Creating an ndarray from ragged nested sequences (which is a list-or-tuple of lists-or-tuples-or ndarrays with different lengths or shapes) is deprecated. If you meant to do this, you must specify 'dtype=object' when creating the ndarray.\n",
      "  value = np.array(value, dtype=dtype, copy=copy, order=order,\n"
     ]
    }
   ],
   "source": [
    "rows = []\n",
    "\n",
    "stream = mwstreams[\"Orphan-K19\"]\n",
    "track = stream.track.transform_to(stream.stream_frame.replicate_without_data())\n",
    "rows.append(\n",
    "    {\n",
    "        \"name\": \"OC\",\n",
    "        \"gs_track\": \"Orphan-K19\",\n",
    "        \"other_names\": [\"Orphan\", \"Chenab\"],\n",
    "        \"phi1\": track.phi1.wrap_at(180 * u.deg),\n",
    "        \"phi2\": track.phi2,\n",
    "        \"sky_track\": track,\n",
    "        \"sky_ref\": \"2019MNRAS.485.4726K\",\n",
    "        \"distmod\": track.distance.distmod.value,\n",
    "        \"dist_ref\": \"2019MNRAS.485.4726K\",\n",
    "        \"mass\": 4e6 * u.Msun,\n",
    "        \"mass_ref\": \"2019MNRAS.485.4726K\",\n",
    "    }\n",
    ")\n",
    "\n",
    "stream = mwstreams[\"300S-F18\"]\n",
    "track = stream.track.transform_to(stream.stream_frame)\n",
    "track_distmod = 48.9952 - 0.2083 * stream.track.ra.degree\n",
    "rows.append(\n",
    "    {\n",
    "        \"name\": \"300S\",\n",
    "        \"gs_track\": \"300S-F18\",\n",
    "        \"other_names\": [],\n",
    "        \"phi1\": track.phi1.wrap_at(180 * u.deg),\n",
    "        \"phi2\": track.phi2,\n",
    "        \"sky_track\": coord.SkyCoord(\n",
    "            phi1=track.phi1,\n",
    "            phi2=track.phi2,\n",
    "            distance=coord.Distance(distmod=track_distmod),\n",
    "            frame=stream.stream_frame.replicate_without_data(),\n",
    "        ),\n",
    "        \"sky_ref\": \"2018ApJ...866...42F\",\n",
    "        \"distmod\": track_distmod,\n",
    "        \"dist_ref\": \"2022ApJ...928...30L\",\n",
    "        \"mass\": 10**4.7 * u.Msun,\n",
    "        \"mass_ref\": \"2024MNRAS.tmp..241U\",\n",
    "    }\n",
    ")\n",
    "\n",
    "# ---\n",
    "stream = mwstreams[\"Willka_Yaku-S18\"]\n",
    "track = stream.track.transform_to(stream.stream_frame)\n",
    "track_distmod = np.full(len(track), 17.8)\n",
    "rows.append(\n",
    "    {\n",
    "        \"name\": \"Willka Yaku\",\n",
    "        \"gs_track\": \"Willka_Yaku-S18\",\n",
    "        \"other_names\": [\"Willka_Yaku\"],\n",
    "        \"phi1\": track.phi1.wrap_at(180 * u.deg),\n",
    "        \"phi2\": track.phi2,\n",
    "        \"sky_track\": coord.SkyCoord(\n",
    "            phi1=track.phi1,\n",
    "            phi2=track.phi2,\n",
    "            distance=coord.Distance(distmod=track_distmod),\n",
    "            frame=stream.stream_frame.replicate_without_data(),\n",
    "        ),\n",
    "        \"sky_ref\": \"2018ApJ...862..114S\",\n",
    "        \"distmod\": track_distmod,\n",
    "        \"dist_ref\": \"2022ApJ...928...30L\",\n",
    "        \"mass\": 14e4 * u.Msun,\n",
    "        \"mass_ref\": \"2018ApJ...862..114S\",  # shipp 2018\n",
    "    }\n",
    ")\n",
    "\n",
    "# ---\n",
    "stream = mwstreams[\"AAU-ATLAS-L21\"]\n",
    "track_phi1 = np.concatenate(\n",
    "    (\n",
    "        mwstreams[\"AAU-ATLAS-L21\"]\n",
    "        .track.transform_to(mwstreams[\"AAU-ATLAS-L21\"].stream_frame)\n",
    "        .phi1.wrap_at(180 * u.deg)\n",
    "        .degree,\n",
    "        mwstreams[\"AAU-AliqaUma-L21\"]\n",
    "        .track.transform_to(mwstreams[\"AAU-ATLAS-L21\"].stream_frame)\n",
    "        .phi1.wrap_at(180 * u.deg)\n",
    "        .degree,\n",
    "    )\n",
    ")\n",
    "track_phi2 = np.concatenate(\n",
    "    (\n",
    "        mwstreams[\"AAU-ATLAS-L21\"]\n",
    "        .track.transform_to(mwstreams[\"AAU-ATLAS-L21\"].stream_frame)\n",
    "        .phi2.degree,\n",
    "        mwstreams[\"AAU-AliqaUma-L21\"]\n",
    "        .track.transform_to(mwstreams[\"AAU-ATLAS-L21\"].stream_frame)\n",
    "        .phi2.degree,\n",
    "    )\n",
    ")\n",
    "track_distmod = 16.67 - 0.034 * track_phi1\n",
    "rows.append(\n",
    "    {\n",
    "        \"name\": \"AAU\",\n",
    "        \"gs_track\": \"AAU-ATLAS-L21\",\n",
    "        \"other_names\": [\"ATLAS\", \"Aliqa Uma\"],\n",
    "        \"phi1\": track_phi1 * u.deg,\n",
    "        \"phi2\": track_phi2 * u.deg,\n",
    "        \"sky_track\": coord.SkyCoord(\n",
    "            phi1=track_phi1 * u.deg,\n",
    "            phi2=track_phi2 * u.deg,\n",
    "            distance=coord.Distance(distmod=track_distmod),\n",
    "            frame=mwstreams[\"AAU-ATLAS-L21\"].stream_frame.replicate_without_data(),\n",
    "        ),\n",
    "        \"sky_ref\": \"2021ApJ...911..149L\",\n",
    "        \"distmod\": track_distmod,\n",
    "        \"dist_ref\": \"2022ApJ...928...30L\",\n",
    "        \"mass\": (12e4 + 18e4) * u.Msun,  # Shipp+2018\n",
    "        \"mass_ref\": \"2018ApJ...862..114S\",\n",
    "    }\n",
    ")\n",
    "\n",
    "distmod_trends = {\n",
    "    \"Jet-F22\": lambda x: 17.45 - 0.014 * x,\n",
    "    \"Phoenix-S19\": lambda x: 16.26 + 0.008 * x,\n",
    "    \"Indus-S19\": lambda x: 15.90 - 0.016 * x,\n",
    "    \"Palca-S18\": lambda x: np.full_like(x, 17.8),\n",
    "    \"Elqui-S19\": lambda x: 18.48 - 0.043 * x,\n",
    "    \"Turranburra-S19\": lambda x: np.full_like(x, 17.1),\n",
    "}\n",
    "ref_to_bibcode = {\n",
    "    \"shipp2018\": \"2018ApJ...862..114S\",\n",
    "    \"shipp2019\": \"2019ApJ...885....3S\",\n",
    "    \"ferguson2022\": \"2022AJ....163...18F\",\n",
    "}\n",
    "masses = {\n",
    "    \"Jet-F22\": (2.5e4, \"2018MNRAS.480.5342J\"),\n",
    "    \"Phoenix-S19\": (3e4, \"2018ApJ...862..114S\"),\n",
    "    \"Indus-S19\": (650e4, \"2018ApJ...862..114S\"),\n",
    "    \"Palca-S18\": (1e6, \"2022A&A...660A..29T\"),\n",
    "    \"Elqui-S19\": (320e4, \"2018ApJ...862..114S\"),\n",
    "    \"Turranburra-S19\": (180e4, \"2018ApJ...862..114S\"),\n",
    "}\n",
    "for key, trend in distmod_trends.items():\n",
    "    stream = mwstreams[key]\n",
    "    name = key.split(\"-\")[0]\n",
    "    track = stream.track.transform_to(stream.stream_frame.replicate_without_data())\n",
    "    track_phi1 = track.phi1.wrap_at(180 * u.deg).degree\n",
    "    rows.append(\n",
    "        {\n",
    "            \"name\": name,\n",
    "            \"gs_track\": key,\n",
    "            \"other_names\": [] if name != \"Palca\" else [\"Cetus\"],\n",
    "            \"phi1\": track_phi1 * u.degree,\n",
    "            \"phi2\": track.phi2,\n",
    "            \"sky_track\": coord.SkyCoord(\n",
    "                phi1=track.phi1,\n",
    "                phi2=track.phi2,\n",
    "                distance=coord.Distance(distmod=trend(track_phi1)),\n",
    "                frame=stream.stream_frame,\n",
    "            ),\n",
    "            \"sky_ref\": ref_to_bibcode.get(stream.ref, stream.ref),\n",
    "            \"distmod\": trend(track_phi1),\n",
    "            \"dist_ref\": \"2022ApJ...928...30L\",\n",
    "            \"mass\": masses[key][0] * u.Msun,\n",
    "            \"mass_ref\": masses[key][1],\n",
    "        }\n",
    "    )\n",
    "\n",
    "s5_data = at.QTable(rows)"
   ]
  },
  {
   "cell_type": "markdown",
   "id": "bc842861-b11a-4214-808b-0cf49a03a108",
   "metadata": {},
   "source": [
    "# Orbit fitting\n",
    "\n",
    "We fit orbits to the Ibata streams to determine distance tracks:"
   ]
  },
  {
   "cell_type": "code",
   "execution_count": 9,
   "id": "e1b7512f-f714-43a0-a987-aae8ce1da7e6",
   "metadata": {
    "ExecuteTime": {
     "end_time": "2024-02-14T06:40:00.149622Z",
     "start_time": "2024-02-14T06:40:00.005552Z"
    },
    "execution": {
     "iopub.execute_input": "2024-01-31T22:00:36.763796Z",
     "iopub.status.busy": "2024-01-31T22:00:36.763328Z",
     "iopub.status.idle": "2024-01-31T22:00:36.817163Z",
     "shell.execute_reply": "2024-01-31T22:00:36.816748Z",
     "shell.execute_reply.started": "2024-01-31T22:00:36.763753Z"
    }
   },
   "outputs": [],
   "source": [
    "data_file = pathlib.Path(\"../data/stream-orbit-fits.pkl\")\n",
    "\n",
    "if not data_file.exists():\n",
    "    orbitfit_data = {}\n",
    "\n",
    "    for sid in tqdm(np.unique(ibata_tbl[\"sID\"])):\n",
    "        print(sid, sID_to_name[sid])\n",
    "        mask = ibata_tbl[\"sID\"] == sid\n",
    "        orbitfit_data[sid] = run_orbit_fit(sid, ibata_g[mask], ibata_c[mask])\n",
    "\n",
    "    with open(data_file, \"wb\") as f:\n",
    "        pickle.dump(orbitfit_data, f)\n",
    "\n",
    "else:\n",
    "    with open(data_file, \"rb\") as f:\n",
    "        orbitfit_data = pickle.load(f)"
   ]
  },
  {
   "cell_type": "code",
   "execution_count": 10,
   "id": "b140794b-f891-46bc-b8ef-763daaaa0d33",
   "metadata": {
    "ExecuteTime": {
     "end_time": "2024-02-14T06:40:01.066246Z",
     "start_time": "2024-02-14T06:40:01.047367Z"
    }
   },
   "outputs": [],
   "source": [
    "# plot_path = pathlib.Path(\"../plots\").resolve()\n",
    "# plot_path.mkdir(exist_ok=True)\n",
    "\n",
    "# for sid, this_data in all_data.items():\n",
    "#     fig, _ = make_components_plot(\n",
    "#         this_data[\"orbit\"],\n",
    "#         this_data[\"orbit_fr\"],\n",
    "#         this_data[\"c_fr\"],\n",
    "#         this_data[\"obj_data\"],\n",
    "#     )\n",
    "#     fig.suptitle(sID_to_name[sid], fontsize=20)\n",
    "#     fig.savefig(plot_path / f\"stream-{sid:04d}-orbitfit.png\", dpi=200)\n",
    "#     plt.close(fig)"
   ]
  },
  {
   "cell_type": "code",
   "execution_count": 11,
   "id": "94741833",
   "metadata": {
    "ExecuteTime": {
     "end_time": "2024-02-14T06:40:01.815980Z",
     "start_time": "2024-02-14T06:40:01.794480Z"
    }
   },
   "outputs": [
    {
     "name": "stdout",
     "output_type": "stream",
     "text": [
      "21 New-6\n",
      "28 New-9\n",
      "48 Orphan\n",
      "77 NGC7099\n",
      "80 New-25\n"
     ]
    }
   ],
   "source": [
    "ibata_fit_tbl = at.Table(\n",
    "    [\n",
    "        {\"sID\": sid, \"name\": sID_to_name[sid], **d[\"p\"]}\n",
    "        for sid, d in orbitfit_data.items()\n",
    "    ]\n",
    ")\n",
    "\n",
    "failed_sIDs = [\n",
    "    21,\n",
    "    28,\n",
    "    48,  # Orphan\n",
    "    77,\n",
    "    80,\n",
    "]\n",
    "for num in failed_sIDs:\n",
    "    print(num, sID_to_name[num])\n",
    "\n",
    "ibata_fit_tbl = ibata_fit_tbl[~np.isin(ibata_fit_tbl[\"sID\"], failed_sIDs)]"
   ]
  },
  {
   "cell_type": "markdown",
   "id": "bf78316e",
   "metadata": {},
   "source": [
    "# Data tables\n",
    "\n",
    "\n",
    "## Internal data table: \n",
    "- Name\n",
    "- sID in Ibata\n",
    "- preferred galstreams track name\n",
    "- sky track \n",
    "- dist/distmod track either from orbit fit or from source\n",
    "- sky polygon\n",
    "- stellar mass\n",
    "- sources for all\n",
    "\n",
    "Precedence is:\n",
    "- S5\n",
    "- Ibata atlas\n",
    "- Galstreams\n"
   ]
  },
  {
   "cell_type": "code",
   "execution_count": 12,
   "id": "deed8576",
   "metadata": {
    "ExecuteTime": {
     "end_time": "2024-02-14T06:40:09.286371Z",
     "start_time": "2024-02-14T06:40:04.203691Z"
    }
   },
   "outputs": [],
   "source": [
    "internal_data_rows = []\n",
    "\n",
    "for tmp_row in s5_data:\n",
    "    row = {}\n",
    "    row[\"name\"] = tmp_row[\"name\"]\n",
    "    row[\"other_names\"] = tmp_row[\"other_names\"]\n",
    "    row[\"galstreams_track_name\"] = tmp_row[\"gs_track\"]\n",
    "\n",
    "    row[\"track\"] = tmp_row[\"sky_track\"]\n",
    "    row[\"sky_track_ref\"] = tmp_row[\"sky_ref\"]\n",
    "    row[\"dist_track_ref\"] = tmp_row[\"dist_ref\"]\n",
    "\n",
    "    row[\"stellar_mass\"] = tmp_row[\"mass\"]\n",
    "    row[\"stellar_mass_ref\"] = tmp_row[\"mass_ref\"]\n",
    "\n",
    "    # Sky polygon:\n",
    "    if row[\"name\"] == \"AAU\":\n",
    "        # Special case: get sky track for AAU from Ibata member stars\n",
    "        d = orbitfit_data[name_to_sID[\"ATLAS\"]]\n",
    "        _, row[\"sky_poly\"] = make_ibata_poly_nodes(d[\"c_fr\"])\n",
    "\n",
    "    else:\n",
    "        row[\"sky_poly\"] = get_full_galstreams_poly(\n",
    "            mwstreams[tmp_row[\"gs_track\"]].poly_sc\n",
    "        )\n",
    "\n",
    "    internal_data_rows.append(row)\n",
    "\n",
    "internal_data = at.QTable(internal_data_rows)"
   ]
  },
  {
   "cell_type": "markdown",
   "id": "7d011a04",
   "metadata": {},
   "source": [
    "Now match S5 streams to Ibata atlas stream IDs:"
   ]
  },
  {
   "cell_type": "code",
   "execution_count": 13,
   "id": "eea6a69a",
   "metadata": {
    "ExecuteTime": {
     "end_time": "2024-02-14T06:40:11.872021Z",
     "start_time": "2024-02-14T06:40:11.850100Z"
    }
   },
   "outputs": [],
   "source": [
    "ibata_names = np.asarray(np.unique(ibata_tbl[\"name\"]))\n",
    "ibata_sIDs = []\n",
    "for row in internal_data:\n",
    "    row_names = [row[\"name\"]] + row[\"other_names\"]\n",
    "    for name in row_names:\n",
    "        if name in ibata_names:\n",
    "            sID = name_to_sID[name]\n",
    "            break\n",
    "    else:\n",
    "        sID = 0\n",
    "    ibata_sIDs.append(sID)\n",
    "internal_data[\"ibata2023_sID\"] = ibata_sIDs"
   ]
  },
  {
   "cell_type": "code",
   "execution_count": 14,
   "id": "c295d89d",
   "metadata": {
    "ExecuteTime": {
     "end_time": "2024-02-14T06:40:12.741520Z",
     "start_time": "2024-02-14T06:40:12.725711Z"
    }
   },
   "outputs": [],
   "source": [
    "ibata_to_galstreams = {\n",
    "    \"Tuc3\": \"TucanaIII\",\n",
    "    \"NGC7099\": \"M30\",\n",
    "    \"M5\": \"NGC5904\",\n",
    "    \"M92\": \"NGC6341\",\n",
    "}"
   ]
  },
  {
   "cell_type": "code",
   "execution_count": 15,
   "id": "e29d6b0b",
   "metadata": {
    "ExecuteTime": {
     "end_time": "2024-02-14T06:40:29.309138Z",
     "start_time": "2024-02-14T06:40:13.457230Z"
    }
   },
   "outputs": [
    {
     "name": "stdout",
     "output_type": "stream",
     "text": [
      "Initializing galstreams library from master_log... \n"
     ]
    }
   ],
   "source": [
    "for name in ibata_names:\n",
    "    sID = name_to_sID[name]\n",
    "    if sID in internal_data[\"ibata2023_sID\"]:\n",
    "        continue\n",
    "\n",
    "    row = {}\n",
    "    row[\"name\"] = name\n",
    "    row[\"other_names\"] = (\n",
    "        [] if name not in ibata_to_galstreams else [ibata_to_galstreams[name]]\n",
    "    )\n",
    "\n",
    "    track_name, _ = get_default_track_for_stream(name)\n",
    "    if track_name is None:\n",
    "        track_name, _ = get_default_track_for_stream(\n",
    "            ibata_to_galstreams.get(name, name)\n",
    "        )\n",
    "    row[\"galstreams_track_name\"] = track_name if track_name is not None else \"\"\n",
    "    row[\"ibata2023_sID\"] = sID\n",
    "\n",
    "    if sID in failed_sIDs or sID not in orbitfit_data:\n",
    "        continue\n",
    "\n",
    "    this_data = orbitfit_data[sID]\n",
    "    sky_track, row[\"sky_poly\"] = make_ibata_poly_nodes(this_data[\"c_fr\"])\n",
    "\n",
    "    x = this_data[\"orbit_fr\"].phi1.degree\n",
    "    spl = InterpolatedUnivariateSpline(\n",
    "        x[np.argsort(x)], this_data[\"orbit_fr\"].distance.kpc[np.argsort(x)], k=3\n",
    "    )\n",
    "\n",
    "    row[\"track\"] = coord.SkyCoord(\n",
    "        phi1=sky_track.phi1,\n",
    "        phi2=sky_track.phi2,\n",
    "        distance=spl(sky_track.phi1.degree) * u.kpc,\n",
    "        frame=sky_track.frame.replicate_without_data(),\n",
    "    )\n",
    "    row[\"sky_track_ref\"] = \"2023arXiv231117202I\"\n",
    "    row[\"dist_track_ref\"] = \"\"  # TODO: this paper\n",
    "\n",
    "    # Estimate stellar mass using an isochrone:\n",
    "    DM = np.mean(row[\"track\"].distance.distmod.value)\n",
    "    MSTO_r = DM + MSTO_absmag\n",
    "\n",
    "    idx = np.where((iso[\"G\"] + DM) < 20.0)[0]\n",
    "    dIMF = iso[\"int_IMF\"][idx[-1]] - iso[\"int_IMF\"][idx[0]]\n",
    "    M = 2.0 * len(d[\"c_fr\"]) / dIMF\n",
    "\n",
    "    row[\"stellar_mass\"] = M * u.Msun\n",
    "    row[\"stellar_mass_ref\"] = \"\"  # TODO: this paper\n",
    "\n",
    "    internal_data.add_row(row)"
   ]
  },
  {
   "cell_type": "markdown",
   "id": "bfd5e9c4",
   "metadata": {},
   "source": [
    "Now find all other streams in Galstreams that are not already in our internal table:"
   ]
  },
  {
   "cell_type": "code",
   "execution_count": 16,
   "id": "e7b9f500",
   "metadata": {
    "ExecuteTime": {
     "end_time": "2024-02-14T06:40:32.093399Z",
     "start_time": "2024-02-14T06:40:32.072927Z"
    }
   },
   "outputs": [],
   "source": [
    "galstreams_masses = {\n",
    "    \"20.0-1\": (1e5 * u.Msun, \"mateu2018\"),  # Estimate based on MV=-7.3,\n",
    "    \"Corvus\": (1e5 * u.Msun, \"mateu2018\"),  # Estimate based on MV=-7.5,\n",
    "    \"PS1-A\": (0.22e3 * 2 * u.Msun, \"bernard2016\"),  # M/L = 2\n",
    "    \"PS1-B\": (1.2e3 * 2 * u.Msun, \"bernard2016\"),\n",
    "    \"PS1-C\": (1e3 * 2 * u.Msun, \"bernard2016\"),\n",
    "    \"PS1-D\": (7.5e3 * 2 * u.Msun, \"bernard2016\"),\n",
    "    \"PS1-E\": (0.5e3 * 2 * u.Msun, \"bernard2016\"),\n",
    "    \"Pal13\": (1.4e3 * 2 * u.Msun, \"shipp2020\"),  # M/L = 2, Lv in tails from RRL\n",
    "    \"Pegasus\": (2e3 * 2 * u.Msun, \"perottoni2019\"),  # M/L = 2\n",
    "    \"Ravi\": (1e4 * u.Msun, \"shipp2018\"),\n",
    "    \"Turbio\": (3.5e3 * u.Msun, \"shipp2018\"),\n",
    "    \"Wambelong\": (1.6e3 * u.Msun, \"shipp2018\"),\n",
    "}\n",
    "\n",
    "# No reported masses:\n",
    "# Grillmair 2009: Acheron, Cocytos, Lethe, Styx\n",
    "# Grillmair 2013: Alpheus\n",
    "# Williams+2011: Aquarius\n",
    "# Ibata+2021: C-4, C-5, C-8, Gaia-2, Gaia-3, Gaia-4, Gaia-5, Gunnthra, M2\n",
    "# Myeong+2017: Eridanus, Pal15\n",
    "# Grillmair 2014: Hermus, Hyllus\n",
    "# Sollima 2020: M30, NGC6362\n",
    "# Grillmair 2017a: Sangarius, Scamander\n",
    "# Grillmair 2017b: Murrumbidgee, Molonglo, Orinoco, Kwando\n",
    "# Bonaca+2012: Tri-Pis\n",
    "# Weiss+2018: Parallel, Perpendicular"
   ]
  },
  {
   "cell_type": "code",
   "execution_count": 17,
   "id": "1cd43e03",
   "metadata": {
    "ExecuteTime": {
     "end_time": "2024-02-14T06:40:36.160013Z",
     "start_time": "2024-02-14T06:40:35.625353Z"
    }
   },
   "outputs": [],
   "source": [
    "gs_to_internal_name = {\n",
    "    \"AAU-ATLAS\": \"AAU\",\n",
    "    \"AAU-AliqaUma\": \"AAU\",\n",
    "    \"M68-Fjorm\": \"Fjorm\",\n",
    "    \"NGC3201-Gjoll\": \"Gjoll\",\n",
    "    \"OmegaCen-Fimbulthul\": \"Fimbulthul\",\n",
    "    \"Orphan-Chenab\": \"OC\",\n",
    "    \"TucanaIII\": \"Tuc3\",\n",
    "    \"Jhelum-a\": \"Jhelum\",\n",
    "    \"Jhelum-b\": \"Jhelum\",\n",
    "}\n",
    "\n",
    "galstreams_default_tracks = np.array(list(mwstreams.keys()))\n",
    "galstreams_names = np.array(\n",
    "    [\n",
    "        x\n",
    "        for x in mwstreams.all_unique_stream_names()\n",
    "        if x not in [\"Cetus-New\", \"Cetus-Palca\", \"ACS\", \"Monoceros\", \"Sagittarius\"]\n",
    "    ]\n",
    ")\n",
    "\n",
    "_all_internal_names = np.concatenate(\n",
    "    (internal_data[\"name\"], [x for y in internal_data[\"other_names\"] for x in y])\n",
    ")\n",
    "for name in galstreams_names:\n",
    "    if gs_to_internal_name.get(name, name) in _all_internal_names:\n",
    "        continue\n",
    "\n",
    "    row = {}\n",
    "    row[\"name\"] = name\n",
    "    row[\"other_names\"] = []\n",
    "\n",
    "    track_name, stream = get_default_track_for_stream(name)\n",
    "    row[\"galstreams_track_name\"] = track_name if track_name is not None else \"\"\n",
    "\n",
    "    row[\"sky_poly\"] = get_full_galstreams_poly(stream.poly_sc)\n",
    "    row[\"track\"] = stream.track.transform_to(\n",
    "        stream.stream_frame.replicate_without_data()\n",
    "    )\n",
    "    row[\"sky_track_ref\"] = stream.ref\n",
    "    row[\"dist_track_ref\"] = stream.ref\n",
    "\n",
    "    if name in galstreams_masses:\n",
    "        row[\"stellar_mass\"] = galstreams_masses[name][0]\n",
    "        row[\"stellar_mass_ref\"] = galstreams_masses[name][1]\n",
    "    else:\n",
    "        row[\"stellar_mass\"] = np.nan * u.Msun\n",
    "        row[\"stellar_mass_ref\"] = \"\"\n",
    "\n",
    "    internal_data.add_row(row)"
   ]
  },
  {
   "cell_type": "markdown",
   "id": "3f304f1c",
   "metadata": {},
   "source": [
    "Final adjustments to fill in values in columns:"
   ]
  },
  {
   "cell_type": "code",
   "execution_count": 18,
   "id": "98cc2124",
   "metadata": {
    "ExecuteTime": {
     "end_time": "2024-02-14T06:40:37.314950Z",
     "start_time": "2024-02-14T06:40:37.294695Z"
    }
   },
   "outputs": [],
   "source": [
    "paper_to_bibcode = {\n",
    "    \"bernard2016\": \"2016MNRAS.463.1759B\",\n",
    "    \"bonaca2012\": \"2012ApJ...760L...6B\",\n",
    "    \"grillmair2009\": \"2009ApJ...693.1118G\",\n",
    "    \"grillmair2013\": \"2013ApJ...769L..23G\",\n",
    "    \"grillmair2014\": \"2014ApJ...790L..10G\",\n",
    "    \"grillmair2017\": \"2017ApJ...834...98G\",\n",
    "    \"grillmair2017b\": \"2017ApJ...847..119G\",\n",
    "    \"ibata2021\": \"2021ApJ...914..123I\",\n",
    "    \"malhan2018\": \"2018MNRAS.481.3442M\",\n",
    "    \"mateu2018\": \"2018MNRAS.474.4112M\",\n",
    "    \"myeong2017\": \"2017MNRAS.469L..78M\",\n",
    "    \"perottoni2019\": \"2019MNRAS.486..843P\",\n",
    "    \"shipp2018\": \"2018ApJ...862..114S\",\n",
    "    \"shipp2020\": \"2020AJ....160..244S\",\n",
    "    \"sollima2020\": \"2020MNRAS.495.2222S\",\n",
    "    \"weiss2018\": \"2018ApJ...867L...1W\",\n",
    "    \"williams2011\": \"2011ApJ...728..102W\",\n",
    "}\n",
    "for colname in [\"sky_track_ref\", \"dist_track_ref\", \"stellar_mass_ref\"]:\n",
    "    internal_data[colname] = [\n",
    "        paper_to_bibcode.get(x, x) for x in internal_data[colname]\n",
    "    ]"
   ]
  },
  {
   "cell_type": "markdown",
   "id": "49213090",
   "metadata": {},
   "source": [
    "## Discovery methods"
   ]
  },
  {
   "cell_type": "code",
   "execution_count": 19,
   "id": "b6ae4074",
   "metadata": {
    "ExecuteTime": {
     "end_time": "2024-02-14T06:40:39.253309Z",
     "start_time": "2024-02-14T06:40:39.228380Z"
    }
   },
   "outputs": [],
   "source": [
    "discovery_method = {\n",
    "    \"Acheron\": \"photometry\",\n",
    "    \"Styx\": \"photometry\",\n",
    "    \"Cocytos\": \"photometry\",\n",
    "    \"Lethe\": \"photometry\",\n",
    "    \"Aquarius\": \"photometry\",\n",
    "    \"Tri-Pis\": \"photometry\",\n",
    "    \"Alpheus\": \"photometry\",\n",
    "    \"Hermus\": \"photometry\",\n",
    "    \"Hyllus\": \"photometry\",\n",
    "    \"PS1-C\": \"photometry\",\n",
    "    \"PS1-D\": \"photometry\",\n",
    "    \"PS1-E\": \"photometry\",\n",
    "    \"PS1-A\": \"photometry\",\n",
    "    \"PS1-B\": \"photometry\",\n",
    "    \"Orinoco\": \"photometry\",\n",
    "    \"Sangarius\": \"photometry\",\n",
    "    \"Scamander\": \"photometry\",\n",
    "    \"Molonglo\": \"photometry\",\n",
    "    \"Murrumbidgee\": \"photometry\",\n",
    "    \"Pal15\": \"photometry\",\n",
    "    \"Eridanus\": \"photometry\",\n",
    "    \"Wambelong\": \"photometry\",\n",
    "    \"Ravi\": \"photometry\",\n",
    "    \"Palca\": \"photometry\",\n",
    "    \"Willka Yaku\": \"photometry\",\n",
    "    \"Turbio\": \"photometry\",\n",
    "    \"300S\": \"photometry\",\n",
    "    \"Parallel\": \"photometry\",\n",
    "    \"Perpendicular\": \"photometry\",\n",
    "    \"Corvus\": \"rrl\",\n",
    "    \"20.0-1\": \"rrl\",\n",
    "    \"Gaia-5\": \"streamfinder\",\n",
    "    \"Gaia-4\": \"streamfinder\",\n",
    "    \"Gaia-3\": \"streamfinder\",\n",
    "    \"Turranburra\": \"photometry\",\n",
    "    \"Elqui\": \"photometry\",\n",
    "    \"Indus\": \"photometry\",\n",
    "    \"Phoenix\": \"photometry\",\n",
    "    \"OC\": \"photometry\",\n",
    "    \"Pegasus\": \"photometry\",\n",
    "    \"Pal13\": \"photometry\",\n",
    "    \"M30\": \"photometry\",\n",
    "    \"NGC6362\": \"astrometry\",\n",
    "    \"AAU\": \"photometry\",\n",
    "    \"M2\": \"streamfinder\",\n",
    "    \"Gaia-2\": \"streamfinder\",\n",
    "    \"C-8\": \"streamfinder\",\n",
    "    \"C-5\": \"streamfinder\",\n",
    "    \"C-4\": \"streamfinder\",\n",
    "    \"Gunnthra\": \"streamfinder\",\n",
    "    \"Jet\": \"photometry\",\n",
    "    \"Gjoll\": \"streamfinder\",\n",
    "    \"Gaia-10\": \"streamfinder\",\n",
    "    \"Hrid\": \"streamfinder\",\n",
    "    \"Hydrus\": \"photometry\",\n",
    "    \"Gaia-8\": \"streamfinder\",\n",
    "    \"Gaia-7\": \"streamfinder\",\n",
    "    \"Gaia-6\": \"streamfinder\",\n",
    "    \"Ylgr\": \"streamfinder\",\n",
    "    \"Tuc3\": \"photometry\",\n",
    "    \"Gaia-12\": \"streamfinder\",\n",
    "    \"Gaia-11\": \"streamfinder\",\n",
    "    \"Gaia-9\": \"streamfinder\",\n",
    "    \"Kwando\": \"photometry\",\n",
    "    \"GD-1\": \"photometry\",\n",
    "    \"C-10\": \"streamfinder\",\n",
    "    \"C-11\": \"streamfinder\",\n",
    "    \"C-12\": \"streamfinder\",\n",
    "    \"C-13\": \"streamfinder\",\n",
    "    \"C-19\": \"streamfinder\",\n",
    "    \"C-20\": \"streamfinder\",\n",
    "    \"C-22\": \"streamfinder\",\n",
    "    \"Gaia-1\": \"streamfinder\",\n",
    "    \"C-23\": \"streamfinder\",\n",
    "    \"C-25\": \"streamfinder\",\n",
    "    \"C-7\": \"streamfinder\",\n",
    "    \"C-9\": \"streamfinder\",\n",
    "    \"Fimbulthul\": \"streamfinder\",\n",
    "    \"Fimbulthul-S\": \"streamfinder\",\n",
    "    \"Sylgr\": \"streamfinder\",\n",
    "    \"Fjorm\": \"streamfinder\",\n",
    "    \"C-24\": \"streamfinder\",\n",
    "    \"Svol\": \"streamfinder\",\n",
    "    \"Slidr\": \"streamfinder\",\n",
    "    \"Phlegethon\": \"streamfinder\",\n",
    "    \"New-11\": \"streamfinder\",\n",
    "    \"New-10\": \"streamfinder\",\n",
    "    \"New-1\": \"streamfinder\",\n",
    "    \"NGC7492\": \"streamfinder\",\n",
    "    \"NGC7089\": \"streamfinder\",\n",
    "    \"NGC6397\": \"streamfinder\",\n",
    "    \"NGC6101\": \"streamfinder\",\n",
    "    \"NGC5466\": \"photometry\",\n",
    "    \"NGC288\": \"astrometry\",\n",
    "    \"NGC2808\": \"streamfinder\",\n",
    "    \"NGC2298\": \"astrometry\",\n",
    "    \"NGC1851\": \"streamfinder\",\n",
    "    \"NGC1261b\": \"streamfinder\",\n",
    "    \"NGC1261a\": \"streamfinder\",\n",
    "    \"NGC1261\": \"streamfinder\",\n",
    "    \"M92\": \"astrometry\",\n",
    "    \"M5\": \"photometry\",\n",
    "    \"Leiptr\": \"streamfinder\",\n",
    "    \"LMS-1\": \"iom-clustering\",\n",
    "    \"New-12\": \"streamfinder\",\n",
    "    \"Kshir\": \"streamfinder\",\n",
    "    \"New-13\": \"streamfinder\",\n",
    "    \"New-15\": \"streamfinder\",\n",
    "    \"Pal5\": \"photometry\",\n",
    "    \"Ophiuchus\": \"photometry\",\n",
    "    \"New-8\": \"streamfinder\",\n",
    "    \"New-7\": \"streamfinder\",\n",
    "    \"New-5\": \"streamfinder\",\n",
    "    \"New-4\": \"streamfinder\",\n",
    "    \"New-3\": \"streamfinder\",\n",
    "    \"New-28\": \"streamfinder\",\n",
    "    \"New-27\": \"streamfinder\",\n",
    "    \"New-26\": \"streamfinder\",\n",
    "    \"New-24\": \"streamfinder\",\n",
    "    \"New-23\": \"streamfinder\",\n",
    "    \"New-22\": \"streamfinder\",\n",
    "    \"New-21\": \"streamfinder\",\n",
    "    \"New-20\": \"streamfinder\",\n",
    "    \"New-2\": \"streamfinder\",\n",
    "    \"New-19\": \"streamfinder\",\n",
    "    \"Jhelum\": \"photometry\",\n",
    "    \"New-16\": \"streamfinder\",\n",
    "    \"New-14\": \"streamfinder\",\n",
    "    \"New-17\": \"streamfinder\",\n",
    "}\n",
    "discovery_method = at.Table(\n",
    "    {\n",
    "        \"name\": list(discovery_method.keys()),\n",
    "        \"discovery_method\": list(discovery_method.values()),\n",
    "    }\n",
    ")"
   ]
  },
  {
   "cell_type": "code",
   "execution_count": 20,
   "id": "71f87a11",
   "metadata": {
    "ExecuteTime": {
     "end_time": "2024-02-14T06:40:40.527435Z",
     "start_time": "2024-02-14T06:40:40.506763Z"
    }
   },
   "outputs": [],
   "source": [
    "internal_data = at.join(internal_data, discovery_method, keys=\"name\", join_type=\"left\")"
   ]
  },
  {
   "cell_type": "code",
   "execution_count": 21,
   "id": "cab1c1df-4c16-4ea8-8129-84363327c232",
   "metadata": {
    "ExecuteTime": {
     "end_time": "2024-02-14T06:40:41.708342Z",
     "start_time": "2024-02-14T06:40:41.650800Z"
    }
   },
   "outputs": [],
   "source": [
    "with open(\"../data/all_stream_summary_data.pkl\", \"wb\") as f:\n",
    "    pickle.dump(internal_data, f)"
   ]
  },
  {
   "cell_type": "markdown",
   "id": "db9edf66",
   "metadata": {},
   "source": [
    "## Main Summary Table\n",
    "\n",
    "- name\n",
    "- phi1,2 = (0, 0) in ICRS coords\n",
    "- length\n",
    "- distmod (dist)\n",
    "- range of distmod (dist)\n",
    "- stellar mass\n",
    "- found with gaia y/n\n",
    "- spec follow up y/n\n",
    "- associated with progenitor y/n"
   ]
  },
  {
   "cell_type": "code",
   "execution_count": 26,
   "id": "50bbfbe7",
   "metadata": {
    "ExecuteTime": {
     "end_time": "2024-02-14T06:42:53.547491Z",
     "start_time": "2024-02-14T06:42:52.587621Z"
    }
   },
   "outputs": [],
   "source": [
    "summary_table = []\n",
    "for irow in internal_data:\n",
    "    row = {}\n",
    "    row[\"Name\"] = irow[\"name\"]\n",
    "\n",
    "    frame = irow[\"track\"].frame.replicate_without_data()\n",
    "\n",
    "    _sort_idx = np.argsort(irow[\"track\"].phi1.degree)\n",
    "    dist_spl = InterpolatedUnivariateSpline(\n",
    "        irow[\"track\"].phi1.degree[_sort_idx], irow[\"track\"].distance.kpc[_sort_idx], k=3\n",
    "    )\n",
    "    origin_c = coord.SkyCoord(\n",
    "        phi1=0 * u.deg, phi2=0 * u.deg, distance=np.abs(dist_spl(0.0)) * u.kpc, frame=frame\n",
    "    )\n",
    "    origin_c = origin_c.transform_to(coord.ICRS())\n",
    "    galcen = origin_c.transform_to(coord.Galactocentric())\n",
    "    row[\"Origin RA\"] = origin_c.ra\n",
    "    row[\"Origin Dec.\"] = origin_c.dec\n",
    "\n",
    "    # dhelio_name = \"Origin Helio. Dist.\"\n",
    "    dhelio_name = r\"$D_{\\rm hel}$\"\n",
    "    row[dhelio_name] = origin_c.distance.view(u.Quantity)\n",
    "\n",
    "    # rgal_name = \"Origin Gal. Radius\"\n",
    "    rgal_name = r\"$r_{\\rm gal}$\"\n",
    "    row[rgal_name] = np.squeeze(np.linalg.norm(galcen.data.xyz))\n",
    "\n",
    "    # if np.isclose(irow[\"track\"].distance.kpc.min(), irow[\"track\"].distance.kpc.max()):\n",
    "    #     row[\"Min. Dist.\"] = np.nan * u.kpc\n",
    "    #     row[\"Max. Dist.\"] = np.nan * u.kpc\n",
    "    # else:\n",
    "    #     row[\"Min. Dist.\"] = irow[\"track\"].distance.min().view(u.Quantity)\n",
    "    #     row[\"Max. Dist.\"] = irow[\"track\"].distance.max().view(u.Quantity)\n",
    "\n",
    "    row[\"Length\"] = irow[\"track\"].phi1.max() - irow[\"track\"].phi1.min()\n",
    "    row[\"Width\"] = 0.0 * u.deg  # TODO\n",
    "    row[\"Reference\"] = irow[\"sky_track_ref\"]\n",
    "\n",
    "    row[\"Stellar Mass\"] = irow[\"stellar_mass\"]\n",
    "    if irow[\"stellar_mass_ref\"] != \"\" or np.isnan(irow[\"stellar_mass\"]):\n",
    "        row[\"Stellar Mass Ref.\"] = irow[\"stellar_mass_ref\"]\n",
    "    else:\n",
    "        row[\"Stellar Mass Ref.\"] = \"this work\"\n",
    "\n",
    "    if irow[\"ibata2023_sID\"] != 0:\n",
    "        row[\"Distance Ref.\"] = \"this work\"\n",
    "    else:\n",
    "        row[\"Distance Ref.\"] = irow[\"sky_track_ref\"]\n",
    "\n",
    "    try:\n",
    "        pm1 = irow[\"track\"].pm_phi1_cosphi2\n",
    "        pm_track_bool = np.any(~np.isclose(pm1.value, 0))\n",
    "    except TypeError:\n",
    "        pm_track_bool = False\n",
    "\n",
    "    # Special case some:\n",
    "    if irow[\"name\"] in [\"Aquarius\"]:\n",
    "        pm_track_bool = False\n",
    "    elif irow[\"name\"].startswith(\"Gaia\"):\n",
    "        pm_track_bool = True\n",
    "\n",
    "    row[\"Gaia\"] = irow[\"ibata2023_sID\"] != 0 or pm_track_bool\n",
    "    row[\"S5\"] = np.in1d([irow[\"name\"]] + irow[\"other_names\"], s5_data[\"name\"]).any()\n",
    "    summary_table.append(row)\n",
    "\n",
    "tmp_summary_table = at.QTable(summary_table)"
   ]
  },
  {
   "cell_type": "markdown",
   "id": "3b88087c",
   "metadata": {},
   "source": [
    "Sort by: S5, Ibata, all remaining, and then alphabetical by name within each:"
   ]
  },
  {
   "cell_type": "code",
   "execution_count": 27,
   "id": "d1010da2",
   "metadata": {
    "ExecuteTime": {
     "end_time": "2024-02-14T06:42:55.474845Z",
     "start_time": "2024-02-14T06:42:55.448965Z"
    }
   },
   "outputs": [],
   "source": [
    "# Custom sort function:\n",
    "def natural_sort(key):\n",
    "    return [int(s) if s.isdigit() else s for s in re.split(r\"(\\d+)\", key)]\n",
    "\n",
    "\n",
    "tbl1 = tmp_summary_table[tmp_summary_table[\"S5\"]]\n",
    "tbl2 = tmp_summary_table[tmp_summary_table[\"Gaia\"] & ~tmp_summary_table[\"S5\"]]\n",
    "tbl3 = tmp_summary_table[~tmp_summary_table[\"Gaia\"] & ~tmp_summary_table[\"S5\"]]\n",
    "assert len(tbl1) + len(tbl2) + len(tbl3) == len(tmp_summary_table)\n",
    "tbls = [tbl1, tbl2, tbl3]\n",
    "table_heads = [\n",
    "    \"Observed by S5 Survey\",\n",
    "    \"Detected in Gaia\",\n",
    "    \"Needs Follow-up Observations\",\n",
    "]\n",
    "\n",
    "sorted_tbls = []\n",
    "split_streams = []\n",
    "for tbl in tbls:\n",
    "    sorted_names = sorted(tbl[\"Name\"], key=natural_sort)\n",
    "    argsort = np.array([np.where(tbl[\"Name\"] == name)[0][0] for name in sorted_names])\n",
    "    tbl = tbl[argsort]\n",
    "    sorted_tbls.append(tbl)\n",
    "    split_streams.append(tbl[\"Name\"][-1])\n",
    "\n",
    "summary_table = at.vstack(sorted_tbls)\n",
    "summary_table.remove_columns([\"S5\", \"Gaia\"])"
   ]
  },
  {
   "cell_type": "code",
   "execution_count": 28,
   "id": "0ec3c35d",
   "metadata": {
    "ExecuteTime": {
     "end_time": "2024-02-14T06:42:57.793764Z",
     "start_time": "2024-02-14T06:42:56.916814Z"
    }
   },
   "outputs": [
    {
     "name": "stderr",
     "output_type": "stream",
     "text": [
      "/usr/local/lib/python3.9/site-packages/ads/base.py:135: RuntimeWarning: No token found\n",
      "  warnings.warn(\"No token found\", RuntimeWarning)\n"
     ]
    },
    {
     "ename": "APIResponseError",
     "evalue": "'{\\n  \"error\": \"Unauthorized\"\\n}\\n'",
     "output_type": "error",
     "traceback": [
      "\u001b[0;31m---------------------------------------------------------------------------\u001b[0m",
      "\u001b[0;31mAPIResponseError\u001b[0m                          Traceback (most recent call last)",
      "Cell \u001b[0;32mIn [28], line 11\u001b[0m\n\u001b[1;32m      8\u001b[0m     \u001b[38;5;28;01mcontinue\u001b[39;00m\n\u001b[1;32m     10\u001b[0m \u001b[38;5;28;01mtry\u001b[39;00m:\n\u001b[0;32m---> 11\u001b[0m     paper \u001b[38;5;241m=\u001b[39m \u001b[38;5;28mlist\u001b[39m(ads\u001b[38;5;241m.\u001b[39mSearchQuery(bibcode\u001b[38;5;241m=\u001b[39mbibcode))[\u001b[38;5;241m0\u001b[39m]\n\u001b[1;32m     12\u001b[0m \u001b[38;5;28;01mexcept\u001b[39;00m \u001b[38;5;167;01mIndexError\u001b[39;00m:\n\u001b[1;32m     13\u001b[0m     \u001b[38;5;28mprint\u001b[39m(bibcode)\n",
      "File \u001b[0;32m/usr/local/lib/python3.9/site-packages/ads/search.py:512\u001b[0m, in \u001b[0;36mSearchQuery.__next__\u001b[0;34m(self)\u001b[0m\n\u001b[1;32m    509\u001b[0m \u001b[38;5;66;03m# Allow immediate iteration without forcing a user to call .execute()\u001b[39;00m\n\u001b[1;32m    510\u001b[0m \u001b[38;5;66;03m# explicitly\u001b[39;00m\n\u001b[1;32m    511\u001b[0m \u001b[38;5;28;01mif\u001b[39;00m \u001b[38;5;28mself\u001b[39m\u001b[38;5;241m.\u001b[39mresponse \u001b[38;5;129;01mis\u001b[39;00m \u001b[38;5;28;01mNone\u001b[39;00m:\n\u001b[0;32m--> 512\u001b[0m     \u001b[38;5;28;43mself\u001b[39;49m\u001b[38;5;241;43m.\u001b[39;49m\u001b[43mexecute\u001b[49m\u001b[43m(\u001b[49m\u001b[43m)\u001b[49m\n\u001b[1;32m    514\u001b[0m \u001b[38;5;28;01mtry\u001b[39;00m:\n\u001b[1;32m    515\u001b[0m     cur \u001b[38;5;241m=\u001b[39m \u001b[38;5;28mself\u001b[39m\u001b[38;5;241m.\u001b[39m_articles[\u001b[38;5;28mself\u001b[39m\u001b[38;5;241m.\u001b[39m__iter_counter]\n",
      "File \u001b[0;32m/usr/local/lib/python3.9/site-packages/ads/search.py:543\u001b[0m, in \u001b[0;36mSearchQuery.execute\u001b[0;34m(self)\u001b[0m\n\u001b[1;32m    537\u001b[0m \u001b[38;5;28;01mdef\u001b[39;00m \u001b[38;5;21mexecute\u001b[39m(\u001b[38;5;28mself\u001b[39m):\n\u001b[1;32m    538\u001b[0m     \u001b[38;5;124;03m\"\"\"\u001b[39;00m\n\u001b[1;32m    539\u001b[0m \u001b[38;5;124;03m    Sends the http request implied by the self.query\u001b[39;00m\n\u001b[1;32m    540\u001b[0m \u001b[38;5;124;03m    In addition, set up the request such that we can call next()\u001b[39;00m\n\u001b[1;32m    541\u001b[0m \u001b[38;5;124;03m    to provide the next page of results\u001b[39;00m\n\u001b[1;32m    542\u001b[0m \u001b[38;5;124;03m    \"\"\"\u001b[39;00m\n\u001b[0;32m--> 543\u001b[0m     \u001b[38;5;28mself\u001b[39m\u001b[38;5;241m.\u001b[39mresponse \u001b[38;5;241m=\u001b[39m \u001b[43mSolrResponse\u001b[49m\u001b[38;5;241;43m.\u001b[39;49m\u001b[43mload_http_response\u001b[49m\u001b[43m(\u001b[49m\n\u001b[1;32m    544\u001b[0m \u001b[43m        \u001b[49m\u001b[38;5;28;43mself\u001b[39;49m\u001b[38;5;241;43m.\u001b[39;49m\u001b[43msession\u001b[49m\u001b[38;5;241;43m.\u001b[39;49m\u001b[43mget\u001b[49m\u001b[43m(\u001b[49m\u001b[38;5;28;43mself\u001b[39;49m\u001b[38;5;241;43m.\u001b[39;49m\u001b[43mHTTP_ENDPOINT\u001b[49m\u001b[43m,\u001b[49m\u001b[43m \u001b[49m\u001b[43mparams\u001b[49m\u001b[38;5;241;43m=\u001b[39;49m\u001b[38;5;28;43mself\u001b[39;49m\u001b[38;5;241;43m.\u001b[39;49m\u001b[43mquery\u001b[49m\u001b[43m)\u001b[49m\n\u001b[1;32m    545\u001b[0m \u001b[43m    \u001b[49m\u001b[43m)\u001b[49m\n\u001b[1;32m    547\u001b[0m     \u001b[38;5;66;03m# ADS will apply a ceiling to 'rows' and re-write the query\u001b[39;00m\n\u001b[1;32m    548\u001b[0m     \u001b[38;5;66;03m# This code checks if that happened by comparing the reponse\u001b[39;00m\n\u001b[1;32m    549\u001b[0m     \u001b[38;5;66;03m# \"rows\" with what we sent in our query\u001b[39;00m\n\u001b[1;32m    550\u001b[0m     \u001b[38;5;66;03m# references https://github.com/andycasey/ads/issues/45\u001b[39;00m\n\u001b[1;32m    551\u001b[0m     recv_rows \u001b[38;5;241m=\u001b[39m \u001b[38;5;28mint\u001b[39m(\u001b[38;5;28mself\u001b[39m\u001b[38;5;241m.\u001b[39mresponse\u001b[38;5;241m.\u001b[39mresponseHeader\u001b[38;5;241m.\u001b[39mget(\u001b[38;5;124m\"\u001b[39m\u001b[38;5;124mparams\u001b[39m\u001b[38;5;124m\"\u001b[39m, {})\u001b[38;5;241m.\u001b[39mget(\u001b[38;5;124m\"\u001b[39m\u001b[38;5;124mrows\u001b[39m\u001b[38;5;124m\"\u001b[39m))\n",
      "File \u001b[0;32m/usr/local/lib/python3.9/site-packages/ads/base.py:94\u001b[0m, in \u001b[0;36mAPIResponse.load_http_response\u001b[0;34m(cls, http_response)\u001b[0m\n\u001b[1;32m     89\u001b[0m \u001b[38;5;124;03m\"\"\"\u001b[39;00m\n\u001b[1;32m     90\u001b[0m \u001b[38;5;124;03mThis method should return an instantiated class and set its response\u001b[39;00m\n\u001b[1;32m     91\u001b[0m \u001b[38;5;124;03mto the requests.Response object.\u001b[39;00m\n\u001b[1;32m     92\u001b[0m \u001b[38;5;124;03m\"\"\"\u001b[39;00m\n\u001b[1;32m     93\u001b[0m \u001b[38;5;28;01mif\u001b[39;00m \u001b[38;5;129;01mnot\u001b[39;00m http_response\u001b[38;5;241m.\u001b[39mok:\n\u001b[0;32m---> 94\u001b[0m     \u001b[38;5;28;01mraise\u001b[39;00m APIResponseError(http_response\u001b[38;5;241m.\u001b[39mtext)\n\u001b[1;32m     95\u001b[0m c \u001b[38;5;241m=\u001b[39m \u001b[38;5;28mcls\u001b[39m(http_response)\n\u001b[1;32m     96\u001b[0m c\u001b[38;5;241m.\u001b[39mresponse \u001b[38;5;241m=\u001b[39m http_response\n",
      "\u001b[0;31mAPIResponseError\u001b[0m: '{\\n  \"error\": \"Unauthorized\"\\n}\\n'"
     ]
    }
   ],
   "source": [
    "bibcode_to_bib = {}\n",
    "bibcode_to_ref_id = {}\n",
    "i = 1\n",
    "for bibcode in np.unique(\n",
    "    np.concatenate((summary_table[\"Reference\"], summary_table[\"Stellar Mass Ref.\"]))\n",
    "):\n",
    "    if bibcode == \"\":\n",
    "        continue\n",
    "\n",
    "    try:\n",
    "        paper = list(ads.SearchQuery(bibcode=bibcode))[0]\n",
    "    except IndexError:\n",
    "        print(bibcode)\n",
    "        continue\n",
    "\n",
    "    # Handle grillmair 2017b\n",
    "    cite_key = f\"{paper.first_author.split(',')[0].lower()}:{paper.year}\"\n",
    "    if cite_key in [x[0] for x in bibcode_to_bib.values()]:\n",
    "        cite_key = f\"{cite_key}b\"\n",
    "    bibtex = paper.bibtex.replace(bibcode, cite_key)\n",
    "    bibcode_to_bib[bibcode] = (cite_key, bibtex)\n",
    "    bibcode_to_ref_id[bibcode] = i\n",
    "    i += 1\n",
    "\n",
    "bibcode_to_ref_id[\"this work\"] = \"*\""
   ]
  },
  {
   "cell_type": "markdown",
   "id": "b11d519e",
   "metadata": {},
   "source": [
    "Replace references with letters after the stream name:"
   ]
  },
  {
   "cell_type": "code",
   "execution_count": 24,
   "id": "94d1c82f",
   "metadata": {},
   "outputs": [],
   "source": [
    "# Add reference letters next to values:\n",
    "# with_refs = {\"Name\": [], dhelio_name: [], \"Stellar Mass\": []}\n",
    "# for row in summary_table:\n",
    "#     ref = bibcode_to_ref_id.get(row[\"Reference\"], \"\")\n",
    "#     with_refs[\"Name\"].append(f\"{row['Name']}$^{{({ref})}}$\" if ref else \"\")\n",
    "\n",
    "#     d = row[dhelio_name]\n",
    "#     ref = bibcode_to_ref_id.get(row[\"Distance Ref.\"], \"\")\n",
    "#     with_refs[dhelio_name].append(\n",
    "#         f\"{d.value:.1f}$^{{({ref})}}$\" if ref else f\"{d.value:.1f}\"\n",
    "#     )\n",
    "\n",
    "#     ref = bibcode_to_ref_id.get(row[\"Stellar Mass Ref.\"], \"\")\n",
    "#     with_refs[\"Stellar Mass\"].append(\n",
    "#         f\"{row['Stellar Mass'].value:.0e}$^{{({ref})}}$\"\n",
    "#         if ref\n",
    "#         else f\"{row['Stellar Mass'].value:.0e}\"\n",
    "#     )\n",
    "\n",
    "# summary_table[\"Name\"] = with_refs[\"Name\"]\n",
    "# summary_table[dhelio_name] = with_refs[dhelio_name]\n",
    "# summary_table[dhelio_name].unit = u.kpc\n",
    "# summary_table[\"Stellar Mass\"] = with_refs[\"Stellar Mass\"]\n",
    "# summary_table[\"Stellar Mass\"].unit = u.Msun\n",
    "# summary_table.remove_columns([\"Reference\", \"Stellar Mass Ref.\", \"Distance Ref.\"])\n",
    "\n",
    "# Add a new column with all reference letters:\n",
    "refs = []\n",
    "for row in summary_table:\n",
    "    ref = bibcode_to_ref_id.get(row[\"Reference\"], \"\")\n",
    "    ref_d = bibcode_to_ref_id.get(row[\"Distance Ref.\"], \"\")\n",
    "    ref_m = bibcode_to_ref_id.get(row[\"Stellar Mass Ref.\"], \"\")\n",
    "    refs.append(\",\".join([f\"({r})\" for r in np.unique([ref, ref_d, ref_m]) if r]))\n",
    "\n",
    "final_summary_table = summary_table.copy()\n",
    "final_summary_table[\"References\"] = refs\n",
    "final_summary_table.remove_columns([\"Reference\", \"Stellar Mass Ref.\", \"Distance Ref.\"])"
   ]
  },
  {
   "cell_type": "code",
   "execution_count": 25,
   "id": "6cff1c57",
   "metadata": {},
   "outputs": [],
   "source": [
    "caption = [f\"({num}): \\citet{{{bibcode_to_bib[bibcode][0]}}}\" if bibcode in bibcode_to_bib else f\"({num}): this work\" for bibcode, num in bibcode_to_ref_id.items()]\n",
    "caption = \", \".join(caption)"
   ]
  },
  {
   "cell_type": "markdown",
   "id": "64049f48",
   "metadata": {},
   "source": [
    "Split the full table into batches:"
   ]
  },
  {
   "cell_type": "code",
   "execution_count": 26,
   "id": "fe21fac1",
   "metadata": {},
   "outputs": [
    {
     "data": {
      "text/plain": [
       "[36, 36, 36, 21]"
      ]
     },
     "execution_count": 26,
     "metadata": {},
     "output_type": "execute_result"
    }
   ],
   "source": [
    "idx = np.arange(0, len(final_summary_table) + 1, 36)\n",
    "if idx[-1] < len(final_summary_table):\n",
    "    idx = np.concatenate((idx, [len(final_summary_table)]))\n",
    "\n",
    "sub_tables = [final_summary_table[i:j] for i, j in zip(idx[:-1], idx[1:])]\n",
    "[len(x) for x in sub_tables]"
   ]
  },
  {
   "cell_type": "code",
   "execution_count": 27,
   "id": "2ed75afe",
   "metadata": {},
   "outputs": [],
   "source": [
    "texts = []\n",
    "for i, tbl in enumerate(sub_tables):\n",
    "    with io.StringIO() as f:\n",
    "        tbl.write(\n",
    "            f,\n",
    "            format=\"ascii.latex\",\n",
    "            overwrite=True,\n",
    "            formats={\n",
    "                \"Origin RA\": \"%.3f\",\n",
    "                \"Origin Dec.\": \"%.3f\",\n",
    "                dhelio_name: \"%.1f\",\n",
    "                rgal_name: \"%.1f\",\n",
    "                \"Length\": \"%.0f\",\n",
    "                \"Width\": \"%.1f\",\n",
    "                \"Stellar Mass\": \"%.0e\",\n",
    "            },\n",
    "            latexdict={\n",
    "                \"header_start\": r\"\\hline \\hline\",\n",
    "                \"data_start\": r\"\\hline\",\n",
    "                \"data_end\": r\"\\hline \\hline\",\n",
    "            },\n",
    "            col_align=\"cSSSSSSccc\"\n",
    "        )\n",
    "\n",
    "        text = f.getvalue()\n",
    "        text = text.replace(\" nan \", \" \")\n",
    "\n",
    "        text = re.sub(\"(\\d+)e\\+0(\\d+)\", r\"$\\1 \\\\times 10^{\\2}$\", text)\n",
    "        # text = text.replace(\"_\", \"\")\n",
    "        texts.append(text)"
   ]
  },
  {
   "cell_type": "code",
   "execution_count": 28,
   "id": "8b849061",
   "metadata": {},
   "outputs": [],
   "source": [
    "unit_to_siunitx = {\n",
    "    u.deg: \"\\\\unit{\\\\degree}\",\n",
    "    u.kpc: \"\\\\unit{\\\\kilo\\\\parsec}\",\n",
    "    u.Msun: \"\\\\unit{\\\\Msun}\",\n",
    "}"
   ]
  },
  {
   "cell_type": "code",
   "execution_count": 29,
   "id": "465750a5",
   "metadata": {},
   "outputs": [],
   "source": [
    "for i, text in enumerate(texts, start=1):\n",
    "    for bibcode, (cite_key, bibtex) in bibcode_to_bib.items():\n",
    "        text = text.replace(bibcode, f\"\\\\citet{{{cite_key}}}\")\n",
    "\n",
    "    split_text = text.split(\"\\n\")\n",
    "\n",
    "    # Fix the column names with periods for aligning on decimal:\n",
    "    # TODO: change replace to rstrip\n",
    "    new_header = \" & \".join(\n",
    "        [f\"{{{x.strip()}}}\" for x in split_text[3].rstrip(\"\\\\\").split(\" & \")]\n",
    "    )\n",
    "    split_text[3] = new_header + \"\\\\\\\\\"\n",
    "\n",
    "    # Fix the units to use siunitx:\n",
    "    new_units = \" & \".join(\n",
    "        [\n",
    "            unit_to_siunitx.get(col.unit, \"\")\n",
    "            for col in final_summary_table.columns.values()\n",
    "        ]\n",
    "    )\n",
    "    split_text[4] = new_units + \"\\\\\\\\\"\n",
    "\n",
    "    # Table head for first block:\n",
    "    if i == 1:\n",
    "        split_text[5] = split_text[5] + \"\\\\\\\\\"\n",
    "        head = table_heads[0]\n",
    "        split_text.insert(\n",
    "            6,\n",
    "            f\"\\\\multicolumn{{{len(final_summary_table.colnames)}}}{{l}}\"\n",
    "            f\"{{\\\\bf {head}:}}\\\\\\\\[1pt]\",\n",
    "        )\n",
    "\n",
    "    # Add hlines below any lines that start with the \"split stream\" names from above:\n",
    "    lines = []\n",
    "    for line in split_text:\n",
    "        lines.append(line)\n",
    "        for name, head in zip(split_streams[:-1], table_heads[1:]):\n",
    "            if line.strip().startswith(name):\n",
    "                lines.append(\"\\\\hline \\\\\\\\\")\n",
    "                lines.append(\n",
    "                    f\"\\\\multicolumn{{{len(final_summary_table.colnames)}}}{{l}}\"\n",
    "                    f\"{{\\\\bf {head}:}}\\\\\\\\[1pt]\"\n",
    "                )\n",
    "\n",
    "    text = \"\\n\".join(lines)\n",
    "\n",
    "    with open(f\"../tex/figures/stream-summary-table-{i}.tex\", \"w\") as f:\n",
    "        f.write(text)"
   ]
  },
  {
   "cell_type": "code",
   "execution_count": 30,
   "id": "b8a7da1c",
   "metadata": {},
   "outputs": [
    {
     "name": "stdout",
     "output_type": "stream",
     "text": [
      "(1): \\citet{grillmair:2009}, (2): \\citet{williams:2011}, (3): \\citet{bonaca:2012}, (4): \\citet{grillmair:2013}, (5): \\citet{grillmair:2014}, (6): \\citet{bernard:2016}, (7): \\citet{grillmair:2017}, (8): \\citet{grillmair:2017b}, (9): \\citet{myeong:2017}, (10): \\citet{shipp:2018}, (11): \\citet{fu:2018}, (12): \\citet{weiss:2018}, (13): \\citet{mateu:2018}, (14): \\citet{jethwa:2018}, (15): \\citet{malhan:2018}, (16): \\citet{shipp:2019}, (17): \\citet{koposov:2019}, (18): \\citet{perottoni:2019}, (19): \\citet{shipp:2020}, (20): \\citet{sollima:2020}, (21): \\citet{li:2021}, (22): \\citet{ibata:2021}, (23): \\citet{thomas:2022}, (24): \\citet{ferguson:2022}, (25): \\citet{ibata:2023}, (26): \\citet{usman:2024}, (*): this work\n"
     ]
    }
   ],
   "source": [
    "print(caption)"
   ]
  },
  {
   "cell_type": "code",
   "execution_count": 31,
   "id": "9196b98b",
   "metadata": {},
   "outputs": [],
   "source": [
    "with open(\"../tex/refs.bib\") as f:\n",
    "    refs_text = f.read()\n",
    "\n",
    "\n",
    "for cite_key, bibtex in bibcode_to_bib.values():\n",
    "    if cite_key in refs_text:\n",
    "        continue\n",
    "    else:\n",
    "        print(cite_key)\n",
    "        # print(bibtex)"
   ]
  },
  {
   "cell_type": "code",
   "execution_count": null,
   "id": "f4843a98",
   "metadata": {},
   "outputs": [],
   "source": []
  }
 ],
 "metadata": {
  "kernelspec": {
   "display_name": "Python 3 (ipykernel)",
   "language": "python",
   "name": "python3"
  },
  "language_info": {
   "codemirror_mode": {
    "name": "ipython",
    "version": 3
   },
   "file_extension": ".py",
   "mimetype": "text/x-python",
   "name": "python",
   "nbconvert_exporter": "python",
   "pygments_lexer": "ipython3",
   "version": "3.9.18"
  },
  "toc": {
   "base_numbering": 1,
   "nav_menu": {},
   "number_sections": true,
   "sideBar": true,
   "skip_h1_title": true,
   "title_cell": "Table of Contents",
   "title_sidebar": "Contents",
   "toc_cell": false,
   "toc_position": {},
   "toc_section_display": true,
   "toc_window_display": true
  }
 },
 "nbformat": 4,
 "nbformat_minor": 5
}

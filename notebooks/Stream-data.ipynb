{
 "cells": [
  {
   "cell_type": "markdown",
   "id": "d02ad07f-02c8-45f6-9168-b239df4ce3e3",
   "metadata": {},
   "source": [
    "# Imports"
   ]
  },
  {
   "cell_type": "code",
   "execution_count": 1,
   "id": "7c0d5c3d-5caa-406e-9ca4-aa1d4ab6d2d8",
   "metadata": {
    "ExecuteTime": {
     "end_time": "2024-02-14T06:39:24.745943Z",
     "start_time": "2024-02-14T06:39:23.231746Z"
    },
    "execution": {
     "iopub.execute_input": "2024-03-28T00:52:25.839346Z",
     "iopub.status.busy": "2024-03-28T00:52:25.838577Z",
     "iopub.status.idle": "2024-03-28T00:52:27.127394Z",
     "shell.execute_reply": "2024-03-28T00:52:27.127106Z",
     "shell.execute_reply.started": "2024-03-28T00:52:25.839312Z"
    }
   },
   "outputs": [],
   "source": [
    "import io\n",
    "import pathlib\n",
    "import pickle\n",
    "import re\n",
    "\n",
    "import ads\n",
    "import astropy.coordinates as coord\n",
    "import astropy.table as at\n",
    "import astropy.units as u\n",
    "import gala.coordinates as gc\n",
    "import gala.dynamics as gd\n",
    "import gala.integrate as gi\n",
    "import gala.potential as gp\n",
    "import galstreams\n",
    "import matplotlib as mpl\n",
    "import matplotlib.pyplot as plt\n",
    "import numpy as np\n",
    "from astropy.stats import median_absolute_deviation as MAD\n",
    "from gala.units import galactic\n",
    "from helpers import (\n",
    "    get_default_track_for_stream,\n",
    "    get_frame_from_points,\n",
    "    get_full_galstreams_poly,\n",
    "    get_isochrone,\n",
    "    make_ibata_poly_nodes,\n",
    "    run_orbit_fit,\n",
    ")\n",
    "from pyia import GaiaData\n",
    "from scipy.interpolate import InterpolatedUnivariateSpline\n",
    "from scipy.optimize import minimize\n",
    "from tqdm.auto import tqdm\n",
    "\n",
    "%matplotlib inline"
   ]
  },
  {
   "cell_type": "markdown",
   "id": "d96aab5c-9a93-43a1-a7b5-5a6b0e8a5b23",
   "metadata": {},
   "source": [
    "Fiducial isochrone model:"
   ]
  },
  {
   "cell_type": "code",
   "execution_count": 2,
   "id": "36ebade2-b025-435a-aa51-1b6175805c7c",
   "metadata": {
    "ExecuteTime": {
     "end_time": "2024-02-14T06:39:29.714179Z",
     "start_time": "2024-02-14T06:39:29.682126Z"
    },
    "execution": {
     "iopub.execute_input": "2024-03-28T00:52:27.128367Z",
     "iopub.status.busy": "2024-03-28T00:52:27.128205Z",
     "iopub.status.idle": "2024-03-28T00:52:27.132531Z",
     "shell.execute_reply": "2024-03-28T00:52:27.132292Z",
     "shell.execute_reply.started": "2024-03-28T00:52:27.128358Z"
    }
   },
   "outputs": [],
   "source": [
    "iso = get_isochrone()\n",
    "\n",
    "tmp_iso = iso[iso[\"stage\"] == 1]\n",
    "MSTO_absmag = tmp_iso[\"rP1\"].min()"
   ]
  },
  {
   "cell_type": "code",
   "execution_count": 3,
   "id": "aad19498",
   "metadata": {
    "ExecuteTime": {
     "end_time": "2024-02-14T06:39:45.330865Z",
     "start_time": "2024-02-14T06:39:30.889572Z"
    },
    "execution": {
     "iopub.execute_input": "2024-03-28T00:52:27.132941Z",
     "iopub.status.busy": "2024-03-28T00:52:27.132868Z",
     "iopub.status.idle": "2024-03-28T00:52:34.656097Z",
     "shell.execute_reply": "2024-03-28T00:52:34.655785Z",
     "shell.execute_reply.started": "2024-03-28T00:52:27.132934Z"
    }
   },
   "outputs": [
    {
     "name": "stdout",
     "output_type": "stream",
     "text": [
      "Initializing galstreams library from master_log... \n"
     ]
    }
   ],
   "source": [
    "mwstreams = galstreams.MWStreams()"
   ]
  },
  {
   "cell_type": "markdown",
   "id": "8954fea9-6936-4af0-ba0e-48ef6b6c43a1",
   "metadata": {},
   "source": [
    "# Load data\n",
    "\n",
    "## Ibata:"
   ]
  },
  {
   "cell_type": "code",
   "execution_count": 4,
   "id": "eeefece4-4db6-40fc-9fbc-6a211d648640",
   "metadata": {
    "ExecuteTime": {
     "end_time": "2024-02-14T06:39:47.349075Z",
     "start_time": "2024-02-14T06:39:47.152464Z"
    },
    "execution": {
     "iopub.execute_input": "2024-03-28T00:52:34.656605Z",
     "iopub.status.busy": "2024-03-28T00:52:34.656524Z",
     "iopub.status.idle": "2024-03-28T00:52:34.757010Z",
     "shell.execute_reply": "2024-03-28T00:52:34.756665Z",
     "shell.execute_reply.started": "2024-03-28T00:52:34.656598Z"
    }
   },
   "outputs": [],
   "source": [
    "# tbl = at.Table.read(\"../data/Ibata2023_Table1.csv\")\n",
    "ibata_g = GaiaData(\n",
    "    \"../data/Ibata2023_GaiaDR3-xm.fits\",\n",
    "    radial_velocity_colname=\"vh\",\n",
    "    radial_velocity_unit=u.km / u.s,\n",
    ")"
   ]
  },
  {
   "cell_type": "code",
   "execution_count": 5,
   "id": "6ff1867a-dbaf-4478-9e44-395323981c0b",
   "metadata": {
    "ExecuteTime": {
     "end_time": "2024-02-14T06:39:48.138355Z",
     "start_time": "2024-02-14T06:39:48.057692Z"
    },
    "execution": {
     "iopub.execute_input": "2024-03-28T00:52:34.758522Z",
     "iopub.status.busy": "2024-03-28T00:52:34.758426Z",
     "iopub.status.idle": "2024-03-28T00:52:34.795844Z",
     "shell.execute_reply": "2024-03-28T00:52:34.795566Z",
     "shell.execute_reply.started": "2024-03-28T00:52:34.758514Z"
    }
   },
   "outputs": [],
   "source": [
    "ibata_tbl = at.Table.read(\"../data/ibata_streams_full.csv\")\n",
    "sID_to_name = {row[\"sID\"]: row[\"name\"] for row in at.unique(ibata_tbl, keys=\"sID\")}\n",
    "name_to_sID = {v: k for k, v in sID_to_name.items()}"
   ]
  },
  {
   "cell_type": "code",
   "execution_count": 6,
   "id": "211d1b51-4ca3-4020-bc87-5cddabc65e25",
   "metadata": {
    "ExecuteTime": {
     "end_time": "2024-02-14T06:39:48.755932Z",
     "start_time": "2024-02-14T06:39:48.726396Z"
    },
    "execution": {
     "iopub.execute_input": "2024-03-28T00:52:34.796286Z",
     "iopub.status.busy": "2024-03-28T00:52:34.796210Z",
     "iopub.status.idle": "2024-03-28T00:52:34.805593Z",
     "shell.execute_reply": "2024-03-28T00:52:34.805100Z",
     "shell.execute_reply.started": "2024-03-28T00:52:34.796278Z"
    }
   },
   "outputs": [
    {
     "name": "stderr",
     "output_type": "stream",
     "text": [
      "WARNING: negative parallaxes are converted to NaN distances even when `allow_negative=True`, because negative parallaxes cannot be transformed into distances. See the discussion in this paper: https://arxiv.org/abs/1507.02105 [astropy.coordinates.distances]\n"
     ]
    }
   ],
   "source": [
    "_dist = ibata_g.get_distance(allow_negative=True)\n",
    "_dist[~np.isfinite(_dist)] = 100 * u.Mpc  # put them very far away if missing\n",
    "\n",
    "ibata_c = ibata_g.get_skycoord(distance=_dist)"
   ]
  },
  {
   "cell_type": "markdown",
   "id": "509ef2e0-799f-4cd4-8030-ba20cb386a5e",
   "metadata": {},
   "source": [
    "## S5 streams:\n",
    "s5_streams = \"300S\",\\n\"Willka Yaku\",\\n\"AAU\", \"Jet\", \"Phoenix\", \"Indus\", \"Palca\", \"Elqui\", \"Turranburra\",\n",
    "\n",
    "Distance modulus functions are from Li et al 2022, Table 1"
   ]
  },
  {
   "cell_type": "code",
   "execution_count": 7,
   "id": "0460fac0-fc0d-4183-acbd-6d7459c615d1",
   "metadata": {
    "execution": {
     "iopub.execute_input": "2024-03-28T00:52:34.806156Z",
     "iopub.status.busy": "2024-03-28T00:52:34.806057Z",
     "iopub.status.idle": "2024-03-28T00:52:34.808331Z",
     "shell.execute_reply": "2024-03-28T00:52:34.808020Z",
     "shell.execute_reply.started": "2024-03-28T00:52:34.806147Z"
    }
   },
   "outputs": [],
   "source": [
    "rows = []"
   ]
  },
  {
   "cell_type": "code",
   "execution_count": 8,
   "id": "b1eb0990-1274-48db-8266-866366d02221",
   "metadata": {
    "execution": {
     "iopub.execute_input": "2024-03-28T00:52:34.808961Z",
     "iopub.status.busy": "2024-03-28T00:52:34.808846Z",
     "iopub.status.idle": "2024-03-28T00:52:34.826835Z",
     "shell.execute_reply": "2024-03-28T00:52:34.826501Z",
     "shell.execute_reply.started": "2024-03-28T00:52:34.808950Z"
    }
   },
   "outputs": [],
   "source": [
    "stream = mwstreams[\"Orphan-K19\"]\n",
    "\n",
    "orp_sky_tbl = at.Table.read(\n",
    "    \"../data/orphan/koposov2023-measurement_tables/fitses/orphan_M_track_bins.fits\"\n",
    ")\n",
    "orp_phi1_grid = np.linspace(orp_sky_tbl[\"phi1\"].min(), orp_sky_tbl[\"phi1\"].max(), 1024)\n",
    "_spl = InterpolatedUnivariateSpline(orp_sky_tbl[\"phi1\"], orp_sky_tbl[\"phi2\"], k=3)\n",
    "orp_phi2_grid = _spl(orp_phi1_grid)\n",
    "\n",
    "orp_dm_tbl = at.Table.read(\n",
    "    \"../data/orphan/koposov2023-measurement_tables/fitses/orphan_dmrr_bins.fits\"\n",
    ")\n",
    "_spl = InterpolatedUnivariateSpline(orp_dm_tbl[\"phi1\"], orp_dm_tbl[\"dm\"], k=3)\n",
    "orp_dm_grid = _spl(orp_phi1_grid)\n",
    "track = coord.SkyCoord(\n",
    "    phi1=orp_phi1_grid * u.deg,\n",
    "    phi2=orp_phi2_grid * u.deg,\n",
    "    distance=coord.Distance(distmod=orp_dm_grid),\n",
    "    frame=stream.stream_frame.replicate_without_data(),\n",
    ")\n",
    "\n",
    "orp_width_tbl = at.Table.read(\n",
    "    \"../data/orphan/koposov2023-measurement_tables/fitses/orphan_M_width_bins.fits\"\n",
    ")\n",
    "_spl = InterpolatedUnivariateSpline(\n",
    "    orp_width_tbl[\"phi1\"], orp_width_tbl[\"log_width\"], k=3\n",
    ")\n",
    "orp_width_grid = np.exp(_spl(orp_phi1_grid))\n",
    "sky_width = np.mean(orp_width_grid) * u.deg\n",
    "width_pc = np.mean(orp_width_grid * u.deg * track.distance).to(\n",
    "    u.pc, u.dimensionless_angles()\n",
    ")\n",
    "\n",
    "rows.append(\n",
    "    {\n",
    "        \"name\": \"OC\",\n",
    "        \"gs_track\": \"Orphan-K19\",\n",
    "        \"other_names\": [\"Orphan\", \"Chenab\"],\n",
    "        \"phi1\": track.phi1.wrap_at(180 * u.deg),\n",
    "        \"phi2\": track.phi2,\n",
    "        \"sky_track\": track,\n",
    "        \"sky_ref\": \"2023MNRAS.521.4936K\",\n",
    "        \"distmod\": track.distance.distmod.value,\n",
    "        \"dist_ref\": \"2023MNRAS.521.4936K\",\n",
    "        \"mass\": 5.6e5 * u.Msun,\n",
    "        \"mass_ref\": \"2023MNRAS.521.4936K\",\n",
    "        \"mean_width_deg\": sky_width,\n",
    "        \"mean_width_pc\": width_pc,\n",
    "        \"width_ref\": \"2023MNRAS.521.4936K\",\n",
    "    }\n",
    ")"
   ]
  },
  {
   "cell_type": "code",
   "execution_count": 9,
   "id": "a5e8f326-adea-49ff-9b17-5f50a8bfae45",
   "metadata": {
    "ExecuteTime": {
     "end_time": "2024-02-14T06:39:52.098276Z",
     "start_time": "2024-02-14T06:39:50.177546Z"
    },
    "execution": {
     "iopub.execute_input": "2024-03-28T00:52:34.827504Z",
     "iopub.status.busy": "2024-03-28T00:52:34.827369Z",
     "iopub.status.idle": "2024-03-28T00:52:35.212961Z",
     "shell.execute_reply": "2024-03-28T00:52:35.212662Z",
     "shell.execute_reply.started": "2024-03-28T00:52:34.827494Z"
    }
   },
   "outputs": [],
   "source": [
    "stream = mwstreams[\"300S-F18\"]\n",
    "track = stream.track.transform_to(stream.stream_frame)\n",
    "track_distmod = 48.9952 - 0.2083 * stream.track.ra.degree\n",
    "rows.append(\n",
    "    {\n",
    "        \"name\": \"300S\",\n",
    "        \"gs_track\": \"300S-F18\",\n",
    "        \"other_names\": [],\n",
    "        \"phi1\": track.phi1.wrap_at(180 * u.deg),\n",
    "        \"phi2\": track.phi2,\n",
    "        \"sky_track\": coord.SkyCoord(\n",
    "            phi1=track.phi1,\n",
    "            phi2=track.phi2,\n",
    "            distance=coord.Distance(distmod=track_distmod),\n",
    "            frame=stream.stream_frame.replicate_without_data(),\n",
    "        ),\n",
    "        \"sky_ref\": \"2018ApJ...866...42F\",\n",
    "        \"distmod\": track_distmod,\n",
    "        \"dist_ref\": \"2022ApJ...928...30L\",\n",
    "        \"mass\": 10**4.7 * u.Msun,\n",
    "        \"mass_ref\": \"2024MNRAS.529.2413U\",\n",
    "        \"mean_width_deg\": 0.94 * u.deg,\n",
    "        \"mean_width_pc\": np.nan * u.pc,\n",
    "        \"width_ref\": \"2018ApJ...866...42F\",\n",
    "    }\n",
    ")\n",
    "\n",
    "# ---\n",
    "stream = mwstreams[\"Willka_Yaku-S18\"]\n",
    "track = stream.track.transform_to(stream.stream_frame)\n",
    "track_distmod = np.full(len(track), 17.8)\n",
    "rows.append(\n",
    "    {\n",
    "        \"name\": \"Willka Yaku\",\n",
    "        \"gs_track\": \"Willka_Yaku-S18\",\n",
    "        \"other_names\": [\"Willka_Yaku\"],\n",
    "        \"phi1\": track.phi1.wrap_at(180 * u.deg),\n",
    "        \"phi2\": track.phi2,\n",
    "        \"sky_track\": coord.SkyCoord(\n",
    "            phi1=track.phi1,\n",
    "            phi2=track.phi2,\n",
    "            distance=coord.Distance(distmod=track_distmod),\n",
    "            frame=stream.stream_frame.replicate_without_data(),\n",
    "        ),\n",
    "        \"sky_ref\": \"2018ApJ...862..114S\",\n",
    "        \"distmod\": track_distmod,\n",
    "        \"dist_ref\": \"2022ApJ...928...30L\",\n",
    "        \"mass\": 14e4 * u.Msun,\n",
    "        \"mass_ref\": \"2018ApJ...862..114S\",  # shipp 2018\n",
    "        \"mean_width_deg\": np.nan * u.deg,\n",
    "        \"mean_width_pc\": 127 * u.pc,\n",
    "        \"width_ref\": \"2018ApJ...862..114S\",\n",
    "    }\n",
    ")\n",
    "\n",
    "# ---\n",
    "stream = mwstreams[\"AAU-ATLAS-L21\"]\n",
    "track_phi1 = np.concatenate(\n",
    "    (\n",
    "        mwstreams[\"AAU-ATLAS-L21\"]\n",
    "        .track.transform_to(mwstreams[\"AAU-ATLAS-L21\"].stream_frame)\n",
    "        .phi1.wrap_at(180 * u.deg)\n",
    "        .degree,\n",
    "        mwstreams[\"AAU-AliqaUma-L21\"]\n",
    "        .track.transform_to(mwstreams[\"AAU-ATLAS-L21\"].stream_frame)\n",
    "        .phi1.wrap_at(180 * u.deg)\n",
    "        .degree,\n",
    "    )\n",
    ")\n",
    "track_phi2 = np.concatenate(\n",
    "    (\n",
    "        mwstreams[\"AAU-ATLAS-L21\"]\n",
    "        .track.transform_to(mwstreams[\"AAU-ATLAS-L21\"].stream_frame)\n",
    "        .phi2.degree,\n",
    "        mwstreams[\"AAU-AliqaUma-L21\"]\n",
    "        .track.transform_to(mwstreams[\"AAU-ATLAS-L21\"].stream_frame)\n",
    "        .phi2.degree,\n",
    "    )\n",
    ")\n",
    "track_distmod = 16.67 - 0.034 * track_phi1\n",
    "rows.append(\n",
    "    {\n",
    "        \"name\": \"AAU\",\n",
    "        \"gs_track\": \"AAU-ATLAS-L21\",\n",
    "        \"other_names\": [\"ATLAS\", \"Aliqa Uma\"],\n",
    "        \"phi1\": track_phi1 * u.deg,\n",
    "        \"phi2\": track_phi2 * u.deg,\n",
    "        \"sky_track\": coord.SkyCoord(\n",
    "            phi1=track_phi1 * u.deg,\n",
    "            phi2=track_phi2 * u.deg,\n",
    "            distance=coord.Distance(distmod=track_distmod),\n",
    "            frame=mwstreams[\"AAU-ATLAS-L21\"].stream_frame.replicate_without_data(),\n",
    "        ),\n",
    "        \"sky_ref\": \"2021ApJ...911..149L\",\n",
    "        \"distmod\": track_distmod,\n",
    "        \"dist_ref\": \"2022ApJ...928...30L\",\n",
    "        \"mass\": (12e4 + 18e4) * u.Msun,  # Shipp+2018\n",
    "        \"mass_ref\": \"2018ApJ...862..114S\",\n",
    "        \"mean_width_deg\": np.nan * u.deg,\n",
    "        \"mean_width_pc\": 96 * u.pc,\n",
    "        \"width_ref\": \"2018ApJ...862..114S\",\n",
    "    }\n",
    ")\n",
    "\n",
    "distmod_trends = {\n",
    "    \"Jet-F22\": lambda x: 17.45 - 0.014 * x,\n",
    "    \"Phoenix-S19\": lambda x: 16.26 + 0.008 * x,\n",
    "    \"Indus-S19\": lambda x: 15.90 - 0.016 * x,\n",
    "    \"Palca-S18\": lambda x: np.full_like(x, 17.8),\n",
    "    \"Elqui-S19\": lambda x: 18.48 - 0.043 * x,\n",
    "    \"Turranburra-S19\": lambda x: np.full_like(x, 17.1),\n",
    "}\n",
    "ref_to_bibcode = {\n",
    "    \"shipp2018\": \"2018ApJ...862..114S\",\n",
    "    \"shipp2019\": \"2019ApJ...885....3S\",\n",
    "    \"ferguson2022\": \"2022AJ....163...18F\",\n",
    "}\n",
    "masses = {\n",
    "    \"Jet-F22\": (2.5e4, \"2018MNRAS.480.5342J\"),\n",
    "    \"Phoenix-S19\": (3e4, \"2018ApJ...862..114S\"),\n",
    "    \"Indus-S19\": (650e4, \"2018ApJ...862..114S\"),\n",
    "    \"Palca-S18\": (1e6, \"2022A&A...660A..29T\"),\n",
    "    \"Elqui-S19\": (320e4, \"2018ApJ...862..114S\"),\n",
    "    \"Turranburra-S19\": (180e4, \"2018ApJ...862..114S\"),\n",
    "}\n",
    "widths = {\n",
    "    \"Jet-F22\": (\n",
    "        (0.18 * u.deg * 28.6 * u.kpc).to(u.pc, u.dimensionless_angles()),\n",
    "        \"2018MNRAS.480.5342J\",\n",
    "    ),\n",
    "    \"Phoenix-S19\": (53 * u.pc, \"2018ApJ...862..114S\"),\n",
    "    \"Indus-S19\": (240 * u.pc, \"2018ApJ...862..114S\"),\n",
    "    \"Palca-S18\": (300 * u.pc, \"2022A&A...660A..29T\"),\n",
    "    \"Elqui-S19\": (472 * u.pc, \"2018ApJ...862..114S\"),\n",
    "    \"Turranburra-S19\": (288 * u.pc, \"2018ApJ...862..114S\"),\n",
    "}\n",
    "for key, trend in distmod_trends.items():\n",
    "    stream = mwstreams[key]\n",
    "    name = key.split(\"-\")[0]\n",
    "    track = stream.track.transform_to(stream.stream_frame.replicate_without_data())\n",
    "    track_phi1 = track.phi1.wrap_at(180 * u.deg).degree\n",
    "    rows.append(\n",
    "        {\n",
    "            \"name\": name,\n",
    "            \"gs_track\": key,\n",
    "            \"other_names\": [] if name != \"Palca\" else [\"Cetus\"],\n",
    "            \"phi1\": track_phi1 * u.degree,\n",
    "            \"phi2\": track.phi2,\n",
    "            \"sky_track\": coord.SkyCoord(\n",
    "                phi1=track.phi1,\n",
    "                phi2=track.phi2,\n",
    "                distance=coord.Distance(distmod=trend(track_phi1)),\n",
    "                frame=stream.stream_frame,\n",
    "            ),\n",
    "            \"sky_ref\": ref_to_bibcode.get(stream.ref, stream.ref),\n",
    "            \"distmod\": trend(track_phi1),\n",
    "            \"dist_ref\": \"2022ApJ...928...30L\",\n",
    "            \"mass\": masses[key][0] * u.Msun,\n",
    "            \"mass_ref\": masses[key][1],\n",
    "            \"mean_width_deg\": np.nan * u.deg,\n",
    "            \"mean_width_pc\": widths[key][0],\n",
    "            \"width_ref\": widths[key][1],\n",
    "        }\n",
    "    )\n",
    "\n",
    "s5_data = at.QTable(rows)"
   ]
  },
  {
   "cell_type": "code",
   "execution_count": 10,
   "id": "31ad59d1-9139-4319-80bc-7184fb552a26",
   "metadata": {
    "execution": {
     "iopub.execute_input": "2024-03-28T00:52:35.213540Z",
     "iopub.status.busy": "2024-03-28T00:52:35.213462Z",
     "iopub.status.idle": "2024-03-28T00:52:35.215291Z",
     "shell.execute_reply": "2024-03-28T00:52:35.214933Z",
     "shell.execute_reply.started": "2024-03-28T00:52:35.213532Z"
    }
   },
   "outputs": [],
   "source": [
    "# TODO: what about the other Shipp widths? Tuc III, Molonglo, Ravi, etc."
   ]
  },
  {
   "cell_type": "markdown",
   "id": "bc842861-b11a-4214-808b-0cf49a03a108",
   "metadata": {},
   "source": [
    "# Orbit fitting\n",
    "\n",
    "We fit orbits to the Ibata streams to determine distance tracks:"
   ]
  },
  {
   "cell_type": "code",
   "execution_count": 11,
   "id": "e1b7512f-f714-43a0-a987-aae8ce1da7e6",
   "metadata": {
    "ExecuteTime": {
     "end_time": "2024-02-14T06:40:00.149622Z",
     "start_time": "2024-02-14T06:40:00.005552Z"
    },
    "execution": {
     "iopub.execute_input": "2024-03-28T00:52:35.215828Z",
     "iopub.status.busy": "2024-03-28T00:52:35.215725Z",
     "iopub.status.idle": "2024-03-28T00:52:35.236299Z",
     "shell.execute_reply": "2024-03-28T00:52:35.235969Z",
     "shell.execute_reply.started": "2024-03-28T00:52:35.215819Z"
    }
   },
   "outputs": [],
   "source": [
    "data_file = pathlib.Path(\"../data/stream-orbit-fits.pkl\")\n",
    "\n",
    "if not data_file.exists():\n",
    "    orbitfit_data = {}\n",
    "\n",
    "    for sid in tqdm(np.unique(ibata_tbl[\"sID\"])):\n",
    "        print(sid, sID_to_name[sid])\n",
    "        mask = ibata_tbl[\"sID\"] == sid\n",
    "        orbitfit_data[sid] = run_orbit_fit(sid, ibata_g[mask], ibata_c[mask])\n",
    "\n",
    "    with open(data_file, \"wb\") as f:\n",
    "        pickle.dump(orbitfit_data, f)\n",
    "\n",
    "else:\n",
    "    with open(data_file, \"rb\") as f:\n",
    "        orbitfit_data = pickle.load(f)"
   ]
  },
  {
   "cell_type": "code",
   "execution_count": 12,
   "id": "b140794b-f891-46bc-b8ef-763daaaa0d33",
   "metadata": {
    "ExecuteTime": {
     "end_time": "2024-02-14T06:40:01.066246Z",
     "start_time": "2024-02-14T06:40:01.047367Z"
    },
    "execution": {
     "iopub.execute_input": "2024-03-28T00:52:35.236820Z",
     "iopub.status.busy": "2024-03-28T00:52:35.236730Z",
     "iopub.status.idle": "2024-03-28T00:52:35.240424Z",
     "shell.execute_reply": "2024-03-28T00:52:35.239194Z",
     "shell.execute_reply.started": "2024-03-28T00:52:35.236811Z"
    }
   },
   "outputs": [],
   "source": [
    "# plot_path = pathlib.Path(\"../plots\").resolve()\n",
    "# plot_path.mkdir(exist_ok=True)\n",
    "\n",
    "# for sid, this_data in all_data.items():\n",
    "#     fig, _ = make_components_plot(\n",
    "#         this_data[\"orbit\"],\n",
    "#         this_data[\"orbit_fr\"],\n",
    "#         this_data[\"c_fr\"],\n",
    "#         this_data[\"obj_data\"],\n",
    "#     )\n",
    "#     fig.suptitle(sID_to_name[sid], fontsize=20)\n",
    "#     fig.savefig(plot_path / f\"stream-{sid:04d}-orbitfit.png\", dpi=200)\n",
    "#     plt.close(fig)"
   ]
  },
  {
   "cell_type": "code",
   "execution_count": 13,
   "id": "ac72dfb3-5dbe-4046-bc17-bb5c4a8352d3",
   "metadata": {
    "execution": {
     "iopub.execute_input": "2024-03-28T00:52:35.241669Z",
     "iopub.status.busy": "2024-03-28T00:52:35.241476Z",
     "iopub.status.idle": "2024-03-28T00:52:35.244995Z",
     "shell.execute_reply": "2024-03-28T00:52:35.244689Z",
     "shell.execute_reply.started": "2024-03-28T00:52:35.241656Z"
    }
   },
   "outputs": [],
   "source": [
    "ibata_fit_tbl = at.Table(\n",
    "    [\n",
    "        {\"sID\": sid, \"name\": sID_to_name[sid], **d[\"p\"]}\n",
    "        for sid, d in orbitfit_data.items()\n",
    "    ]\n",
    ")"
   ]
  },
  {
   "cell_type": "markdown",
   "id": "42862fec-919b-4de9-af73-dae67dc83453",
   "metadata": {},
   "source": [
    "## For cases where orbit-fitting failed, we still want to make tracks (except for Orphan, which enters in S5):"
   ]
  },
  {
   "cell_type": "code",
   "execution_count": 14,
   "id": "94741833",
   "metadata": {
    "ExecuteTime": {
     "end_time": "2024-02-14T06:40:01.815980Z",
     "start_time": "2024-02-14T06:40:01.794480Z"
    },
    "execution": {
     "iopub.execute_input": "2024-03-28T00:52:35.247885Z",
     "iopub.status.busy": "2024-03-28T00:52:35.247668Z",
     "iopub.status.idle": "2024-03-28T00:52:36.964007Z",
     "shell.execute_reply": "2024-03-28T00:52:36.963716Z",
     "shell.execute_reply.started": "2024-03-28T00:52:35.247832Z"
    }
   },
   "outputs": [
    {
     "name": "stdout",
     "output_type": "stream",
     "text": [
      "21 New-6\n"
     ]
    },
    {
     "name": "stderr",
     "output_type": "stream",
     "text": [
      "/Users/apricewhelan/projects/gala/gala/coordinates/greatcircle.py:199: RuntimeWarning: Input origin and pole are not orthogonal. Keeping the origin fixed and adjusting the pole to be orthogonal. Use warnings.simplefilter('ignore') to ignore this warning.\n",
      "  warn(\n"
     ]
    },
    {
     "name": "stdout",
     "output_type": "stream",
     "text": [
      "28 New-9\n",
      "77 NGC7099\n",
      "80 New-25\n",
      "56 New-18\n"
     ]
    }
   ],
   "source": [
    "skip_sIDs = [\n",
    "    48,  # Orphan\n",
    "]\n",
    "\n",
    "failed_sIDs = [21, 28, 77, 80, name_to_sID[\"New-18\"]]\n",
    "# fig, axes = plt.subplots(len(failed_sIDs), 1, figsize=(10, 4 * len(failed_sIDs)), layout=\"tight\")\n",
    "for i, sID in enumerate(failed_sIDs):\n",
    "    if sID not in orbitfit_data:\n",
    "        orbitfit_data[sID] = {}\n",
    "\n",
    "    # ax = axes[i]\n",
    "    print(sID, sID_to_name[sID])\n",
    "\n",
    "    mask = ibata_tbl[\"sID\"] == sID\n",
    "    frame = get_frame_from_points(ibata_c[mask])\n",
    "    cc = ibata_c[mask].transform_to(frame)\n",
    "    _width = 1.5 * MAD(cc.phi2.degree)\n",
    "\n",
    "    orbitfit_data[sID][\"c_fr\"] = cc\n",
    "    orbitfit_data[sID][\"p\"] = None\n",
    "    orbitfit_data[sID][\"orbit\"] = None\n",
    "    orbitfit_data[sID][\"orbit_fr\"] = None\n",
    "\n",
    "    # ax.scatter(cc.phi1.degree, cc.phi2.degree)\n",
    "    # ax.axhspan(-_width, _width, zorder=-10, color='tab:blue')\n",
    "\n",
    "ibata_fit_tbl = ibata_fit_tbl[~np.isin(ibata_fit_tbl[\"sID\"], skip_sIDs)]"
   ]
  },
  {
   "cell_type": "markdown",
   "id": "bf78316e",
   "metadata": {},
   "source": [
    "# Internal data table: \n",
    "- Name\n",
    "- sID in Ibata\n",
    "- preferred galstreams track name\n",
    "- sky track \n",
    "- dist/distmod track either from orbit fit or from source\n",
    "- sky polygon\n",
    "- stellar mass\n",
    "- sources for all\n",
    "\n",
    "Precedence is:\n",
    "- S5\n",
    "- Ibata atlas\n",
    "- Galstreams\n"
   ]
  },
  {
   "cell_type": "code",
   "execution_count": 15,
   "id": "deed8576",
   "metadata": {
    "ExecuteTime": {
     "end_time": "2024-02-14T06:40:09.286371Z",
     "start_time": "2024-02-14T06:40:04.203691Z"
    },
    "execution": {
     "iopub.execute_input": "2024-03-28T00:52:36.964620Z",
     "iopub.status.busy": "2024-03-28T00:52:36.964539Z",
     "iopub.status.idle": "2024-03-28T00:52:39.296736Z",
     "shell.execute_reply": "2024-03-28T00:52:39.296438Z",
     "shell.execute_reply.started": "2024-03-28T00:52:36.964612Z"
    }
   },
   "outputs": [],
   "source": [
    "internal_data_rows = []\n",
    "\n",
    "for tmp_row in s5_data:\n",
    "    row = {}\n",
    "    row[\"name\"] = tmp_row[\"name\"]\n",
    "    row[\"other_names\"] = tmp_row[\"other_names\"]\n",
    "    row[\"galstreams_track_name\"] = tmp_row[\"gs_track\"]\n",
    "\n",
    "    row[\"track\"] = tmp_row[\"sky_track\"]\n",
    "    row[\"sky_track_ref\"] = tmp_row[\"sky_ref\"]\n",
    "    row[\"dist_track_ref\"] = tmp_row[\"dist_ref\"]\n",
    "\n",
    "    row[\"stellar_mass\"] = tmp_row[\"mass\"]\n",
    "    row[\"stellar_mass_ref\"] = tmp_row[\"mass_ref\"]\n",
    "\n",
    "    mean_dist = np.mean(row[\"track\"].distance)\n",
    "    if np.isnan(tmp_row[\"mean_width_deg\"]):\n",
    "        row[\"width_sky\"] = (tmp_row[\"mean_width_pc\"] / mean_dist).to(\n",
    "            u.deg, u.dimensionless_angles()\n",
    "        )\n",
    "    else:\n",
    "        row[\"width_sky\"] = tmp_row[\"mean_width_deg\"]\n",
    "\n",
    "    if np.isnan(tmp_row[\"mean_width_pc\"]):\n",
    "        row[\"width\"] = (row[\"width_sky\"] * mean_dist).to(u.pc, u.dimensionless_angles())\n",
    "    else:\n",
    "        row[\"width\"] = tmp_row[\"mean_width_pc\"]\n",
    "\n",
    "    row[\"width_ref\"] = tmp_row[\"width_ref\"]\n",
    "\n",
    "    # Sky polygon:\n",
    "    if row[\"name\"] == \"AAU\":\n",
    "        # Special case: get sky track for AAU from Ibata member stars\n",
    "        d = orbitfit_data[name_to_sID[\"ATLAS\"]]\n",
    "        _, row[\"sky_poly\"] = make_ibata_poly_nodes(d[\"c_fr\"])\n",
    "\n",
    "    else:\n",
    "        row[\"sky_poly\"] = get_full_galstreams_poly(\n",
    "            mwstreams[tmp_row[\"gs_track\"]].poly_sc\n",
    "        )\n",
    "\n",
    "    internal_data_rows.append(row)\n",
    "\n",
    "internal_data = at.QTable(internal_data_rows)"
   ]
  },
  {
   "cell_type": "markdown",
   "id": "7d011a04",
   "metadata": {},
   "source": [
    "Now match S5 streams to Ibata atlas stream IDs:"
   ]
  },
  {
   "cell_type": "code",
   "execution_count": 16,
   "id": "eea6a69a",
   "metadata": {
    "ExecuteTime": {
     "end_time": "2024-02-14T06:40:11.872021Z",
     "start_time": "2024-02-14T06:40:11.850100Z"
    },
    "execution": {
     "iopub.execute_input": "2024-03-28T00:52:39.297386Z",
     "iopub.status.busy": "2024-03-28T00:52:39.297296Z",
     "iopub.status.idle": "2024-03-28T00:52:39.301740Z",
     "shell.execute_reply": "2024-03-28T00:52:39.301465Z",
     "shell.execute_reply.started": "2024-03-28T00:52:39.297378Z"
    }
   },
   "outputs": [],
   "source": [
    "ibata_names = np.asarray(np.unique(ibata_tbl[\"name\"]))\n",
    "ibata_sIDs = []\n",
    "for row in internal_data:\n",
    "    row_names = [row[\"name\"]] + row[\"other_names\"]\n",
    "    for name in row_names:\n",
    "        if name in ibata_names:\n",
    "            sID = name_to_sID[name]\n",
    "            break\n",
    "    else:\n",
    "        sID = 0\n",
    "    ibata_sIDs.append(sID)\n",
    "internal_data[\"ibata2023_sID\"] = ibata_sIDs"
   ]
  },
  {
   "cell_type": "code",
   "execution_count": 17,
   "id": "c295d89d",
   "metadata": {
    "ExecuteTime": {
     "end_time": "2024-02-14T06:40:12.741520Z",
     "start_time": "2024-02-14T06:40:12.725711Z"
    },
    "execution": {
     "iopub.execute_input": "2024-03-28T00:52:39.302279Z",
     "iopub.status.busy": "2024-03-28T00:52:39.302184Z",
     "iopub.status.idle": "2024-03-28T00:52:39.303953Z",
     "shell.execute_reply": "2024-03-28T00:52:39.303708Z",
     "shell.execute_reply.started": "2024-03-28T00:52:39.302272Z"
    }
   },
   "outputs": [],
   "source": [
    "ibata_to_galstreams = {\n",
    "    \"Tuc3\": \"TucanaIII\",\n",
    "    \"NGC7099\": \"M30\",\n",
    "    \"M5\": \"NGC5904\",\n",
    "    \"M92\": \"NGC6341\",\n",
    "}"
   ]
  },
  {
   "cell_type": "code",
   "execution_count": 18,
   "id": "e29d6b0b",
   "metadata": {
    "ExecuteTime": {
     "end_time": "2024-02-14T06:40:29.309138Z",
     "start_time": "2024-02-14T06:40:13.457230Z"
    },
    "execution": {
     "iopub.execute_input": "2024-03-28T00:52:39.304545Z",
     "iopub.status.busy": "2024-03-28T00:52:39.304419Z",
     "iopub.status.idle": "2024-03-28T00:52:47.392144Z",
     "shell.execute_reply": "2024-03-28T00:52:47.391856Z",
     "shell.execute_reply.started": "2024-03-28T00:52:39.304536Z"
    }
   },
   "outputs": [
    {
     "name": "stdout",
     "output_type": "stream",
     "text": [
      "4 ATLAS\n",
      "Initializing galstreams library from master_log... \n",
      "15 Indus\n",
      "48 Orphan\n",
      "5 Phoenix\n"
     ]
    }
   ],
   "source": [
    "for name in ibata_names:\n",
    "    sID = name_to_sID[name]\n",
    "    if sID in internal_data[\"ibata2023_sID\"]:\n",
    "        print(sID, name)\n",
    "        continue\n",
    "\n",
    "    row = {}\n",
    "    row[\"name\"] = name\n",
    "    row[\"other_names\"] = (\n",
    "        [] if name not in ibata_to_galstreams else [ibata_to_galstreams[name]]\n",
    "    )\n",
    "\n",
    "    track_name, _ = get_default_track_for_stream(name)\n",
    "    if track_name is None:\n",
    "        track_name, _ = get_default_track_for_stream(\n",
    "            ibata_to_galstreams.get(name, name)\n",
    "        )\n",
    "    row[\"galstreams_track_name\"] = track_name if track_name is not None else \"\"\n",
    "    row[\"ibata2023_sID\"] = sID\n",
    "\n",
    "    if sID in skip_sIDs:\n",
    "        continue\n",
    "\n",
    "    if sID not in orbitfit_data:\n",
    "        print(\"NOT IN ORBITFIT\", sID, row[\"name\"])\n",
    "        continue\n",
    "\n",
    "    this_data = orbitfit_data[sID]\n",
    "    sky_track, row[\"sky_poly\"] = make_ibata_poly_nodes(this_data[\"c_fr\"])\n",
    "\n",
    "    row[\"sky_track_ref\"] = \"2023arXiv231117202I\"\n",
    "    row[\"dist_track_ref\"] = \"\"  # TODO: this paper\n",
    "    if this_data[\"orbit_fr\"] is not None:\n",
    "        x = this_data[\"orbit_fr\"].phi1.degree\n",
    "        spl = InterpolatedUnivariateSpline(\n",
    "            x[np.argsort(x)], this_data[\"orbit_fr\"].distance.kpc[np.argsort(x)], k=3\n",
    "        )\n",
    "\n",
    "        row[\"track\"] = coord.SkyCoord(\n",
    "            phi1=sky_track.phi1,\n",
    "            phi2=sky_track.phi2,\n",
    "            distance=spl(sky_track.phi1.degree) * u.kpc,\n",
    "            frame=sky_track.frame.replicate_without_data(),\n",
    "        )\n",
    "    else:\n",
    "        if \"obj_data\" in this_data:\n",
    "            _d = this_data[\"obj_data\"]\n",
    "            mean_plx = np.sum(_d[\"parallax\"] / _d[\"parallax_error\"] ** 2) / np.sum(\n",
    "                1 / _d[\"parallax_error\"] ** 2\n",
    "            )\n",
    "            dist = 1 / mean_plx * u.kpc\n",
    "        else:\n",
    "            dist = np.median(this_data[\"c_fr\"].distance)\n",
    "\n",
    "        row[\"track\"] = coord.SkyCoord(\n",
    "            phi1=sky_track.phi1,\n",
    "            phi2=sky_track.phi2,\n",
    "            distance=dist,\n",
    "            frame=sky_track.frame.replicate_without_data(),\n",
    "        )\n",
    "        row[\"dist_track_ref\"] = \"2023arXiv231117202I\"\n",
    "\n",
    "    # Estimate stellar mass using an isochrone:\n",
    "    DM = np.mean(row[\"track\"].distance.distmod.value)\n",
    "    MSTO_r = DM + MSTO_absmag\n",
    "\n",
    "    idx = np.where((iso[\"G\"] + DM) < 20.0)[0]\n",
    "    dIMF = iso[\"int_IMF\"][idx[-1]] - iso[\"int_IMF\"][idx[0]]\n",
    "    M = 2.0 * len(d[\"c_fr\"]) / dIMF\n",
    "\n",
    "    row[\"stellar_mass\"] = M * u.Msun\n",
    "    row[\"stellar_mass_ref\"] = \"\"  # TODO: this paper\n",
    "\n",
    "    # Estimate stream width:\n",
    "    xx = row[\"track\"].phi1.wrap_at(180 * u.deg).degree\n",
    "    _spl = InterpolatedUnivariateSpline(\n",
    "        xx[np.argsort(xx)], row[\"track\"].phi2.degree[np.argsort(xx)], k=3\n",
    "    )\n",
    "    c_track_phi2 = _spl(this_data[\"c_fr\"].phi1.wrap_at(180 * u.deg).degree)\n",
    "    row[\"width_sky\"] = 1.5 * MAD(this_data[\"c_fr\"].phi2.degree - c_track_phi2) * u.deg\n",
    "    row[\"width\"] = (row[\"width_sky\"] * np.mean(row[\"track\"].distance)).to(\n",
    "        u.pc, u.dimensionless_angles()\n",
    "    )\n",
    "    row[\"width_ref\"] = \"\"  # TODO: this work\n",
    "\n",
    "    internal_data.add_row(row)"
   ]
  },
  {
   "cell_type": "markdown",
   "id": "bfd5e9c4",
   "metadata": {},
   "source": [
    "Now find all other streams in Galstreams that are not already in our internal table:"
   ]
  },
  {
   "cell_type": "code",
   "execution_count": 19,
   "id": "e7b9f500",
   "metadata": {
    "ExecuteTime": {
     "end_time": "2024-02-14T06:40:32.093399Z",
     "start_time": "2024-02-14T06:40:32.072927Z"
    },
    "execution": {
     "iopub.execute_input": "2024-03-28T00:52:47.392669Z",
     "iopub.status.busy": "2024-03-28T00:52:47.392592Z",
     "iopub.status.idle": "2024-03-28T00:52:47.395536Z",
     "shell.execute_reply": "2024-03-28T00:52:47.395299Z",
     "shell.execute_reply.started": "2024-03-28T00:52:47.392661Z"
    }
   },
   "outputs": [],
   "source": [
    "galstreams_masses = {\n",
    "    \"20.0-1\": (1e5 * u.Msun, \"mateu2018\"),  # Estimate based on MV=-7.3,\n",
    "    \"Corvus\": (1e5 * u.Msun, \"mateu2018\"),  # Estimate based on MV=-7.5,\n",
    "    \"PS1-A\": (0.22e3 * 2 * u.Msun, \"bernard2016\"),  # M/L = 2\n",
    "    \"PS1-B\": (1.2e3 * 2 * u.Msun, \"bernard2016\"),\n",
    "    \"PS1-C\": (1e3 * 2 * u.Msun, \"bernard2016\"),\n",
    "    \"PS1-D\": (7.5e3 * 2 * u.Msun, \"bernard2016\"),\n",
    "    \"PS1-E\": (0.5e3 * 2 * u.Msun, \"bernard2016\"),\n",
    "    \"Pal13\": (1.4e3 * 2 * u.Msun, \"shipp2020\"),  # M/L = 2, Lv in tails from RRL\n",
    "    \"Pegasus\": (2e3 * 2 * u.Msun, \"perottoni2019\"),  # M/L = 2\n",
    "    \"Ravi\": (1e4 * u.Msun, \"shipp2018\"),\n",
    "    \"Turbio\": (3.5e3 * u.Msun, \"shipp2018\"),\n",
    "    \"Wambelong\": (1.6e3 * u.Msun, \"shipp2018\"),\n",
    "}\n",
    "\n",
    "# No reported masses:\n",
    "# Grillmair 2009: Acheron, Cocytos, Lethe, Styx\n",
    "# Grillmair 2013: Alpheus\n",
    "# Williams+2011: Aquarius\n",
    "# Ibata+2021: C-4, C-5, C-8, Gaia-2, Gaia-3, Gaia-4, Gaia-5, Gunnthra, M2\n",
    "# Myeong+2017: Eridanus, Pal15\n",
    "# Grillmair 2014: Hermus, Hyllus\n",
    "# Sollima 2020: M30, NGC6362\n",
    "# Grillmair 2017a: Sangarius, Scamander\n",
    "# Grillmair 2017b: Murrumbidgee, Molonglo, Orinoco, Kwando\n",
    "# Bonaca+2012: Tri-Pis\n",
    "# Weiss+2018: Parallel, Perpendicular"
   ]
  },
  {
   "cell_type": "code",
   "execution_count": 20,
   "id": "b79c4d26-0ff3-4753-a2a9-ec75450ae01f",
   "metadata": {
    "execution": {
     "iopub.execute_input": "2024-03-28T00:52:47.395974Z",
     "iopub.status.busy": "2024-03-28T00:52:47.395890Z",
     "iopub.status.idle": "2024-03-28T00:52:47.400401Z",
     "shell.execute_reply": "2024-03-28T00:52:47.400174Z",
     "shell.execute_reply.started": "2024-03-28T00:52:47.395967Z"
    }
   },
   "outputs": [],
   "source": [
    "galstreams_widths = {\n",
    "    \"20.0-1\": (1.8 * u.deg, 641 * u.pc, \"mateu2018\"),\n",
    "    \"Corvus\": (1.63 * u.deg, 313 * u.pc, \"mateu2018\"),\n",
    "    \"PS1-A\": (27 * u.arcmin, 63 * u.pc, \"bernard2016\"),\n",
    "    \"PS1-B\": (27 * u.arcmin, 112 * u.pc, \"bernard2016\"),\n",
    "    \"PS1-C\": (20 * u.arcmin, 99 * u.pc, \"bernard2016\"),\n",
    "    \"PS1-D\": (52 * u.arcmin, 350 * u.pc, \"bernard2016\"),\n",
    "    \"PS1-E\": (37 * u.arcmin, 140 * u.pc, \"bernard2016\"),\n",
    "    \"Pal13\": (0.25 * u.deg, (0.25 * u.deg * 23.6 * u.kpc), \"shipp2020\"),\n",
    "    \"Pegasus\": (0.4 * u.deg, 112 * u.pc, \"perottoni2019\"),\n",
    "    \"Ravi\": (288 * u.pc / (22.9 * u.kpc), 288 * u.pc, \"shipp2018\"),\n",
    "    \"Turbio\": (72 * u.pc / (16.6 * u.kpc), 72 * u.pc, \"shipp2018\"),\n",
    "    \"Wambelong\": (106 * u.pc / (15.1 * u.kpc), 106 * u.pc, \"shipp2018\"),\n",
    "    \"Acheron\": (0.9 * u.deg, 60 * u.pc, \"grillmair2009\"),\n",
    "    \"Cocytos\": (0.7 * u.deg, 140 * u.pc, \"grillmair2009\"),\n",
    "    \"Lethe\": (0.4 * u.deg, 95 * u.pc, \"grillmair2009\"),\n",
    "    \"Styx\": (3.3 * u.deg, 2.6 * u.kpc, \"grillmair2009\"),\n",
    "    \"Alpheus\": (3.2 * u.deg, 100 * u.pc, \"grillmair2013\"),\n",
    "    \"Hermus\": (0.7 * u.deg, 220 * u.pc, \"grillmair2014\"),\n",
    "    \"Hyllus\": (1.2 * u.deg, 180 * u.pc, \"grillmair2014\"),\n",
    "    \"Sangarius\": (1 * u.deg, 350 * u.pc, \"grillmair2017a\"),\n",
    "    \"Scamander\": (1 * u.deg, 350 * u.pc, \"grillmair2017a\"),\n",
    "    \"Molonglo\": (30 * u.arcmin, 170 * u.pc, \"grillmair2017b\"),\n",
    "    \"Murrumbidgee\": (22 * u.arcmin, 125 * u.pc, \"grillmair2017b\"),\n",
    "    \"Orinoco\": (40 * u.arcmin, 240 * u.pc, \"grillmair2017b\"),\n",
    "    \"Kwando\": (22 * u.arcmin, 130 * u.pc, \"grillmair2017b\"),\n",
    "    \"Tri-Pis\": (0.2 * u.deg, 75 * u.pc, \"bonaca2012\"),\n",
    "}\n",
    "\n",
    "# No reported widths:\n",
    "# Williams+2011: Aquarius\n",
    "# Myeong+2017: Eridanus, Pal15\n",
    "# Sollima 2020: M30, NGC6362\n",
    "# Weiss+2018: Parallel, Perpendicular"
   ]
  },
  {
   "cell_type": "code",
   "execution_count": 21,
   "id": "1cd43e03",
   "metadata": {
    "ExecuteTime": {
     "end_time": "2024-02-14T06:40:36.160013Z",
     "start_time": "2024-02-14T06:40:35.625353Z"
    },
    "execution": {
     "iopub.execute_input": "2024-03-28T00:52:47.400977Z",
     "iopub.status.busy": "2024-03-28T00:52:47.400861Z",
     "iopub.status.idle": "2024-03-28T00:52:47.632588Z",
     "shell.execute_reply": "2024-03-28T00:52:47.632328Z",
     "shell.execute_reply.started": "2024-03-28T00:52:47.400970Z"
    }
   },
   "outputs": [
    {
     "name": "stdout",
     "output_type": "stream",
     "text": [
      "Aquarius\n",
      "C-4\n",
      "C-5\n",
      "C-8\n",
      "Eridanus\n",
      "Gaia-2\n",
      "Gaia-3\n",
      "Gaia-4\n",
      "Gaia-5\n",
      "Gunnthra\n",
      "M2\n",
      "NGC6362\n",
      "Pal15\n",
      "Parallel\n",
      "Perpendicular\n"
     ]
    }
   ],
   "source": [
    "gs_to_internal_name = {\n",
    "    \"AAU-ATLAS\": \"AAU\",\n",
    "    \"AAU-AliqaUma\": \"AAU\",\n",
    "    \"M68-Fjorm\": \"Fjorm\",\n",
    "    \"NGC3201-Gjoll\": \"Gjoll\",\n",
    "    \"OmegaCen-Fimbulthul\": \"Fimbulthul\",\n",
    "    \"Orphan-Chenab\": \"OC\",\n",
    "    \"TucanaIII\": \"Tuc3\",\n",
    "    \"Jhelum-a\": \"Jhelum\",\n",
    "    \"Jhelum-b\": \"Jhelum\",\n",
    "}\n",
    "\n",
    "galstreams_default_tracks = np.array(list(mwstreams.keys()))\n",
    "galstreams_names = np.array(\n",
    "    [\n",
    "        x\n",
    "        for x in mwstreams.all_unique_stream_names()\n",
    "        if x not in [\"Cetus-New\", \"Cetus-Palca\", \"ACS\", \"Monoceros\", \"Sagittarius\"]\n",
    "    ]\n",
    ")\n",
    "\n",
    "_all_internal_names = np.concatenate(\n",
    "    (internal_data[\"name\"], [x for y in internal_data[\"other_names\"] for x in y])\n",
    ")\n",
    "for name in galstreams_names:\n",
    "    if gs_to_internal_name.get(name, name) in _all_internal_names:\n",
    "        continue\n",
    "\n",
    "    row = {}\n",
    "    row[\"name\"] = name\n",
    "    row[\"other_names\"] = []\n",
    "\n",
    "    track_name, stream = get_default_track_for_stream(name)\n",
    "    row[\"galstreams_track_name\"] = track_name if track_name is not None else \"\"\n",
    "\n",
    "    row[\"sky_poly\"] = get_full_galstreams_poly(stream.poly_sc)\n",
    "    row[\"track\"] = stream.track.transform_to(\n",
    "        stream.stream_frame.replicate_without_data()\n",
    "    )\n",
    "    row[\"sky_track_ref\"] = stream.ref\n",
    "    row[\"dist_track_ref\"] = stream.ref\n",
    "\n",
    "    if name in galstreams_masses:\n",
    "        row[\"stellar_mass\"] = galstreams_masses[name][0]\n",
    "        row[\"stellar_mass_ref\"] = galstreams_masses[name][1]\n",
    "    else:\n",
    "        row[\"stellar_mass\"] = np.nan * u.Msun\n",
    "        row[\"stellar_mass_ref\"] = \"\"\n",
    "\n",
    "    if name in galstreams_widths:\n",
    "        _w = galstreams_widths[name]\n",
    "        row[\"width_sky\"] = _w[0].to(u.deg, u.dimensionless_angles())\n",
    "        row[\"width\"] = _w[1].to(u.pc, u.dimensionless_angles())\n",
    "        row[\"width_ref\"] = _w[2]\n",
    "    else:\n",
    "        print(name)\n",
    "        row[\"width_sky\"] = np.nan * u.deg\n",
    "        row[\"width\"] = np.nan * u.pc\n",
    "        row[\"width_ref\"] = \"\"\n",
    "\n",
    "    internal_data.add_row(row)"
   ]
  },
  {
   "cell_type": "markdown",
   "id": "3f304f1c",
   "metadata": {},
   "source": [
    "Final adjustments to fill in values in columns:"
   ]
  },
  {
   "cell_type": "code",
   "execution_count": 22,
   "id": "98cc2124",
   "metadata": {
    "ExecuteTime": {
     "end_time": "2024-02-14T06:40:37.314950Z",
     "start_time": "2024-02-14T06:40:37.294695Z"
    },
    "execution": {
     "iopub.execute_input": "2024-03-28T00:52:47.633226Z",
     "iopub.status.busy": "2024-03-28T00:52:47.633108Z",
     "iopub.status.idle": "2024-03-28T00:52:47.636882Z",
     "shell.execute_reply": "2024-03-28T00:52:47.636476Z",
     "shell.execute_reply.started": "2024-03-28T00:52:47.633218Z"
    }
   },
   "outputs": [],
   "source": [
    "paper_to_bibcode = {\n",
    "    \"bernard2016\": \"2016MNRAS.463.1759B\",\n",
    "    \"bonaca2012\": \"2012ApJ...760L...6B\",\n",
    "    \"grillmair2009\": \"2009ApJ...693.1118G\",\n",
    "    \"grillmair2013\": \"2013ApJ...769L..23G\",\n",
    "    \"grillmair2014\": \"2014ApJ...790L..10G\",\n",
    "    \"grillmair2017\": \"2017ApJ...834...98G\",\n",
    "    \"grillmair2017a\": \"2017ApJ...834...98G\",\n",
    "    \"grillmair2017b\": \"2017ApJ...847..119G\",\n",
    "    \"ibata2021\": \"2021ApJ...914..123I\",\n",
    "    \"malhan2018\": \"2018MNRAS.481.3442M\",\n",
    "    \"mateu2018\": \"2018MNRAS.474.4112M\",\n",
    "    \"myeong2017\": \"2017MNRAS.469L..78M\",\n",
    "    \"perottoni2019\": \"2019MNRAS.486..843P\",\n",
    "    \"shipp2018\": \"2018ApJ...862..114S\",\n",
    "    \"shipp2020\": \"2020AJ....160..244S\",\n",
    "    \"sollima2020\": \"2020MNRAS.495.2222S\",\n",
    "    \"weiss2018\": \"2018ApJ...867L...1W\",\n",
    "    \"williams2011\": \"2011ApJ...728..102W\",\n",
    "    \"bonaca2012\": \"2012ApJ...760L...6B\",\n",
    "}\n",
    "for colname in [\"sky_track_ref\", \"dist_track_ref\", \"stellar_mass_ref\", \"width_ref\"]:\n",
    "    internal_data[colname] = [\n",
    "        paper_to_bibcode.get(x, x) for x in internal_data[colname]\n",
    "    ]"
   ]
  },
  {
   "cell_type": "markdown",
   "id": "49213090",
   "metadata": {},
   "source": [
    "## Discovery methods"
   ]
  },
  {
   "cell_type": "code",
   "execution_count": 23,
   "id": "b6ae4074",
   "metadata": {
    "ExecuteTime": {
     "end_time": "2024-02-14T06:40:39.253309Z",
     "start_time": "2024-02-14T06:40:39.228380Z"
    },
    "execution": {
     "iopub.execute_input": "2024-03-28T00:52:47.637703Z",
     "iopub.status.busy": "2024-03-28T00:52:47.637560Z",
     "iopub.status.idle": "2024-03-28T00:52:47.645413Z",
     "shell.execute_reply": "2024-03-28T00:52:47.644612Z",
     "shell.execute_reply.started": "2024-03-28T00:52:47.637691Z"
    }
   },
   "outputs": [],
   "source": [
    "discovery_method = {\n",
    "    \"Acheron\": \"photometry\",\n",
    "    \"Styx\": \"photometry\",\n",
    "    \"Cocytos\": \"photometry\",\n",
    "    \"Lethe\": \"photometry\",\n",
    "    \"Aquarius\": \"photometry\",\n",
    "    \"Tri-Pis\": \"photometry\",\n",
    "    \"Alpheus\": \"photometry\",\n",
    "    \"Hermus\": \"photometry\",\n",
    "    \"Hyllus\": \"photometry\",\n",
    "    \"PS1-C\": \"photometry\",\n",
    "    \"PS1-D\": \"photometry\",\n",
    "    \"PS1-E\": \"photometry\",\n",
    "    \"PS1-A\": \"photometry\",\n",
    "    \"PS1-B\": \"photometry\",\n",
    "    \"Orinoco\": \"photometry\",\n",
    "    \"Sangarius\": \"photometry\",\n",
    "    \"Scamander\": \"photometry\",\n",
    "    \"Molonglo\": \"photometry\",\n",
    "    \"Murrumbidgee\": \"photometry\",\n",
    "    \"Pal15\": \"photometry\",\n",
    "    \"Eridanus\": \"photometry\",\n",
    "    \"Wambelong\": \"photometry\",\n",
    "    \"Ravi\": \"photometry\",\n",
    "    \"Palca\": \"photometry\",\n",
    "    \"Willka Yaku\": \"photometry\",\n",
    "    \"Turbio\": \"photometry\",\n",
    "    \"300S\": \"photometry\",\n",
    "    \"Parallel\": \"photometry\",\n",
    "    \"Perpendicular\": \"photometry\",\n",
    "    \"Corvus\": \"rrl\",\n",
    "    \"20.0-1\": \"rrl\",\n",
    "    \"Gaia-5\": \"streamfinder\",\n",
    "    \"Gaia-4\": \"streamfinder\",\n",
    "    \"Gaia-3\": \"streamfinder\",\n",
    "    \"Turranburra\": \"photometry\",\n",
    "    \"Elqui\": \"photometry\",\n",
    "    \"Indus\": \"photometry\",\n",
    "    \"Phoenix\": \"photometry\",\n",
    "    \"OC\": \"photometry\",\n",
    "    \"Pegasus\": \"photometry\",\n",
    "    \"Pal13\": \"photometry\",\n",
    "    \"M30\": \"photometry\",\n",
    "    \"NGC6362\": \"astrometry\",\n",
    "    \"AAU\": \"photometry\",\n",
    "    \"M2\": \"streamfinder\",\n",
    "    \"Gaia-2\": \"streamfinder\",\n",
    "    \"C-8\": \"streamfinder\",\n",
    "    \"C-5\": \"streamfinder\",\n",
    "    \"C-4\": \"streamfinder\",\n",
    "    \"Gunnthra\": \"streamfinder\",\n",
    "    \"Jet\": \"photometry\",\n",
    "    \"Gjoll\": \"streamfinder\",\n",
    "    \"Gaia-10\": \"streamfinder\",\n",
    "    \"Hrid\": \"streamfinder\",\n",
    "    \"Hydrus\": \"photometry\",\n",
    "    \"Gaia-8\": \"streamfinder\",\n",
    "    \"Gaia-7\": \"streamfinder\",\n",
    "    \"Gaia-6\": \"streamfinder\",\n",
    "    \"Ylgr\": \"streamfinder\",\n",
    "    \"Tuc3\": \"photometry\",\n",
    "    \"Gaia-12\": \"streamfinder\",\n",
    "    \"Gaia-11\": \"streamfinder\",\n",
    "    \"Gaia-9\": \"streamfinder\",\n",
    "    \"Kwando\": \"photometry\",\n",
    "    \"GD-1\": \"photometry\",\n",
    "    \"C-10\": \"streamfinder\",\n",
    "    \"C-11\": \"streamfinder\",\n",
    "    \"C-12\": \"streamfinder\",\n",
    "    \"C-13\": \"streamfinder\",\n",
    "    \"C-19\": \"streamfinder\",\n",
    "    \"C-20\": \"streamfinder\",\n",
    "    \"C-22\": \"streamfinder\",\n",
    "    \"Gaia-1\": \"streamfinder\",\n",
    "    \"C-23\": \"streamfinder\",\n",
    "    \"C-25\": \"streamfinder\",\n",
    "    \"C-7\": \"streamfinder\",\n",
    "    \"C-9\": \"streamfinder\",\n",
    "    \"Fimbulthul\": \"streamfinder\",\n",
    "    \"Fimbulthul-S\": \"streamfinder\",\n",
    "    \"Sylgr\": \"streamfinder\",\n",
    "    \"Fjorm\": \"streamfinder\",\n",
    "    \"C-24\": \"streamfinder\",\n",
    "    \"Svol\": \"streamfinder\",\n",
    "    \"Slidr\": \"streamfinder\",\n",
    "    \"Phlegethon\": \"streamfinder\",\n",
    "    \"New-11\": \"streamfinder\",\n",
    "    \"New-10\": \"streamfinder\",\n",
    "    \"New-1\": \"streamfinder\",\n",
    "    \"NGC7492\": \"streamfinder\",\n",
    "    \"NGC7089\": \"streamfinder\",\n",
    "    \"NGC6397\": \"streamfinder\",\n",
    "    \"NGC6101\": \"streamfinder\",\n",
    "    \"NGC5466\": \"photometry\",\n",
    "    \"NGC288\": \"astrometry\",\n",
    "    \"NGC2808\": \"streamfinder\",\n",
    "    \"NGC2298\": \"astrometry\",\n",
    "    \"NGC1851\": \"streamfinder\",\n",
    "    \"NGC1261b\": \"streamfinder\",\n",
    "    \"NGC1261a\": \"streamfinder\",\n",
    "    \"NGC1261\": \"streamfinder\",\n",
    "    \"M92\": \"astrometry\",\n",
    "    \"M5\": \"photometry\",\n",
    "    \"Leiptr\": \"streamfinder\",\n",
    "    \"LMS-1\": \"iom-clustering\",\n",
    "    \"New-12\": \"streamfinder\",\n",
    "    \"Kshir\": \"streamfinder\",\n",
    "    \"New-13\": \"streamfinder\",\n",
    "    \"New-15\": \"streamfinder\",\n",
    "    \"Pal5\": \"photometry\",\n",
    "    \"Ophiuchus\": \"photometry\",\n",
    "    \"New-8\": \"streamfinder\",\n",
    "    \"New-7\": \"streamfinder\",\n",
    "    \"New-6\": \"streamfinder\",\n",
    "    \"New-5\": \"streamfinder\",\n",
    "    \"New-4\": \"streamfinder\",\n",
    "    \"New-3\": \"streamfinder\",\n",
    "    \"New-28\": \"streamfinder\",\n",
    "    \"New-27\": \"streamfinder\",\n",
    "    \"New-26\": \"streamfinder\",\n",
    "    \"New-24\": \"streamfinder\",\n",
    "    \"New-23\": \"streamfinder\",\n",
    "    \"New-22\": \"streamfinder\",\n",
    "    \"New-21\": \"streamfinder\",\n",
    "    \"New-20\": \"streamfinder\",\n",
    "    \"New-2\": \"streamfinder\",\n",
    "    \"New-19\": \"streamfinder\",\n",
    "    \"New-18\": \"streamfinder\",\n",
    "    \"Jhelum\": \"photometry\",\n",
    "    \"New-16\": \"streamfinder\",\n",
    "    \"New-14\": \"streamfinder\",\n",
    "    \"New-17\": \"streamfinder\",\n",
    "}\n",
    "discovery_method = at.Table(\n",
    "    {\n",
    "        \"name\": list(discovery_method.keys()),\n",
    "        \"discovery_method\": list(discovery_method.values()),\n",
    "    }\n",
    ")"
   ]
  },
  {
   "cell_type": "code",
   "execution_count": 24,
   "id": "71f87a11",
   "metadata": {
    "ExecuteTime": {
     "end_time": "2024-02-14T06:40:40.527435Z",
     "start_time": "2024-02-14T06:40:40.506763Z"
    },
    "execution": {
     "iopub.execute_input": "2024-03-28T00:52:47.646514Z",
     "iopub.status.busy": "2024-03-28T00:52:47.646250Z",
     "iopub.status.idle": "2024-03-28T00:52:47.653442Z",
     "shell.execute_reply": "2024-03-28T00:52:47.652038Z",
     "shell.execute_reply.started": "2024-03-28T00:52:47.646501Z"
    }
   },
   "outputs": [],
   "source": [
    "internal_data = at.join(internal_data, discovery_method, keys=\"name\", join_type=\"left\")"
   ]
  },
  {
   "cell_type": "markdown",
   "id": "84484ea2-ce28-4a63-9765-f22ec448d109",
   "metadata": {},
   "source": [
    "## Spectroscopic data:"
   ]
  },
  {
   "cell_type": "code",
   "execution_count": 25,
   "id": "8ed304cd-9a2e-47f5-9bf2-a926bd99b3a5",
   "metadata": {
    "execution": {
     "iopub.execute_input": "2024-03-28T00:52:47.666889Z",
     "iopub.status.busy": "2024-03-28T00:52:47.665345Z",
     "iopub.status.idle": "2024-03-28T00:52:47.695396Z",
     "shell.execute_reply": "2024-03-28T00:52:47.693107Z",
     "shell.execute_reply.started": "2024-03-28T00:52:47.666856Z"
    }
   },
   "outputs": [],
   "source": [
    "paper_to_bibcode = {\n",
    "    \"bonaca2012\": \"2012ApJ...760L...6B\",\n",
    "    \"bonaca2020\": \"2020ApJ...892L..37B\",\n",
    "    \"caldwell2020\": \"2020AJ....159..287C\",\n",
    "    \"ferguson2022\": \"2022AJ....163...18F\",\n",
    "    \"fu2018\": \"2018ApJ...866...42F\",\n",
    "    \"gialluca2021\": \"2021ApJ...911L..32G\",\n",
    "    \"hansen2021\": \"2021ApJ...915..103H\",\n",
    "    \"ibata2017\": \"2017ApJ...842..120I\",\n",
    "    \"ibata2019\": \"2019ApJ...872..152I\",\n",
    "    \"ibata2019b\": \"2019NatAs...3..667I\",\n",
    "    \"ibata2021\": \"2021ApJ...914..123I\",\n",
    "    \"ibata2023\": \"\",\n",
    "    \"jensen2021\": \"2021MNRAS.507.1923J\",\n",
    "    \"ji2020\": \"2020AJ....160..181J\",\n",
    "    \"koposov2010\": \"2010ApJ...712..260K\",\n",
    "    \"koposov2019\": \"2019MNRAS.485.4726K\",\n",
    "    \"koposov2023\": \"2023MNRAS.521.4936K\",\n",
    "    \"kuzma2015\": \"2015MNRAS.446.3297K\",\n",
    "    \"li2019\": \"2019MNRAS.490.3508L\",\n",
    "    \"li2021\": \"2021ApJ...911..149L\",\n",
    "    \"li2022\": \"2022ApJ...928...30L\",\n",
    "    \"malhan2019\": \"2019ApJ...886L...7M\",\n",
    "    \"martin2013\": \"2013ApJ...765L..39M\",\n",
    "    \"odenkirchen2009\": \"2009AJ....137.3378O\",\n",
    "    \"pricewhelan2019\": \"2019AJ....158..223P\",\n",
    "    \"sesar2015\": \"2015ApJ...809...59S\",\n",
    "    \"sheffield2021\": \"2021ApJ...913...39S\",\n",
    "    \"shipp2019\": \"2019ApJ...885....3S\",\n",
    "    \"williams2011\": \"2011ApJ...728..102W\",\n",
    "    \"yuan2020\": \"2020ApJ...898L..37Y\",\n",
    "}\n",
    "\n",
    "spec_data = {\n",
    "    \"300S\": [\"fu2018\", \"li2022\"],\n",
    "    \"AAU\": [\"li2019\", \"ji2020\", \"li2022\", \"ibata2023\"],\n",
    "    \"GD-1\": [\"koposov2010\", \"bonaca2020\", \"gialluca2021\"],\n",
    "    \"Elqui\": [\"li2019\", \"ji2020\", \"li2022\"],\n",
    "    \"Fimbulthul\": [\"ibata2019\", \"ibata2019b\"],\n",
    "    \"Fjorm\": [\"ibata2019\"],\n",
    "    \"Gjoll\": [\"ibata2019\", \"ibata2021\"],\n",
    "    \"Gunnthra\": [\"ibata2021\"],\n",
    "    \"Hrid\": [\"ibata2021\"],\n",
    "    \"Indus\": [\"li2019\", \"ji2020\", \"hansen2021\", \"li2022\"],\n",
    "    \"Jet\": [\"li2022\"],\n",
    "    \"Jhelum\": [\"li2019\", \"ji2020\", \"sheffield2021\", \"li2022\"],\n",
    "    \"Kshir\": [\"malhan2019\"],\n",
    "    \"Leiptr\": [\"ibata2019\"],\n",
    "    \"LMS-1\": [\"yuan2020\"],\n",
    "    \"NGC3201\": [\"ibata2021\"],\n",
    "    \"NGC6397\": [\"ibata2021\"],\n",
    "    \"OC\": [\"li2019\", \"ji2020\", \"li2022\", \"koposov2023\", \"ibata2023\"],\n",
    "    \"Ophiuchus\": [\"sesar2015\", \"caldwell2020\", \"li2022\"],\n",
    "    \"Pal5\": [\"odenkirchen2009\", \"kuzma2015\", \"ibata2017\"],\n",
    "    \"Palca\": [\"li2022\"],\n",
    "    \"Phoenix\": [\"li2019\", \"ji2020\", \"li2022\"],\n",
    "    \"Slidr\": [\"ibata2019\"],\n",
    "    \"Slygr\": [\"ibata2019\"],\n",
    "    \"Tri-Pis\": [\"martin2013\"],\n",
    "    \"Turranburra\": [\"li2022\"],\n",
    "    \"Willka Yaku\": [\"li2022\"],\n",
    "    \"Ylgr\": [\"ibata2019\"],\n",
    "}\n",
    "\n",
    "# Add in all streams observed in Ibata+2023 based on source IDs from paper\n",
    "for name in np.unique(\n",
    "    ibata_tbl[\"name\"][np.isin(ibata_tbl[\"vsource\"], [8, 12, 13, 14])]\n",
    "):\n",
    "    if name not in internal_data[\"name\"]:\n",
    "        continue\n",
    "\n",
    "    if name not in spec_data:\n",
    "        spec_data[name] = []\n",
    "\n",
    "    spec_data[name].append(\"ibata2023\")\n",
    "\n",
    "spec_data = at.Table(\n",
    "    [\n",
    "        {\n",
    "            \"name\": k,\n",
    "            \"has_spec\": True,\n",
    "            \"spec_bibcodes\": [paper_to_bibcode[y] for y in v],\n",
    "        }\n",
    "        for k, v in spec_data.items()\n",
    "    ]\n",
    ")\n",
    "\n",
    "internal_data = at.join(internal_data, spec_data, keys=\"name\", join_type=\"left\")\n",
    "internal_data[\"has_spec\"] = internal_data[\"has_spec\"].filled(False)\n",
    "internal_data[\"spec_bibcodes\"] = internal_data[\"spec_bibcodes\"].filled(\"\")"
   ]
  },
  {
   "cell_type": "code",
   "execution_count": 26,
   "id": "c51b0bdd-7460-4166-9549-0aac57ed36e6",
   "metadata": {
    "execution": {
     "iopub.execute_input": "2024-03-28T00:55:05.135518Z",
     "iopub.status.busy": "2024-03-28T00:55:05.133602Z",
     "iopub.status.idle": "2024-03-28T00:55:05.150010Z",
     "shell.execute_reply": "2024-03-28T00:55:05.149118Z",
     "shell.execute_reply.started": "2024-03-28T00:55:05.135425Z"
    }
   },
   "outputs": [
    {
     "name": "stdout",
     "output_type": "stream",
     "text": [
      "     name    \n",
      "-------------\n",
      "       20.0-1\n",
      "      Acheron\n",
      "      Alpheus\n",
      "     Aquarius\n",
      "         C-13\n",
      "         C-22\n",
      "         C-23\n",
      "         C-24\n",
      "          C-4\n",
      "          C-5\n",
      "          C-8\n",
      "      Cocytos\n",
      "       Corvus\n",
      "     Eridanus\n",
      "      Gaia-10\n",
      "       Gaia-2\n",
      "       Gaia-3\n",
      "       Gaia-4\n",
      "       Gaia-5\n",
      "       Gaia-6\n",
      "       Hermus\n",
      "       Hydrus\n",
      "       Hyllus\n",
      "        Lethe\n",
      "           M2\n",
      "     Molonglo\n",
      " Murrumbidgee\n",
      "      NGC1261\n",
      "     NGC1261a\n",
      "     NGC1261b\n",
      "      NGC1851\n",
      "      NGC2298\n",
      "      NGC5466\n",
      "      NGC6362\n",
      "      NGC7492\n",
      "        New-1\n",
      "       New-10\n",
      "       New-12\n",
      "       New-18\n",
      "       New-19\n",
      "       New-20\n",
      "        New-9\n",
      "      Orinoco\n",
      "        PS1-A\n",
      "        PS1-B\n",
      "        PS1-C\n",
      "        PS1-D\n",
      "        PS1-E\n",
      "        Pal13\n",
      "        Pal15\n",
      "     Parallel\n",
      "      Pegasus\n",
      "Perpendicular\n",
      "         Ravi\n",
      "    Sangarius\n",
      "    Scamander\n",
      "         Styx\n",
      "         Svol\n",
      "       Turbio\n",
      "    Wambelong\n"
     ]
    }
   ],
   "source": [
    "internal_data[~internal_data[\"has_spec\"]][\"name\"].pprint(1000)"
   ]
  },
  {
   "cell_type": "markdown",
   "id": "e60e68f9-d663-4aae-9998-e0d1f4b61b0a",
   "metadata": {},
   "source": [
    "## Detected in Gaia:"
   ]
  },
  {
   "cell_type": "code",
   "execution_count": 27,
   "id": "2bde25d5-a58a-452b-81c0-7e79d0125059",
   "metadata": {
    "execution": {
     "iopub.execute_input": "2024-03-28T00:55:06.310905Z",
     "iopub.status.busy": "2024-03-28T00:55:06.310526Z",
     "iopub.status.idle": "2024-03-28T00:55:06.416156Z",
     "shell.execute_reply": "2024-03-28T00:55:06.414992Z",
     "shell.execute_reply.started": "2024-03-28T00:55:06.310883Z"
    }
   },
   "outputs": [],
   "source": [
    "gaia_override = [\n",
    "    \"300S\",\n",
    "    \"AAU\",\n",
    "    \"Elqui\",\n",
    "    \"Gaia-3\",\n",
    "    \"Gaia-4\",\n",
    "    \"Gaia-5\",\n",
    "    \"Jet\",\n",
    "    \"OC\",\n",
    "    \"Palca\",\n",
    "    \"Turranburra\",\n",
    "    \"Willka Yaku\",\n",
    "]\n",
    "\n",
    "has_gaia = []\n",
    "for irow in internal_data:\n",
    "    try:\n",
    "        pm1 = irow[\"track\"].pm_phi1_cosphi2\n",
    "        pm_track_bool = np.any(~np.isclose(pm1.value, 0))\n",
    "    except TypeError:\n",
    "        pm_track_bool = False\n",
    "\n",
    "    has_gaia.append(\n",
    "        (\n",
    "            (irow[\"name\"] in ibata_tbl[\"name\"])\n",
    "            or pm_track_bool\n",
    "            or (irow[\"name\"] in gaia_override)\n",
    "        )\n",
    "        and irow[\"name\"] != \"Aquarius\"\n",
    "    )\n",
    "\n",
    "internal_data[\"has_gaia\"] = has_gaia"
   ]
  },
  {
   "cell_type": "code",
   "execution_count": 28,
   "id": "cf0cbdfb-3217-49d6-bafd-8029f98fd931",
   "metadata": {
    "execution": {
     "iopub.execute_input": "2024-03-28T00:55:06.784204Z",
     "iopub.status.busy": "2024-03-28T00:55:06.783814Z",
     "iopub.status.idle": "2024-03-28T00:55:06.792712Z",
     "shell.execute_reply": "2024-03-28T00:55:06.790819Z",
     "shell.execute_reply.started": "2024-03-28T00:55:06.784182Z"
    }
   },
   "outputs": [
    {
     "name": "stdout",
     "output_type": "stream",
     "text": [
      "    name    \n",
      "------------\n",
      "        300S\n",
      "         AAU\n",
      "        C-10\n",
      "        C-11\n",
      "        C-12\n",
      "        C-13\n",
      "        C-19\n",
      "        C-20\n",
      "        C-22\n",
      "        C-23\n",
      "        C-24\n",
      "        C-25\n",
      "         C-4\n",
      "         C-5\n",
      "         C-7\n",
      "         C-8\n",
      "         C-9\n",
      "       Elqui\n",
      "  Fimbulthul\n",
      "Fimbulthul-S\n",
      "       Fjorm\n",
      "        GD-1\n",
      "      Gaia-1\n",
      "     Gaia-10\n",
      "     Gaia-11\n",
      "     Gaia-12\n",
      "      Gaia-2\n",
      "      Gaia-3\n",
      "      Gaia-4\n",
      "      Gaia-5\n",
      "      Gaia-6\n",
      "      Gaia-7\n",
      "      Gaia-8\n",
      "      Gaia-9\n",
      "       Gjoll\n",
      "    Gunnthra\n",
      "        Hrid\n",
      "      Hydrus\n",
      "       Indus\n",
      "         Jet\n",
      "      Jhelum\n",
      "       Kshir\n",
      "      Kwando\n",
      "       LMS-1\n",
      "      Leiptr\n",
      "          M2\n",
      "          M5\n",
      "         M92\n",
      "     NGC1261\n",
      "    NGC1261a\n",
      "    NGC1261b\n",
      "     NGC1851\n",
      "     NGC2298\n",
      "     NGC2808\n",
      "      NGC288\n",
      "     NGC5466\n",
      "     NGC6101\n",
      "     NGC6397\n",
      "     NGC7089\n",
      "     NGC7099\n",
      "     NGC7492\n",
      "       New-1\n",
      "      New-10\n",
      "      New-11\n",
      "      New-12\n",
      "      New-13\n",
      "      New-14\n",
      "      New-15\n",
      "      New-16\n",
      "      New-17\n",
      "      New-18\n",
      "      New-19\n",
      "       New-2\n",
      "      New-20\n",
      "      New-21\n",
      "      New-22\n",
      "      New-23\n",
      "      New-24\n",
      "      New-25\n",
      "      New-26\n",
      "      New-27\n",
      "      New-28\n",
      "       New-3\n",
      "       New-4\n",
      "       New-5\n",
      "       New-6\n",
      "       New-7\n",
      "       New-8\n",
      "       New-9\n",
      "          OC\n",
      "   Ophiuchus\n",
      "        Pal5\n",
      "       Palca\n",
      "  Phlegethon\n",
      "     Phoenix\n",
      "        Ravi\n",
      "       Slidr\n",
      "        Svol\n",
      "       Sylgr\n",
      "        Tuc3\n",
      "      Turbio\n",
      " Turranburra\n",
      "   Wambelong\n",
      " Willka Yaku\n",
      "        Ylgr\n"
     ]
    }
   ],
   "source": [
    "internal_data[internal_data[\"has_gaia\"]][\"name\"].pprint(1000)"
   ]
  },
  {
   "cell_type": "code",
   "execution_count": 29,
   "id": "7758e798-1af9-428e-8aed-814f476ea025",
   "metadata": {
    "execution": {
     "iopub.execute_input": "2024-03-28T00:55:07.376481Z",
     "iopub.status.busy": "2024-03-28T00:55:07.375849Z",
     "iopub.status.idle": "2024-03-28T00:55:07.383238Z",
     "shell.execute_reply": "2024-03-28T00:55:07.382078Z",
     "shell.execute_reply.started": "2024-03-28T00:55:07.376455Z"
    }
   },
   "outputs": [
    {
     "name": "stdout",
     "output_type": "stream",
     "text": [
      "     name    \n",
      "-------------\n",
      "       20.0-1\n",
      "      Acheron\n",
      "      Alpheus\n",
      "     Aquarius\n",
      "      Cocytos\n",
      "       Corvus\n",
      "     Eridanus\n",
      "       Hermus\n",
      "       Hyllus\n",
      "        Lethe\n",
      "     Molonglo\n",
      " Murrumbidgee\n",
      "      NGC6362\n",
      "      Orinoco\n",
      "        PS1-A\n",
      "        PS1-B\n",
      "        PS1-C\n",
      "        PS1-D\n",
      "        PS1-E\n",
      "        Pal13\n",
      "        Pal15\n",
      "     Parallel\n",
      "      Pegasus\n",
      "Perpendicular\n",
      "    Sangarius\n",
      "    Scamander\n",
      "         Styx\n",
      "      Tri-Pis\n"
     ]
    }
   ],
   "source": [
    "internal_data[~internal_data[\"has_gaia\"]][\"name\"].pprint(1000)"
   ]
  },
  {
   "cell_type": "code",
   "execution_count": 30,
   "id": "34d36e83-4293-46e4-9133-9248b2316831",
   "metadata": {
    "execution": {
     "iopub.execute_input": "2024-03-28T00:55:08.184534Z",
     "iopub.status.busy": "2024-03-28T00:55:08.184078Z",
     "iopub.status.idle": "2024-03-28T00:55:08.239783Z",
     "shell.execute_reply": "2024-03-28T00:55:08.239316Z",
     "shell.execute_reply.started": "2024-03-28T00:55:08.184507Z"
    }
   },
   "outputs": [],
   "source": [
    "with open(\"../data/all_stream_summary_data.pkl\", \"wb\") as f:\n",
    "    pickle.dump(internal_data, f)"
   ]
  },
  {
   "cell_type": "markdown",
   "id": "db9edf66",
   "metadata": {},
   "source": [
    "# Main Summary Table\n",
    "\n",
    "- name\n",
    "- phi1,2 = (0, 0) in ICRS coords\n",
    "- length\n",
    "- distmod (dist)\n",
    "- range of distmod (dist)\n",
    "- stellar mass\n",
    "- found with gaia y/n\n",
    "- spec follow up y/n\n",
    "- associated with progenitor y/n"
   ]
  },
  {
   "cell_type": "code",
   "execution_count": 90,
   "id": "50bbfbe7",
   "metadata": {
    "ExecuteTime": {
     "end_time": "2024-02-14T06:42:53.547491Z",
     "start_time": "2024-02-14T06:42:52.587621Z"
    },
    "execution": {
     "iopub.execute_input": "2024-03-28T01:31:08.927840Z",
     "iopub.status.busy": "2024-03-28T01:31:08.927402Z",
     "iopub.status.idle": "2024-03-28T01:31:09.432932Z",
     "shell.execute_reply": "2024-03-28T01:31:09.432621Z",
     "shell.execute_reply.started": "2024-03-28T01:31:08.927817Z"
    }
   },
   "outputs": [],
   "source": [
    "summary_table = []\n",
    "for irow in internal_data:\n",
    "    row = {}\n",
    "    row[\"Name\"] = irow[\"name\"]\n",
    "\n",
    "    frame = irow[\"track\"].frame.replicate_without_data()\n",
    "\n",
    "    _sort_idx = np.argsort(irow[\"track\"].phi1.degree)\n",
    "    dist_spl = InterpolatedUnivariateSpline(\n",
    "        irow[\"track\"].phi1.degree[_sort_idx], irow[\"track\"].distance.kpc[_sort_idx], k=3\n",
    "    )\n",
    "    origin_c = coord.SkyCoord(\n",
    "        phi1=0 * u.deg,\n",
    "        phi2=0 * u.deg,\n",
    "        distance=np.abs(dist_spl(0.0)) * u.kpc,\n",
    "        frame=frame,\n",
    "    )\n",
    "    origin_c = origin_c.transform_to(coord.ICRS())\n",
    "    galcen = origin_c.transform_to(coord.Galactocentric())\n",
    "    row[\"Origin RA\"] = origin_c.ra\n",
    "    row[\"Origin Dec.\"] = origin_c.dec\n",
    "\n",
    "    # dhelio_name = \"Origin Helio. Dist.\"\n",
    "    dhelio_name = r\"$D_{\\rm hel}$\"\n",
    "    row[dhelio_name] = origin_c.distance.view(u.Quantity)\n",
    "\n",
    "    # rgal_name = \"Origin Gal. Radius\"\n",
    "    rgal_name = r\"$r_{\\rm gal}$\"\n",
    "    row[rgal_name] = np.squeeze(np.linalg.norm(galcen.data.xyz))\n",
    "\n",
    "    # if np.isclose(irow[\"track\"].distance.kpc.min(), irow[\"track\"].distance.kpc.max()):\n",
    "    #     row[\"Min. Dist.\"] = np.nan * u.kpc\n",
    "    #     row[\"Max. Dist.\"] = np.nan * u.kpc\n",
    "    # else:\n",
    "    #     row[\"Min. Dist.\"] = irow[\"track\"].distance.min().view(u.Quantity)\n",
    "    #     row[\"Max. Dist.\"] = irow[\"track\"].distance.max().view(u.Quantity)\n",
    "\n",
    "    row[\"Length (sky)\"] = irow[\"track\"].phi1.max() - irow[\"track\"].phi1.min()\n",
    "    row[\"Width (sky)\"] = irow[\"width_sky\"]\n",
    "    row[\"Width\"] = irow[\"width\"]\n",
    "    row[\"Reference\"] = irow[\"sky_track_ref\"]\n",
    "    \n",
    "    row[\"Width Ref.\"] = irow[\"width_ref\"] if irow[\"width_ref\"] != \"\" else \"this work\"\n",
    "    if np.isnan(irow[\"width\"]):\n",
    "        row[\"Width Ref.\"] = \"\"\n",
    "                \n",
    "    row[\"Stellar Mass\"] = irow[\"stellar_mass\"]\n",
    "    if irow[\"stellar_mass_ref\"] != \"\" or np.isnan(irow[\"stellar_mass\"]):\n",
    "        row[\"Stellar Mass Ref.\"] = irow[\"stellar_mass_ref\"]\n",
    "    else:\n",
    "        row[\"Stellar Mass Ref.\"] = \"this work\"\n",
    "\n",
    "    if irow[\"ibata2023_sID\"] != 0:\n",
    "        row[\"Distance Ref.\"] = \"this work\"\n",
    "    else:\n",
    "        row[\"Distance Ref.\"] = irow[\"sky_track_ref\"]\n",
    "\n",
    "    row[\"Found in Gaia\"] = irow[\"has_gaia\"]\n",
    "    row[\"Spec. Follow Up\"] = irow[\"has_spec\"]\n",
    "    row[\"Spec. Ref.\"] = irow[\"spec_bibcodes\"]\n",
    "    # row[\"Gaia\"] = irow[\"ibata2023_sID\"] != 0 or pm_track_bool\n",
    "    # row[\"S5\"] = np.in1d([irow[\"name\"]] + irow[\"other_names\"], s5_data[\"name\"]).any()\n",
    "    summary_table.append(row)\n",
    "\n",
    "tmp_summary_table = at.QTable(summary_table)"
   ]
  },
  {
   "cell_type": "markdown",
   "id": "3b88087c",
   "metadata": {},
   "source": [
    "Sort by: (spec and gaia, gaia, all remaining), and then alphabetical by name within each:"
   ]
  },
  {
   "cell_type": "code",
   "execution_count": 91,
   "id": "d1010da2",
   "metadata": {
    "ExecuteTime": {
     "end_time": "2024-02-14T06:42:55.474845Z",
     "start_time": "2024-02-14T06:42:55.448965Z"
    },
    "execution": {
     "iopub.execute_input": "2024-03-28T01:31:11.006434Z",
     "iopub.status.busy": "2024-03-28T01:31:11.005976Z",
     "iopub.status.idle": "2024-03-28T01:31:11.032628Z",
     "shell.execute_reply": "2024-03-28T01:31:11.032033Z",
     "shell.execute_reply.started": "2024-03-28T01:31:11.006409Z"
    }
   },
   "outputs": [],
   "source": [
    "# Custom sort function:\n",
    "def natural_sort(key):\n",
    "    return [int(s) if s.isdigit() else s for s in re.split(r\"(\\d+)\", key)]\n",
    "\n",
    "\n",
    "tbl1 = tmp_summary_table[tmp_summary_table[\"Spec. Follow Up\"] & tmp_summary_table[\"Found in Gaia\"]]\n",
    "tbl2 = tmp_summary_table[~tmp_summary_table[\"Spec. Follow Up\"] & tmp_summary_table[\"Found in Gaia\"]]\n",
    "tbl3 = tmp_summary_table[~np.isin(tmp_summary_table[\"Name\"], tbl1[\"Name\"]) & ~np.isin(tmp_summary_table[\"Name\"], tbl2[\"Name\"])]\n",
    "assert len(tbl1) + len(tbl2) + len(tbl3) == len(tmp_summary_table)\n",
    "tbls = [tbl1, tbl2, tbl3]\n",
    "table_heads = [\n",
    "    \"Has spectroscopic follow up and Gaia detection\",\n",
    "    \"Gaia detection\",\n",
    "    \"Needs follow-up observations\",\n",
    "]\n",
    "\n",
    "sorted_tbls = []\n",
    "split_streams = []\n",
    "for tbl in tbls:\n",
    "    sorted_names = sorted(tbl[\"Name\"], key=natural_sort)\n",
    "    argsort = np.array([np.where(tbl[\"Name\"] == name)[0][0] for name in sorted_names])\n",
    "    tbl = tbl[argsort]\n",
    "    sorted_tbls.append(tbl)\n",
    "    split_streams.append(tbl[\"Name\"][-1])\n",
    "\n",
    "summary_table = at.vstack(sorted_tbls)\n",
    "summary_table.remove_columns([\"Found in Gaia\", \"Spec. Follow Up\"])"
   ]
  },
  {
   "cell_type": "code",
   "execution_count": 68,
   "id": "0ec3c35d",
   "metadata": {
    "ExecuteTime": {
     "end_time": "2024-02-14T06:42:57.793764Z",
     "start_time": "2024-02-14T06:42:56.916814Z"
    },
    "execution": {
     "iopub.execute_input": "2024-03-28T01:06:42.010983Z",
     "iopub.status.busy": "2024-03-28T01:06:42.010568Z",
     "iopub.status.idle": "2024-03-28T01:07:05.163089Z",
     "shell.execute_reply": "2024-03-28T01:07:05.161737Z",
     "shell.execute_reply.started": "2024-03-28T01:06:42.010960Z"
    }
   },
   "outputs": [
    {
     "name": "stderr",
     "output_type": "stream",
     "text": [
      "/Users/apricewhelan/anaconda3/lib/python3.10/site-packages/ads/utils.py:26: UserWarning: You are lazy loading attributes via 'bibtex', and so are making multiple calls to the API. This will impact your overall rate limits.\n",
      "  warnings.warn(\n",
      "/Users/apricewhelan/anaconda3/lib/python3.10/site-packages/ads/search.py:302: UserWarning: bibtex should be queried with ads.ExportQuery(); You will hit API ratelimits very quickly otherwise.\n",
      "  warnings.warn(\"bibtex should be queried with ads.ExportQuery(); You will \"\n"
     ]
    },
    {
     "name": "stdout",
     "output_type": "stream",
     "text": [
      "this work\n"
     ]
    }
   ],
   "source": [
    "bibcode_to_bib = {}\n",
    "bibcode_to_ref_id = {}\n",
    "i = 1\n",
    "for bibcode in np.unique(\n",
    "    np.concatenate(\n",
    "        (\n",
    "            summary_table[\"Reference\"],\n",
    "            summary_table[\"Stellar Mass Ref.\"],\n",
    "            summary_table[\"Distance Ref.\"],\n",
    "            summary_table[\"Width Ref.\"],\n",
    "            [x for y in summary_table[\"Spec. Ref.\"][summary_table[\"Spec. Ref.\"] != \"\"] for x in y]\n",
    "        )\n",
    "    )\n",
    "):\n",
    "    if bibcode == \"\":\n",
    "        continue\n",
    "\n",
    "    try:\n",
    "        paper = list(ads.SearchQuery(bibcode=bibcode))[0]\n",
    "    except IndexError:\n",
    "        print(bibcode)\n",
    "        continue\n",
    "\n",
    "    # Handle grillmair 2017b\n",
    "    cite_key = f\"{paper.first_author.split(',')[0].lower()}:{paper.year}\"\n",
    "    if cite_key in [x[0] for x in bibcode_to_bib.values()]:\n",
    "        cite_key = f\"{cite_key}b\"\n",
    "    bibtex = paper.bibtex.replace(bibcode, cite_key)\n",
    "    bibcode_to_bib[bibcode] = (cite_key, bibtex)\n",
    "    bibcode_to_ref_id[bibcode] = i\n",
    "    i += 1\n",
    "\n",
    "bibcode_to_ref_id[\"this work\"] = \"*\""
   ]
  },
  {
   "cell_type": "markdown",
   "id": "b11d519e",
   "metadata": {},
   "source": [
    "Replace references with letters after the stream name:"
   ]
  },
  {
   "cell_type": "code",
   "execution_count": 92,
   "id": "94d1c82f",
   "metadata": {
    "execution": {
     "iopub.execute_input": "2024-03-28T01:31:13.141888Z",
     "iopub.status.busy": "2024-03-28T01:31:13.141480Z",
     "iopub.status.idle": "2024-03-28T01:31:13.160547Z",
     "shell.execute_reply": "2024-03-28T01:31:13.159764Z",
     "shell.execute_reply.started": "2024-03-28T01:31:13.141864Z"
    }
   },
   "outputs": [],
   "source": [
    "# Add reference letters next to values:\n",
    "# with_refs = {\"Name\": [], dhelio_name: [], \"Stellar Mass\": []}\n",
    "# for row in summary_table:\n",
    "#     ref = bibcode_to_ref_id.get(row[\"Reference\"], \"\")\n",
    "#     with_refs[\"Name\"].append(f\"{row['Name']}$^{{({ref})}}$\" if ref else \"\")\n",
    "\n",
    "#     d = row[dhelio_name]\n",
    "#     ref = bibcode_to_ref_id.get(row[\"Distance Ref.\"], \"\")\n",
    "#     with_refs[dhelio_name].append(\n",
    "#         f\"{d.value:.1f}$^{{({ref})}}$\" if ref else f\"{d.value:.1f}\"\n",
    "#     )\n",
    "\n",
    "#     ref = bibcode_to_ref_id.get(row[\"Stellar Mass Ref.\"], \"\")\n",
    "#     with_refs[\"Stellar Mass\"].append(\n",
    "#         f\"{row['Stellar Mass'].value:.0e}$^{{({ref})}}$\"\n",
    "#         if ref\n",
    "#         else f\"{row['Stellar Mass'].value:.0e}\"\n",
    "#     )\n",
    "\n",
    "# summary_table[\"Name\"] = with_refs[\"Name\"]\n",
    "# summary_table[dhelio_name] = with_refs[dhelio_name]\n",
    "# summary_table[dhelio_name].unit = u.kpc\n",
    "# summary_table[\"Stellar Mass\"] = with_refs[\"Stellar Mass\"]\n",
    "# summary_table[\"Stellar Mass\"].unit = u.Msun\n",
    "# summary_table.remove_columns([\"Reference\", \"Stellar Mass Ref.\", \"Distance Ref.\"])\n",
    "\n",
    "# Add a new column with all reference letters:\n",
    "refs = []\n",
    "for row in summary_table:\n",
    "    ref = bibcode_to_ref_id.get(row[\"Reference\"], \"\")\n",
    "    ref_d = bibcode_to_ref_id.get(row[\"Distance Ref.\"], \"\")\n",
    "    ref_m = bibcode_to_ref_id.get(row[\"Stellar Mass Ref.\"], \"\")\n",
    "    ref_w = bibcode_to_ref_id.get(row[\"Width Ref.\"], \"\")\n",
    "    ref_s = [bibcode_to_ref_id.get(x, \"\") for x in row[\"Spec. Ref.\"]] if row[\"Spec. Ref.\"] else []\n",
    "    refs.append(\n",
    "        \",\".join([f\"({r})\" for r in np.unique([ref, ref_w, ref_d, ref_m] + ref_s) if r])\n",
    "    )\n",
    "\n",
    "final_summary_table = summary_table.copy()\n",
    "final_summary_table[\"References\"] = refs\n",
    "final_summary_table.remove_columns(\n",
    "    [\"Reference\", \"Stellar Mass Ref.\", \"Distance Ref.\", \"Width Ref.\", \"Spec. Ref.\"]\n",
    ")"
   ]
  },
  {
   "cell_type": "code",
   "execution_count": 93,
   "id": "6cff1c57",
   "metadata": {
    "execution": {
     "iopub.execute_input": "2024-03-28T01:31:14.022181Z",
     "iopub.status.busy": "2024-03-28T01:31:14.021777Z",
     "iopub.status.idle": "2024-03-28T01:31:14.026713Z",
     "shell.execute_reply": "2024-03-28T01:31:14.025727Z",
     "shell.execute_reply.started": "2024-03-28T01:31:14.022157Z"
    }
   },
   "outputs": [],
   "source": [
    "caption = [\n",
    "    f\"({num}): \\citet{{{bibcode_to_bib[bibcode][0]}}}\"\n",
    "    if bibcode in bibcode_to_bib\n",
    "    else f\"({num}): this work\"\n",
    "    for bibcode, num in bibcode_to_ref_id.items()\n",
    "]\n",
    "caption = \", \".join(caption)"
   ]
  },
  {
   "cell_type": "markdown",
   "id": "64049f48",
   "metadata": {},
   "source": [
    "Split the full table into batches:"
   ]
  },
  {
   "cell_type": "code",
   "execution_count": 94,
   "id": "fe21fac1",
   "metadata": {
    "execution": {
     "iopub.execute_input": "2024-03-28T01:31:15.260838Z",
     "iopub.status.busy": "2024-03-28T01:31:15.260398Z",
     "iopub.status.idle": "2024-03-28T01:31:15.269868Z",
     "shell.execute_reply": "2024-03-28T01:31:15.268929Z",
     "shell.execute_reply.started": "2024-03-28T01:31:15.260810Z"
    }
   },
   "outputs": [
    {
     "data": {
      "text/plain": [
       "[34, 34, 34, 31]"
      ]
     },
     "execution_count": 94,
     "metadata": {},
     "output_type": "execute_result"
    }
   ],
   "source": [
    "idx = np.arange(0, len(final_summary_table) + 1, 34)\n",
    "if idx[-1] < len(final_summary_table):\n",
    "    idx = np.concatenate((idx, [len(final_summary_table)]))\n",
    "\n",
    "sub_tables = [final_summary_table[i:j] for i, j in zip(idx[:-1], idx[1:])]\n",
    "[len(x) for x in sub_tables]"
   ]
  },
  {
   "cell_type": "code",
   "execution_count": 95,
   "id": "2ed75afe",
   "metadata": {
    "execution": {
     "iopub.execute_input": "2024-03-28T01:31:16.444858Z",
     "iopub.status.busy": "2024-03-28T01:31:16.444429Z",
     "iopub.status.idle": "2024-03-28T01:31:16.480545Z",
     "shell.execute_reply": "2024-03-28T01:31:16.479894Z",
     "shell.execute_reply.started": "2024-03-28T01:31:16.444832Z"
    }
   },
   "outputs": [],
   "source": [
    "texts = []\n",
    "for i, tbl in enumerate(sub_tables):\n",
    "    with io.StringIO() as f:\n",
    "        tbl.write(\n",
    "            f,\n",
    "            format=\"ascii.latex\",\n",
    "            overwrite=True,\n",
    "            formats={\n",
    "                \"Origin RA\": \"%.3f\",\n",
    "                \"Origin Dec.\": \"%.3f\",\n",
    "                dhelio_name: \"%.1f\",\n",
    "                rgal_name: \"%.1f\",\n",
    "                \"Length (sky)\": \"%.0f\",\n",
    "                \"Width (sky)\": \"%.1f\",\n",
    "                \"Width\": \"%.0f\",\n",
    "                \"Stellar Mass\": \"%.0e\",\n",
    "            },\n",
    "            latexdict={\n",
    "                \"header_start\": r\"\\hline \\hline\",\n",
    "                \"data_start\": r\"\\hline\",\n",
    "                \"data_end\": r\"\\hline \\hline\",\n",
    "            },\n",
    "            col_align=\"cSSSScSccccc\",\n",
    "        )\n",
    "\n",
    "        text = f.getvalue()\n",
    "        text = text.replace(\" nan \", \" \")\n",
    "\n",
    "        text = re.sub(\"(\\d+)e\\+0(\\d+)\", r\"$\\1 \\\\times 10^{\\2}$\", text)\n",
    "        # text = text.replace(\"_\", \"\")\n",
    "        texts.append(text)"
   ]
  },
  {
   "cell_type": "code",
   "execution_count": 96,
   "id": "8b849061",
   "metadata": {
    "execution": {
     "iopub.execute_input": "2024-03-28T01:31:17.245396Z",
     "iopub.status.busy": "2024-03-28T01:31:17.241133Z",
     "iopub.status.idle": "2024-03-28T01:31:17.255962Z",
     "shell.execute_reply": "2024-03-28T01:31:17.255113Z",
     "shell.execute_reply.started": "2024-03-28T01:31:17.245308Z"
    }
   },
   "outputs": [],
   "source": [
    "unit_to_siunitx = {\n",
    "    u.deg: \"\\\\unit{\\\\degree}\",\n",
    "    u.kpc: \"\\\\unit{\\\\kilo\\\\parsec}\",\n",
    "    u.pc: \"\\\\unit{\\\\parsec}\",\n",
    "    u.Msun: \"\\\\unit{\\\\Msun}\",\n",
    "}"
   ]
  },
  {
   "cell_type": "code",
   "execution_count": 97,
   "id": "465750a5",
   "metadata": {
    "execution": {
     "iopub.execute_input": "2024-03-28T01:31:18.006987Z",
     "iopub.status.busy": "2024-03-28T01:31:18.006312Z",
     "iopub.status.idle": "2024-03-28T01:31:18.022709Z",
     "shell.execute_reply": "2024-03-28T01:31:18.022043Z",
     "shell.execute_reply.started": "2024-03-28T01:31:18.006962Z"
    }
   },
   "outputs": [],
   "source": [
    "for i, text in enumerate(texts, start=1):\n",
    "    for bibcode, (cite_key, bibtex) in bibcode_to_bib.items():\n",
    "        text = text.replace(bibcode, f\"\\\\citet{{{cite_key}}}\")\n",
    "\n",
    "    split_text = text.split(\"\\n\")\n",
    "\n",
    "    # Fix the column names with periods for aligning on decimal:\n",
    "    # TODO: change replace to rstrip\n",
    "    new_header = \" & \".join(\n",
    "        [f\"{{{x.strip()}}}\" for x in split_text[3].rstrip(\"\\\\\").split(\" & \")]\n",
    "    )\n",
    "    split_text[3] = new_header + \"\\\\\\\\\"\n",
    "\n",
    "    # Fix the units to use siunitx:\n",
    "    new_units = \" & \".join(\n",
    "        [\n",
    "            unit_to_siunitx.get(col.unit, \"\")\n",
    "            for col in final_summary_table.columns.values()\n",
    "        ]\n",
    "    )\n",
    "    split_text[4] = new_units + \"\\\\\\\\\"\n",
    "\n",
    "    # Table head for first block:\n",
    "    if i == 1:\n",
    "        split_text[5] = split_text[5] + \"\\\\\\\\\"\n",
    "        head = table_heads[0]\n",
    "        split_text.insert(\n",
    "            6,\n",
    "            f\"\\\\multicolumn{{{len(final_summary_table.colnames)}}}{{l}}\"\n",
    "            f\"{{\\\\bf {head}:}}\\\\\\\\[1pt]\",\n",
    "        )\n",
    "\n",
    "    # Add hlines below any lines that start with the \"split stream\" names from above:\n",
    "    lines = []\n",
    "    for line in split_text:\n",
    "        lines.append(line)\n",
    "        for name, head in zip(split_streams[:-1], table_heads[1:]):\n",
    "            if line.strip().startswith(name):\n",
    "                lines.append(\"\\\\hline \\\\\\\\\")\n",
    "                lines.append(\n",
    "                    f\"\\\\multicolumn{{{len(final_summary_table.colnames)}}}{{l}}\"\n",
    "                    f\"{{\\\\bf {head}:}}\\\\\\\\[1pt]\"\n",
    "                )\n",
    "\n",
    "    text = \"\\n\".join(lines)\n",
    "\n",
    "    with open(f\"../tex/figures/stream-summary-table-{i}.tex\", \"w\") as f:\n",
    "        f.write(text)"
   ]
  },
  {
   "cell_type": "code",
   "execution_count": 98,
   "id": "d684fc93-9ef1-44a1-ba54-186120b8ece8",
   "metadata": {
    "execution": {
     "iopub.execute_input": "2024-03-28T01:31:18.744163Z",
     "iopub.status.busy": "2024-03-28T01:31:18.743802Z",
     "iopub.status.idle": "2024-03-28T01:31:18.751798Z",
     "shell.execute_reply": "2024-03-28T01:31:18.750648Z",
     "shell.execute_reply.started": "2024-03-28T01:31:18.744141Z"
    }
   },
   "outputs": [],
   "source": [
    "with open(f\"../tex/figures/stream-summary-table-{i}.tex\", \"r\") as f:\n",
    "    lines = f.readlines()\n",
    "    end = lines[-1]\n",
    "    lines.pop(-1)\n",
    "    lines.append(\"\\\\label{tbl:stream-summary}\\n\")\n",
    "    lines.append(f\"\\\\caption{{{caption}}}\\n\")\n",
    "    lines.append(end)\n",
    "\n",
    "with open(f\"../tex/figures/stream-summary-table-{i}.tex\", \"w\") as f:\n",
    "    f.writelines(lines)"
   ]
  },
  {
   "cell_type": "code",
   "execution_count": 99,
   "id": "b8a7da1c",
   "metadata": {
    "execution": {
     "iopub.execute_input": "2024-03-28T01:31:19.442372Z",
     "iopub.status.busy": "2024-03-28T01:31:19.442024Z",
     "iopub.status.idle": "2024-03-28T01:31:19.446138Z",
     "shell.execute_reply": "2024-03-28T01:31:19.445291Z",
     "shell.execute_reply.started": "2024-03-28T01:31:19.442350Z"
    }
   },
   "outputs": [
    {
     "name": "stdout",
     "output_type": "stream",
     "text": [
      "(1): \\citet{odenkirchen:2009}, (2): \\citet{grillmair:2009}, (3): \\citet{koposov:2010}, (4): \\citet{williams:2011}, (5): \\citet{bonaca:2012}, (6): \\citet{martin:2013}, (7): \\citet{grillmair:2013}, (8): \\citet{grillmair:2014}, (9): \\citet{sesar:2015}, (10): \\citet{kuzma:2015}, (11): \\citet{bernard:2016}, (12): \\citet{grillmair:2017}, (13): \\citet{ibata:2017}, (14): \\citet{grillmair:2017b}, (15): \\citet{myeong:2017}, (16): \\citet{shipp:2018}, (17): \\citet{fu:2018}, (18): \\citet{weiss:2018}, (19): \\citet{mateu:2018}, (20): \\citet{jethwa:2018}, (21): \\citet{malhan:2018}, (22): \\citet{ibata:2019}, (23): \\citet{shipp:2019}, (24): \\citet{malhan:2019}, (25): \\citet{perottoni:2019}, (26): \\citet{li:2019}, (27): \\citet{ibata:2019b}, (28): \\citet{caldwell:2020}, (29): \\citet{ji:2020}, (30): \\citet{shipp:2020}, (31): \\citet{bonaca:2020}, (32): \\citet{yuan:2020}, (33): \\citet{sollima:2020}, (34): \\citet{li:2021}, (35): \\citet{gialluca:2021}, (36): \\citet{sheffield:2021}, (37): \\citet{ibata:2021}, (38): \\citet{hansen:2021}, (39): \\citet{thomas:2022}, (40): \\citet{ferguson:2022}, (41): \\citet{li:2022}, (42): \\citet{koposov:2023}, (43): \\citet{ibata:2023}, (44): \\citet{usman:2024}, (*): this work\n"
     ]
    }
   ],
   "source": [
    "print(caption)"
   ]
  },
  {
   "cell_type": "code",
   "execution_count": 100,
   "id": "9196b98b",
   "metadata": {
    "execution": {
     "iopub.execute_input": "2024-03-28T01:31:20.160337Z",
     "iopub.status.busy": "2024-03-28T01:31:20.159747Z",
     "iopub.status.idle": "2024-03-28T01:31:20.176744Z",
     "shell.execute_reply": "2024-03-28T01:31:20.175902Z",
     "shell.execute_reply.started": "2024-03-28T01:31:20.160307Z"
    }
   },
   "outputs": [],
   "source": [
    "with open(\"../tex/refs.bib\") as f:\n",
    "    refs_text = f.read()\n",
    "\n",
    "\n",
    "for cite_key, bibtex in bibcode_to_bib.values():\n",
    "    if cite_key in refs_text:\n",
    "        continue\n",
    "    else:\n",
    "        print(cite_key)\n",
    "        # print(bibtex)"
   ]
  },
  {
   "cell_type": "code",
   "execution_count": null,
   "id": "f4843a98",
   "metadata": {},
   "outputs": [],
   "source": []
  }
 ],
 "metadata": {
  "kernelspec": {
   "display_name": "Python 3 (ipykernel)",
   "language": "python",
   "name": "python3"
  },
  "language_info": {
   "codemirror_mode": {
    "name": "ipython",
    "version": 3
   },
   "file_extension": ".py",
   "mimetype": "text/x-python",
   "name": "python",
   "nbconvert_exporter": "python",
   "pygments_lexer": "ipython3",
   "version": "3.9.20"
  },
  "toc": {
   "base_numbering": 1,
   "nav_menu": {},
   "number_sections": true,
   "sideBar": true,
   "skip_h1_title": true,
   "title_cell": "Table of Contents",
   "title_sidebar": "Contents",
   "toc_cell": false,
   "toc_position": {},
   "toc_section_display": true,
   "toc_window_display": true
  }
 },
 "nbformat": 4,
 "nbformat_minor": 5
}

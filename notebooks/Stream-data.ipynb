{
 "cells": [
  {
   "cell_type": "markdown",
   "id": "ea2010dd",
   "metadata": {},
   "source": [
    "TODO: \n",
    "- Find all streams with spectroscopic data and group table into: \"Gaia + spectroscopy (not just S5)\", then \"Gaia\", then \"needs follow-up\""
   ]
  },
  {
   "cell_type": "markdown",
   "id": "d02ad07f-02c8-45f6-9168-b239df4ce3e3",
   "metadata": {},
   "source": [
    "# Imports"
   ]
  },
  {
   "cell_type": "code",
   "execution_count": 1,
   "id": "7c0d5c3d-5caa-406e-9ca4-aa1d4ab6d2d8",
   "metadata": {
    "ExecuteTime": {
     "end_time": "2024-02-14T06:39:24.745943Z",
     "start_time": "2024-02-14T06:39:23.231746Z"
    },
    "execution": {
     "iopub.execute_input": "2024-03-18T20:19:19.255746Z",
     "iopub.status.busy": "2024-03-18T20:19:19.255361Z",
     "iopub.status.idle": "2024-03-18T20:19:21.089048Z",
     "shell.execute_reply": "2024-03-18T20:19:21.088735Z",
     "shell.execute_reply.started": "2024-03-18T20:19:19.255719Z"
    }
   },
   "outputs": [],
   "source": [
    "import io\n",
    "import pathlib\n",
    "import pickle\n",
    "import re\n",
    "\n",
    "import ads\n",
    "import astropy.coordinates as coord\n",
    "import astropy.table as at\n",
    "import astropy.units as u\n",
    "import gala.coordinates as gc\n",
    "import gala.dynamics as gd\n",
    "import gala.integrate as gi\n",
    "import gala.potential as gp\n",
    "import galstreams\n",
    "import matplotlib as mpl\n",
    "import matplotlib.pyplot as plt\n",
    "import numpy as np\n",
    "from astropy.stats import median_absolute_deviation as MAD\n",
    "from gala.units import galactic\n",
    "from helpers import (\n",
    "    get_default_track_for_stream,\n",
    "    get_frame_from_points,\n",
    "    get_full_galstreams_poly,\n",
    "    get_isochrone,\n",
    "    make_ibata_poly_nodes,\n",
    "    run_orbit_fit,\n",
    ")\n",
    "from pyia import GaiaData\n",
    "from scipy.interpolate import InterpolatedUnivariateSpline\n",
    "from scipy.optimize import minimize\n",
    "from tqdm.auto import tqdm\n",
    "\n",
    "%matplotlib inline"
   ]
  },
  {
   "cell_type": "markdown",
   "id": "d96aab5c-9a93-43a1-a7b5-5a6b0e8a5b23",
   "metadata": {},
   "source": [
    "Fiducial isochrone model:"
   ]
  },
  {
   "cell_type": "code",
   "execution_count": 2,
   "id": "36ebade2-b025-435a-aa51-1b6175805c7c",
   "metadata": {
    "ExecuteTime": {
     "end_time": "2024-02-14T06:39:29.714179Z",
     "start_time": "2024-02-14T06:39:29.682126Z"
    },
    "execution": {
     "iopub.execute_input": "2024-03-18T20:19:21.090124Z",
     "iopub.status.busy": "2024-03-18T20:19:21.089952Z",
     "iopub.status.idle": "2024-03-18T20:19:21.095298Z",
     "shell.execute_reply": "2024-03-18T20:19:21.095016Z",
     "shell.execute_reply.started": "2024-03-18T20:19:21.090112Z"
    }
   },
   "outputs": [],
   "source": [
    "iso = get_isochrone()\n",
    "\n",
    "tmp_iso = iso[iso[\"stage\"] == 1]\n",
    "MSTO_absmag = tmp_iso[\"rP1\"].min()"
   ]
  },
  {
   "cell_type": "code",
   "execution_count": 3,
   "id": "aad19498",
   "metadata": {
    "ExecuteTime": {
     "end_time": "2024-02-14T06:39:45.330865Z",
     "start_time": "2024-02-14T06:39:30.889572Z"
    },
    "execution": {
     "iopub.execute_input": "2024-03-18T20:19:21.095831Z",
     "iopub.status.busy": "2024-03-18T20:19:21.095749Z",
     "iopub.status.idle": "2024-03-18T20:19:28.702577Z",
     "shell.execute_reply": "2024-03-18T20:19:28.702296Z",
     "shell.execute_reply.started": "2024-03-18T20:19:21.095823Z"
    }
   },
   "outputs": [
    {
     "name": "stdout",
     "output_type": "stream",
     "text": [
      "Initializing galstreams library from master_log... \n"
     ]
    }
   ],
   "source": [
    "mwstreams = galstreams.MWStreams()"
   ]
  },
  {
   "cell_type": "markdown",
   "id": "8954fea9-6936-4af0-ba0e-48ef6b6c43a1",
   "metadata": {},
   "source": [
    "# Load data\n",
    "\n",
    "## Ibata:"
   ]
  },
  {
   "cell_type": "code",
   "execution_count": 4,
   "id": "eeefece4-4db6-40fc-9fbc-6a211d648640",
   "metadata": {
    "ExecuteTime": {
     "end_time": "2024-02-14T06:39:47.349075Z",
     "start_time": "2024-02-14T06:39:47.152464Z"
    },
    "execution": {
     "iopub.execute_input": "2024-03-18T20:19:28.703253Z",
     "iopub.status.busy": "2024-03-18T20:19:28.703159Z",
     "iopub.status.idle": "2024-03-18T20:19:28.800432Z",
     "shell.execute_reply": "2024-03-18T20:19:28.800003Z",
     "shell.execute_reply.started": "2024-03-18T20:19:28.703245Z"
    }
   },
   "outputs": [],
   "source": [
    "# tbl = at.Table.read(\"../data/Ibata2023_Table1.csv\")\n",
    "ibata_g = GaiaData(\n",
    "    \"../data/Ibata2023_GaiaDR3-xm.fits\",\n",
    "    radial_velocity_colname=\"vh\",\n",
    "    radial_velocity_unit=u.km / u.s,\n",
    ")"
   ]
  },
  {
   "cell_type": "code",
   "execution_count": 5,
   "id": "6ff1867a-dbaf-4478-9e44-395323981c0b",
   "metadata": {
    "ExecuteTime": {
     "end_time": "2024-02-14T06:39:48.138355Z",
     "start_time": "2024-02-14T06:39:48.057692Z"
    },
    "execution": {
     "iopub.execute_input": "2024-03-18T20:19:28.801979Z",
     "iopub.status.busy": "2024-03-18T20:19:28.801873Z",
     "iopub.status.idle": "2024-03-18T20:19:28.843143Z",
     "shell.execute_reply": "2024-03-18T20:19:28.842810Z",
     "shell.execute_reply.started": "2024-03-18T20:19:28.801969Z"
    }
   },
   "outputs": [],
   "source": [
    "ibata_tbl = at.Table.read(\"../data/ibata_streams_full.csv\")\n",
    "sID_to_name = {row[\"sID\"]: row[\"name\"] for row in at.unique(ibata_tbl, keys=\"sID\")}\n",
    "name_to_sID = {v: k for k, v in sID_to_name.items()}"
   ]
  },
  {
   "cell_type": "code",
   "execution_count": 6,
   "id": "211d1b51-4ca3-4020-bc87-5cddabc65e25",
   "metadata": {
    "ExecuteTime": {
     "end_time": "2024-02-14T06:39:48.755932Z",
     "start_time": "2024-02-14T06:39:48.726396Z"
    },
    "execution": {
     "iopub.execute_input": "2024-03-18T20:19:28.843663Z",
     "iopub.status.busy": "2024-03-18T20:19:28.843578Z",
     "iopub.status.idle": "2024-03-18T20:19:28.853435Z",
     "shell.execute_reply": "2024-03-18T20:19:28.853022Z",
     "shell.execute_reply.started": "2024-03-18T20:19:28.843655Z"
    }
   },
   "outputs": [
    {
     "name": "stderr",
     "output_type": "stream",
     "text": [
      "WARNING: negative parallaxes are converted to NaN distances even when `allow_negative=True`, because negative parallaxes cannot be transformed into distances. See the discussion in this paper: https://arxiv.org/abs/1507.02105 [astropy.coordinates.distances]\n"
     ]
    }
   ],
   "source": [
    "_dist = ibata_g.get_distance(allow_negative=True)\n",
    "_dist[~np.isfinite(_dist)] = 100 * u.Mpc  # put them very far away if missing\n",
    "\n",
    "ibata_c = ibata_g.get_skycoord(distance=_dist)"
   ]
  },
  {
   "cell_type": "markdown",
   "id": "509ef2e0-799f-4cd4-8030-ba20cb386a5e",
   "metadata": {},
   "source": [
    "## S5 streams:\n",
    "s5_streams = \"300S\",\\n\"Willka Yaku\",\\n\"AAU\", \"Jet\", \"Phoenix\", \"Indus\", \"Palca\", \"Elqui\", \"Turranburra\",\n",
    "\n",
    "Distance modulus functions are from Li et al 2022, Table 1"
   ]
  },
  {
   "cell_type": "code",
   "execution_count": 7,
   "id": "0460fac0-fc0d-4183-acbd-6d7459c615d1",
   "metadata": {
    "execution": {
     "iopub.execute_input": "2024-03-18T20:19:28.854124Z",
     "iopub.status.busy": "2024-03-18T20:19:28.853980Z",
     "iopub.status.idle": "2024-03-18T20:19:28.856490Z",
     "shell.execute_reply": "2024-03-18T20:19:28.856039Z",
     "shell.execute_reply.started": "2024-03-18T20:19:28.854113Z"
    }
   },
   "outputs": [],
   "source": [
    "rows = []"
   ]
  },
  {
   "cell_type": "code",
   "execution_count": 8,
   "id": "b1eb0990-1274-48db-8266-866366d02221",
   "metadata": {
    "execution": {
     "iopub.execute_input": "2024-03-18T20:19:28.857029Z",
     "iopub.status.busy": "2024-03-18T20:19:28.856918Z",
     "iopub.status.idle": "2024-03-18T20:19:28.874835Z",
     "shell.execute_reply": "2024-03-18T20:19:28.874499Z",
     "shell.execute_reply.started": "2024-03-18T20:19:28.857021Z"
    }
   },
   "outputs": [],
   "source": [
    "stream = mwstreams[\"Orphan-K19\"]\n",
    "\n",
    "orp_sky_tbl = at.Table.read(\n",
    "    \"../data/orphan/koposov2023-measurement_tables/fitses/orphan_M_track_bins.fits\"\n",
    ")\n",
    "orp_phi1_grid = np.linspace(orp_sky_tbl[\"phi1\"].min(), orp_sky_tbl[\"phi1\"].max(), 1024)\n",
    "_spl = InterpolatedUnivariateSpline(orp_sky_tbl[\"phi1\"], orp_sky_tbl[\"phi2\"], k=3)\n",
    "orp_phi2_grid = _spl(orp_phi1_grid)\n",
    "\n",
    "orp_dm_tbl = at.Table.read(\n",
    "    \"../data/orphan/koposov2023-measurement_tables/fitses/orphan_dmrr_bins.fits\"\n",
    ")\n",
    "_spl = InterpolatedUnivariateSpline(orp_dm_tbl[\"phi1\"], orp_dm_tbl[\"dm\"], k=3)\n",
    "orp_dm_grid = _spl(orp_phi1_grid)\n",
    "track = coord.SkyCoord(\n",
    "    phi1=orp_phi1_grid * u.deg,\n",
    "    phi2=orp_phi2_grid * u.deg,\n",
    "    distance=coord.Distance(distmod=orp_dm_grid),\n",
    "    frame=stream.stream_frame.replicate_without_data(),\n",
    ")\n",
    "\n",
    "orp_width_tbl = at.Table.read(\n",
    "    \"../data/orphan/koposov2023-measurement_tables/fitses/orphan_M_width_bins.fits\"\n",
    ")\n",
    "_spl = InterpolatedUnivariateSpline(\n",
    "    orp_width_tbl[\"phi1\"], orp_width_tbl[\"log_width\"], k=3\n",
    ")\n",
    "orp_width_grid = np.exp(_spl(orp_phi1_grid))\n",
    "sky_width = np.mean(orp_width_grid) * u.deg\n",
    "width_pc = np.mean(orp_width_grid * u.deg * track.distance).to(\n",
    "    u.pc, u.dimensionless_angles()\n",
    ")\n",
    "\n",
    "rows.append(\n",
    "    {\n",
    "        \"name\": \"OC\",\n",
    "        \"gs_track\": \"Orphan-K19\",\n",
    "        \"other_names\": [\"Orphan\", \"Chenab\"],\n",
    "        \"phi1\": track.phi1.wrap_at(180 * u.deg),\n",
    "        \"phi2\": track.phi2,\n",
    "        \"sky_track\": track,\n",
    "        \"sky_ref\": \"2023MNRAS.521.4936K\",\n",
    "        \"distmod\": track.distance.distmod.value,\n",
    "        \"dist_ref\": \"2023MNRAS.521.4936K\",\n",
    "        \"mass\": 5.6e5 * u.Msun,\n",
    "        \"mass_ref\": \"2023MNRAS.521.4936K\",\n",
    "        \"mean_width_deg\": sky_width,\n",
    "        \"mean_width_pc\": width_pc,\n",
    "        \"width_ref\": \"2023MNRAS.521.4936K\",\n",
    "    }\n",
    ")"
   ]
  },
  {
   "cell_type": "code",
   "execution_count": 9,
   "id": "a5e8f326-adea-49ff-9b17-5f50a8bfae45",
   "metadata": {
    "ExecuteTime": {
     "end_time": "2024-02-14T06:39:52.098276Z",
     "start_time": "2024-02-14T06:39:50.177546Z"
    },
    "execution": {
     "iopub.execute_input": "2024-03-18T20:19:28.875670Z",
     "iopub.status.busy": "2024-03-18T20:19:28.875468Z",
     "iopub.status.idle": "2024-03-18T20:19:29.072610Z",
     "shell.execute_reply": "2024-03-18T20:19:29.072307Z",
     "shell.execute_reply.started": "2024-03-18T20:19:28.875657Z"
    }
   },
   "outputs": [],
   "source": [
    "stream = mwstreams[\"300S-F18\"]\n",
    "track = stream.track.transform_to(stream.stream_frame)\n",
    "track_distmod = 48.9952 - 0.2083 * stream.track.ra.degree\n",
    "rows.append(\n",
    "    {\n",
    "        \"name\": \"300S\",\n",
    "        \"gs_track\": \"300S-F18\",\n",
    "        \"other_names\": [],\n",
    "        \"phi1\": track.phi1.wrap_at(180 * u.deg),\n",
    "        \"phi2\": track.phi2,\n",
    "        \"sky_track\": coord.SkyCoord(\n",
    "            phi1=track.phi1,\n",
    "            phi2=track.phi2,\n",
    "            distance=coord.Distance(distmod=track_distmod),\n",
    "            frame=stream.stream_frame.replicate_without_data(),\n",
    "        ),\n",
    "        \"sky_ref\": \"2018ApJ...866...42F\",\n",
    "        \"distmod\": track_distmod,\n",
    "        \"dist_ref\": \"2022ApJ...928...30L\",\n",
    "        \"mass\": 10**4.7 * u.Msun,\n",
    "        \"mass_ref\": \"2024MNRAS.tmp..241U\",\n",
    "        \"mean_width_deg\": 0.94 * u.deg,\n",
    "        \"mean_width_pc\": np.nan * u.pc,\n",
    "        \"width_ref\": \"2018ApJ...866...42F\",\n",
    "    }\n",
    ")\n",
    "\n",
    "# ---\n",
    "stream = mwstreams[\"Willka_Yaku-S18\"]\n",
    "track = stream.track.transform_to(stream.stream_frame)\n",
    "track_distmod = np.full(len(track), 17.8)\n",
    "rows.append(\n",
    "    {\n",
    "        \"name\": \"Willka Yaku\",\n",
    "        \"gs_track\": \"Willka_Yaku-S18\",\n",
    "        \"other_names\": [\"Willka_Yaku\"],\n",
    "        \"phi1\": track.phi1.wrap_at(180 * u.deg),\n",
    "        \"phi2\": track.phi2,\n",
    "        \"sky_track\": coord.SkyCoord(\n",
    "            phi1=track.phi1,\n",
    "            phi2=track.phi2,\n",
    "            distance=coord.Distance(distmod=track_distmod),\n",
    "            frame=stream.stream_frame.replicate_without_data(),\n",
    "        ),\n",
    "        \"sky_ref\": \"2018ApJ...862..114S\",\n",
    "        \"distmod\": track_distmod,\n",
    "        \"dist_ref\": \"2022ApJ...928...30L\",\n",
    "        \"mass\": 14e4 * u.Msun,\n",
    "        \"mass_ref\": \"2018ApJ...862..114S\",  # shipp 2018\n",
    "        \"mean_width_deg\": np.nan * u.deg,\n",
    "        \"mean_width_pc\": 127 * u.pc,\n",
    "        \"width_ref\": \"2018ApJ...862..114S\",\n",
    "    }\n",
    ")\n",
    "\n",
    "# ---\n",
    "stream = mwstreams[\"AAU-ATLAS-L21\"]\n",
    "track_phi1 = np.concatenate(\n",
    "    (\n",
    "        mwstreams[\"AAU-ATLAS-L21\"]\n",
    "        .track.transform_to(mwstreams[\"AAU-ATLAS-L21\"].stream_frame)\n",
    "        .phi1.wrap_at(180 * u.deg)\n",
    "        .degree,\n",
    "        mwstreams[\"AAU-AliqaUma-L21\"]\n",
    "        .track.transform_to(mwstreams[\"AAU-ATLAS-L21\"].stream_frame)\n",
    "        .phi1.wrap_at(180 * u.deg)\n",
    "        .degree,\n",
    "    )\n",
    ")\n",
    "track_phi2 = np.concatenate(\n",
    "    (\n",
    "        mwstreams[\"AAU-ATLAS-L21\"]\n",
    "        .track.transform_to(mwstreams[\"AAU-ATLAS-L21\"].stream_frame)\n",
    "        .phi2.degree,\n",
    "        mwstreams[\"AAU-AliqaUma-L21\"]\n",
    "        .track.transform_to(mwstreams[\"AAU-ATLAS-L21\"].stream_frame)\n",
    "        .phi2.degree,\n",
    "    )\n",
    ")\n",
    "track_distmod = 16.67 - 0.034 * track_phi1\n",
    "rows.append(\n",
    "    {\n",
    "        \"name\": \"AAU\",\n",
    "        \"gs_track\": \"AAU-ATLAS-L21\",\n",
    "        \"other_names\": [\"ATLAS\", \"Aliqa Uma\"],\n",
    "        \"phi1\": track_phi1 * u.deg,\n",
    "        \"phi2\": track_phi2 * u.deg,\n",
    "        \"sky_track\": coord.SkyCoord(\n",
    "            phi1=track_phi1 * u.deg,\n",
    "            phi2=track_phi2 * u.deg,\n",
    "            distance=coord.Distance(distmod=track_distmod),\n",
    "            frame=mwstreams[\"AAU-ATLAS-L21\"].stream_frame.replicate_without_data(),\n",
    "        ),\n",
    "        \"sky_ref\": \"2021ApJ...911..149L\",\n",
    "        \"distmod\": track_distmod,\n",
    "        \"dist_ref\": \"2022ApJ...928...30L\",\n",
    "        \"mass\": (12e4 + 18e4) * u.Msun,  # Shipp+2018\n",
    "        \"mass_ref\": \"2018ApJ...862..114S\",\n",
    "        \"mean_width_deg\": np.nan * u.deg,\n",
    "        \"mean_width_pc\": 96 * u.pc,\n",
    "        \"width_ref\": \"2018ApJ...862..114S\",\n",
    "    }\n",
    ")\n",
    "\n",
    "distmod_trends = {\n",
    "    \"Jet-F22\": lambda x: 17.45 - 0.014 * x,\n",
    "    \"Phoenix-S19\": lambda x: 16.26 + 0.008 * x,\n",
    "    \"Indus-S19\": lambda x: 15.90 - 0.016 * x,\n",
    "    \"Palca-S18\": lambda x: np.full_like(x, 17.8),\n",
    "    \"Elqui-S19\": lambda x: 18.48 - 0.043 * x,\n",
    "    \"Turranburra-S19\": lambda x: np.full_like(x, 17.1),\n",
    "}\n",
    "ref_to_bibcode = {\n",
    "    \"shipp2018\": \"2018ApJ...862..114S\",\n",
    "    \"shipp2019\": \"2019ApJ...885....3S\",\n",
    "    \"ferguson2022\": \"2022AJ....163...18F\",\n",
    "}\n",
    "masses = {\n",
    "    \"Jet-F22\": (2.5e4, \"2018MNRAS.480.5342J\"),\n",
    "    \"Phoenix-S19\": (3e4, \"2018ApJ...862..114S\"),\n",
    "    \"Indus-S19\": (650e4, \"2018ApJ...862..114S\"),\n",
    "    \"Palca-S18\": (1e6, \"2022A&A...660A..29T\"),\n",
    "    \"Elqui-S19\": (320e4, \"2018ApJ...862..114S\"),\n",
    "    \"Turranburra-S19\": (180e4, \"2018ApJ...862..114S\"),\n",
    "}\n",
    "widths = {\n",
    "    \"Jet-F22\": (\n",
    "        (0.18 * u.deg * 28.6 * u.kpc).to(u.pc, u.dimensionless_angles()),\n",
    "        \"2018MNRAS.480.5342J\",\n",
    "    ),\n",
    "    \"Phoenix-S19\": (53 * u.pc, \"2018ApJ...862..114S\"),\n",
    "    \"Indus-S19\": (240 * u.pc, \"2018ApJ...862..114S\"),\n",
    "    \"Palca-S18\": (300 * u.pc, \"2022A&A...660A..29T\"),\n",
    "    \"Elqui-S19\": (472 * u.pc, \"2018ApJ...862..114S\"),\n",
    "    \"Turranburra-S19\": (288 * u.pc, \"2018ApJ...862..114S\"),\n",
    "}\n",
    "for key, trend in distmod_trends.items():\n",
    "    stream = mwstreams[key]\n",
    "    name = key.split(\"-\")[0]\n",
    "    track = stream.track.transform_to(stream.stream_frame.replicate_without_data())\n",
    "    track_phi1 = track.phi1.wrap_at(180 * u.deg).degree\n",
    "    rows.append(\n",
    "        {\n",
    "            \"name\": name,\n",
    "            \"gs_track\": key,\n",
    "            \"other_names\": [] if name != \"Palca\" else [\"Cetus\"],\n",
    "            \"phi1\": track_phi1 * u.degree,\n",
    "            \"phi2\": track.phi2,\n",
    "            \"sky_track\": coord.SkyCoord(\n",
    "                phi1=track.phi1,\n",
    "                phi2=track.phi2,\n",
    "                distance=coord.Distance(distmod=trend(track_phi1)),\n",
    "                frame=stream.stream_frame,\n",
    "            ),\n",
    "            \"sky_ref\": ref_to_bibcode.get(stream.ref, stream.ref),\n",
    "            \"distmod\": trend(track_phi1),\n",
    "            \"dist_ref\": \"2022ApJ...928...30L\",\n",
    "            \"mass\": masses[key][0] * u.Msun,\n",
    "            \"mass_ref\": masses[key][1],\n",
    "            \"mean_width_deg\": np.nan * u.deg,\n",
    "            \"mean_width_pc\": widths[key][0],\n",
    "            \"width_ref\": widths[key][1],\n",
    "        }\n",
    "    )\n",
    "\n",
    "s5_data = at.QTable(rows)"
   ]
  },
  {
   "cell_type": "code",
   "execution_count": 10,
   "id": "31ad59d1-9139-4319-80bc-7184fb552a26",
   "metadata": {
    "execution": {
     "iopub.execute_input": "2024-03-18T20:19:29.073216Z",
     "iopub.status.busy": "2024-03-18T20:19:29.073122Z",
     "iopub.status.idle": "2024-03-18T20:19:29.075035Z",
     "shell.execute_reply": "2024-03-18T20:19:29.074674Z",
     "shell.execute_reply.started": "2024-03-18T20:19:29.073207Z"
    }
   },
   "outputs": [],
   "source": [
    "# TODO: what about the other Shipp widths? Tuc III, Molonglo, Ravi, etc."
   ]
  },
  {
   "cell_type": "markdown",
   "id": "bc842861-b11a-4214-808b-0cf49a03a108",
   "metadata": {},
   "source": [
    "# Orbit fitting\n",
    "\n",
    "We fit orbits to the Ibata streams to determine distance tracks:"
   ]
  },
  {
   "cell_type": "code",
   "execution_count": 11,
   "id": "e1b7512f-f714-43a0-a987-aae8ce1da7e6",
   "metadata": {
    "ExecuteTime": {
     "end_time": "2024-02-14T06:40:00.149622Z",
     "start_time": "2024-02-14T06:40:00.005552Z"
    },
    "execution": {
     "iopub.execute_input": "2024-03-18T20:19:29.075524Z",
     "iopub.status.busy": "2024-03-18T20:19:29.075448Z",
     "iopub.status.idle": "2024-03-18T20:19:29.095418Z",
     "shell.execute_reply": "2024-03-18T20:19:29.095109Z",
     "shell.execute_reply.started": "2024-03-18T20:19:29.075517Z"
    }
   },
   "outputs": [],
   "source": [
    "data_file = pathlib.Path(\"../data/stream-orbit-fits.pkl\")\n",
    "\n",
    "if not data_file.exists():\n",
    "    orbitfit_data = {}\n",
    "\n",
    "    for sid in tqdm(np.unique(ibata_tbl[\"sID\"])):\n",
    "        print(sid, sID_to_name[sid])\n",
    "        mask = ibata_tbl[\"sID\"] == sid\n",
    "        orbitfit_data[sid] = run_orbit_fit(sid, ibata_g[mask], ibata_c[mask])\n",
    "\n",
    "    with open(data_file, \"wb\") as f:\n",
    "        pickle.dump(orbitfit_data, f)\n",
    "\n",
    "else:\n",
    "    with open(data_file, \"rb\") as f:\n",
    "        orbitfit_data = pickle.load(f)"
   ]
  },
  {
   "cell_type": "code",
   "execution_count": 12,
   "id": "b140794b-f891-46bc-b8ef-763daaaa0d33",
   "metadata": {
    "ExecuteTime": {
     "end_time": "2024-02-14T06:40:01.066246Z",
     "start_time": "2024-02-14T06:40:01.047367Z"
    },
    "execution": {
     "iopub.execute_input": "2024-03-18T20:19:29.095951Z",
     "iopub.status.busy": "2024-03-18T20:19:29.095862Z",
     "iopub.status.idle": "2024-03-18T20:19:29.097591Z",
     "shell.execute_reply": "2024-03-18T20:19:29.097322Z",
     "shell.execute_reply.started": "2024-03-18T20:19:29.095943Z"
    }
   },
   "outputs": [],
   "source": [
    "# plot_path = pathlib.Path(\"../plots\").resolve()\n",
    "# plot_path.mkdir(exist_ok=True)\n",
    "\n",
    "# for sid, this_data in all_data.items():\n",
    "#     fig, _ = make_components_plot(\n",
    "#         this_data[\"orbit\"],\n",
    "#         this_data[\"orbit_fr\"],\n",
    "#         this_data[\"c_fr\"],\n",
    "#         this_data[\"obj_data\"],\n",
    "#     )\n",
    "#     fig.suptitle(sID_to_name[sid], fontsize=20)\n",
    "#     fig.savefig(plot_path / f\"stream-{sid:04d}-orbitfit.png\", dpi=200)\n",
    "#     plt.close(fig)"
   ]
  },
  {
   "cell_type": "code",
   "execution_count": 13,
   "id": "ac72dfb3-5dbe-4046-bc17-bb5c4a8352d3",
   "metadata": {
    "execution": {
     "iopub.execute_input": "2024-03-18T20:19:29.098169Z",
     "iopub.status.busy": "2024-03-18T20:19:29.098050Z",
     "iopub.status.idle": "2024-03-18T20:19:29.100444Z",
     "shell.execute_reply": "2024-03-18T20:19:29.100126Z",
     "shell.execute_reply.started": "2024-03-18T20:19:29.098160Z"
    }
   },
   "outputs": [],
   "source": [
    "ibata_fit_tbl = at.Table(\n",
    "    [\n",
    "        {\"sID\": sid, \"name\": sID_to_name[sid], **d[\"p\"]}\n",
    "        for sid, d in orbitfit_data.items()\n",
    "    ]\n",
    ")"
   ]
  },
  {
   "cell_type": "markdown",
   "id": "42862fec-919b-4de9-af73-dae67dc83453",
   "metadata": {},
   "source": [
    "## For cases where orbit-fitting failed, we still want to make tracks (except for Orphan, which enters in S5):"
   ]
  },
  {
   "cell_type": "code",
   "execution_count": 14,
   "id": "94741833",
   "metadata": {
    "ExecuteTime": {
     "end_time": "2024-02-14T06:40:01.815980Z",
     "start_time": "2024-02-14T06:40:01.794480Z"
    },
    "execution": {
     "iopub.execute_input": "2024-03-18T20:19:29.102808Z",
     "iopub.status.busy": "2024-03-18T20:19:29.102650Z",
     "iopub.status.idle": "2024-03-18T20:19:30.413212Z",
     "shell.execute_reply": "2024-03-18T20:19:30.412923Z",
     "shell.execute_reply.started": "2024-03-18T20:19:29.102799Z"
    }
   },
   "outputs": [
    {
     "name": "stdout",
     "output_type": "stream",
     "text": [
      "21 New-6\n"
     ]
    },
    {
     "name": "stderr",
     "output_type": "stream",
     "text": [
      "/Users/apricewhelan/projects/gala/gala/coordinates/greatcircle.py:199: RuntimeWarning: Input origin and pole are not orthogonal. Keeping the origin fixed and adjusting the pole to be orthogonal. Use warnings.simplefilter('ignore') to ignore this warning.\n",
      "  warn(\n"
     ]
    },
    {
     "name": "stdout",
     "output_type": "stream",
     "text": [
      "28 New-9\n",
      "77 NGC7099\n",
      "80 New-25\n",
      "56 New-18\n"
     ]
    }
   ],
   "source": [
    "skip_sIDs = [\n",
    "    48,  # Orphan\n",
    "]\n",
    "\n",
    "failed_sIDs = [21, 28, 77, 80, name_to_sID[\"New-18\"]]\n",
    "# fig, axes = plt.subplots(len(failed_sIDs), 1, figsize=(10, 4 * len(failed_sIDs)), layout=\"tight\")\n",
    "for i, sID in enumerate(failed_sIDs):\n",
    "    if sID not in orbitfit_data:\n",
    "        orbitfit_data[sID] = {}\n",
    "\n",
    "    # ax = axes[i]\n",
    "    print(sID, sID_to_name[sID])\n",
    "\n",
    "    mask = ibata_tbl[\"sID\"] == sID\n",
    "    frame = get_frame_from_points(ibata_c[mask])\n",
    "    cc = ibata_c[mask].transform_to(frame)\n",
    "    _width = 1.5 * MAD(cc.phi2.degree)\n",
    "\n",
    "    orbitfit_data[sID][\"c_fr\"] = cc\n",
    "    orbitfit_data[sID][\"p\"] = None\n",
    "    orbitfit_data[sID][\"orbit\"] = None\n",
    "    orbitfit_data[sID][\"orbit_fr\"] = None\n",
    "\n",
    "    # ax.scatter(cc.phi1.degree, cc.phi2.degree)\n",
    "    # ax.axhspan(-_width, _width, zorder=-10, color='tab:blue')\n",
    "\n",
    "ibata_fit_tbl = ibata_fit_tbl[~np.isin(ibata_fit_tbl[\"sID\"], skip_sIDs)]"
   ]
  },
  {
   "cell_type": "markdown",
   "id": "bf78316e",
   "metadata": {},
   "source": [
    "# Data tables\n",
    "\n",
    "\n",
    "## Internal data table: \n",
    "- Name\n",
    "- sID in Ibata\n",
    "- preferred galstreams track name\n",
    "- sky track \n",
    "- dist/distmod track either from orbit fit or from source\n",
    "- sky polygon\n",
    "- stellar mass\n",
    "- sources for all\n",
    "\n",
    "Precedence is:\n",
    "- S5\n",
    "- Ibata atlas\n",
    "- Galstreams\n"
   ]
  },
  {
   "cell_type": "code",
   "execution_count": 50,
   "id": "deed8576",
   "metadata": {
    "ExecuteTime": {
     "end_time": "2024-02-14T06:40:09.286371Z",
     "start_time": "2024-02-14T06:40:04.203691Z"
    },
    "execution": {
     "iopub.execute_input": "2024-03-18T21:17:54.394140Z",
     "iopub.status.busy": "2024-03-18T21:17:54.393727Z",
     "iopub.status.idle": "2024-03-18T21:17:56.678420Z",
     "shell.execute_reply": "2024-03-18T21:17:56.678079Z",
     "shell.execute_reply.started": "2024-03-18T21:17:54.394117Z"
    }
   },
   "outputs": [],
   "source": [
    "internal_data_rows = []\n",
    "\n",
    "for tmp_row in s5_data:\n",
    "    row = {}\n",
    "    row[\"name\"] = tmp_row[\"name\"]\n",
    "    row[\"other_names\"] = tmp_row[\"other_names\"]\n",
    "    row[\"galstreams_track_name\"] = tmp_row[\"gs_track\"]\n",
    "\n",
    "    row[\"track\"] = tmp_row[\"sky_track\"]\n",
    "    row[\"sky_track_ref\"] = tmp_row[\"sky_ref\"]\n",
    "    row[\"dist_track_ref\"] = tmp_row[\"dist_ref\"]\n",
    "\n",
    "    row[\"stellar_mass\"] = tmp_row[\"mass\"]\n",
    "    row[\"stellar_mass_ref\"] = tmp_row[\"mass_ref\"]\n",
    "\n",
    "    mean_dist = np.mean(row[\"track\"].distance)\n",
    "    if np.isnan(tmp_row[\"mean_width_deg\"]):\n",
    "        row[\"width_sky\"] = (tmp_row[\"mean_width_pc\"] / mean_dist).to(\n",
    "            u.deg, u.dimensionless_angles()\n",
    "        )\n",
    "    else:\n",
    "        row[\"width_sky\"] = tmp_row[\"mean_width_deg\"]\n",
    "\n",
    "    if np.isnan(tmp_row[\"mean_width_pc\"]):\n",
    "        row[\"width\"] = (row[\"width_sky\"] * mean_dist).to(u.pc, u.dimensionless_angles())\n",
    "    else:\n",
    "        row[\"width\"] = tmp_row[\"mean_width_pc\"]\n",
    "\n",
    "    row[\"width_ref\"] = tmp_row[\"width_ref\"]\n",
    "\n",
    "    # Sky polygon:\n",
    "    if row[\"name\"] == \"AAU\":\n",
    "        # Special case: get sky track for AAU from Ibata member stars\n",
    "        d = orbitfit_data[name_to_sID[\"ATLAS\"]]\n",
    "        _, row[\"sky_poly\"] = make_ibata_poly_nodes(d[\"c_fr\"])\n",
    "\n",
    "    else:\n",
    "        row[\"sky_poly\"] = get_full_galstreams_poly(\n",
    "            mwstreams[tmp_row[\"gs_track\"]].poly_sc\n",
    "        )\n",
    "\n",
    "    internal_data_rows.append(row)\n",
    "\n",
    "internal_data = at.QTable(internal_data_rows)"
   ]
  },
  {
   "cell_type": "markdown",
   "id": "7d011a04",
   "metadata": {},
   "source": [
    "Now match S5 streams to Ibata atlas stream IDs:"
   ]
  },
  {
   "cell_type": "code",
   "execution_count": 51,
   "id": "eea6a69a",
   "metadata": {
    "ExecuteTime": {
     "end_time": "2024-02-14T06:40:11.872021Z",
     "start_time": "2024-02-14T06:40:11.850100Z"
    },
    "execution": {
     "iopub.execute_input": "2024-03-18T21:17:57.357535Z",
     "iopub.status.busy": "2024-03-18T21:17:57.357135Z",
     "iopub.status.idle": "2024-03-18T21:17:57.374923Z",
     "shell.execute_reply": "2024-03-18T21:17:57.374037Z",
     "shell.execute_reply.started": "2024-03-18T21:17:57.357512Z"
    }
   },
   "outputs": [],
   "source": [
    "ibata_names = np.asarray(np.unique(ibata_tbl[\"name\"]))\n",
    "ibata_sIDs = []\n",
    "for row in internal_data:\n",
    "    row_names = [row[\"name\"]] + row[\"other_names\"]\n",
    "    for name in row_names:\n",
    "        if name in ibata_names:\n",
    "            sID = name_to_sID[name]\n",
    "            break\n",
    "    else:\n",
    "        sID = 0\n",
    "    ibata_sIDs.append(sID)\n",
    "internal_data[\"ibata2023_sID\"] = ibata_sIDs"
   ]
  },
  {
   "cell_type": "code",
   "execution_count": 52,
   "id": "c295d89d",
   "metadata": {
    "ExecuteTime": {
     "end_time": "2024-02-14T06:40:12.741520Z",
     "start_time": "2024-02-14T06:40:12.725711Z"
    },
    "execution": {
     "iopub.execute_input": "2024-03-18T21:17:57.692297Z",
     "iopub.status.busy": "2024-03-18T21:17:57.691900Z",
     "iopub.status.idle": "2024-03-18T21:17:57.698653Z",
     "shell.execute_reply": "2024-03-18T21:17:57.696395Z",
     "shell.execute_reply.started": "2024-03-18T21:17:57.692275Z"
    }
   },
   "outputs": [],
   "source": [
    "ibata_to_galstreams = {\n",
    "    \"Tuc3\": \"TucanaIII\",\n",
    "    \"NGC7099\": \"M30\",\n",
    "    \"M5\": \"NGC5904\",\n",
    "    \"M92\": \"NGC6341\",\n",
    "}"
   ]
  },
  {
   "cell_type": "code",
   "execution_count": 53,
   "id": "e29d6b0b",
   "metadata": {
    "ExecuteTime": {
     "end_time": "2024-02-14T06:40:29.309138Z",
     "start_time": "2024-02-14T06:40:13.457230Z"
    },
    "execution": {
     "iopub.execute_input": "2024-03-18T21:17:58.089085Z",
     "iopub.status.busy": "2024-03-18T21:17:58.088712Z",
     "iopub.status.idle": "2024-03-18T21:17:58.724821Z",
     "shell.execute_reply": "2024-03-18T21:17:58.724517Z",
     "shell.execute_reply.started": "2024-03-18T21:17:58.089064Z"
    }
   },
   "outputs": [
    {
     "name": "stdout",
     "output_type": "stream",
     "text": [
      "4 ATLAS\n",
      "15 Indus\n",
      "48 Orphan\n",
      "5 Phoenix\n"
     ]
    }
   ],
   "source": [
    "for name in ibata_names:\n",
    "    sID = name_to_sID[name]\n",
    "    if sID in internal_data[\"ibata2023_sID\"]:\n",
    "        print(sID, name)\n",
    "        continue\n",
    "\n",
    "    row = {}\n",
    "    row[\"name\"] = name\n",
    "    row[\"other_names\"] = (\n",
    "        [] if name not in ibata_to_galstreams else [ibata_to_galstreams[name]]\n",
    "    )\n",
    "\n",
    "    track_name, _ = get_default_track_for_stream(name)\n",
    "    if track_name is None:\n",
    "        track_name, _ = get_default_track_for_stream(\n",
    "            ibata_to_galstreams.get(name, name)\n",
    "        )\n",
    "    row[\"galstreams_track_name\"] = track_name if track_name is not None else \"\"\n",
    "    row[\"ibata2023_sID\"] = sID\n",
    "\n",
    "    if sID in skip_sIDs:\n",
    "        continue\n",
    "\n",
    "    if sID not in orbitfit_data:\n",
    "        print(\"NOT IN ORBITFIT\", sID, row[\"name\"])\n",
    "        continue\n",
    "\n",
    "    this_data = orbitfit_data[sID]\n",
    "    sky_track, row[\"sky_poly\"] = make_ibata_poly_nodes(this_data[\"c_fr\"])\n",
    "\n",
    "    row[\"sky_track_ref\"] = \"2023arXiv231117202I\"\n",
    "    row[\"dist_track_ref\"] = \"\"  # TODO: this paper\n",
    "    if this_data[\"orbit_fr\"] is not None:\n",
    "        x = this_data[\"orbit_fr\"].phi1.degree\n",
    "        spl = InterpolatedUnivariateSpline(\n",
    "            x[np.argsort(x)], this_data[\"orbit_fr\"].distance.kpc[np.argsort(x)], k=3\n",
    "        )\n",
    "\n",
    "        row[\"track\"] = coord.SkyCoord(\n",
    "            phi1=sky_track.phi1,\n",
    "            phi2=sky_track.phi2,\n",
    "            distance=spl(sky_track.phi1.degree) * u.kpc,\n",
    "            frame=sky_track.frame.replicate_without_data(),\n",
    "        )\n",
    "    else:\n",
    "        if \"obj_data\" in this_data:\n",
    "            _d = this_data[\"obj_data\"]\n",
    "            mean_plx = np.sum(_d[\"parallax\"] / _d[\"parallax_error\"] ** 2) / np.sum(\n",
    "                1 / _d[\"parallax_error\"] ** 2\n",
    "            )\n",
    "            dist = 1 / mean_plx * u.kpc\n",
    "        else:\n",
    "            dist = np.median(this_data[\"c_fr\"].distance)\n",
    "\n",
    "        row[\"track\"] = coord.SkyCoord(\n",
    "            phi1=sky_track.phi1,\n",
    "            phi2=sky_track.phi2,\n",
    "            distance=dist,\n",
    "            frame=sky_track.frame.replicate_without_data(),\n",
    "        )\n",
    "        row[\"dist_track_ref\"] = \"2023arXiv231117202I\"\n",
    "\n",
    "    # Estimate stellar mass using an isochrone:\n",
    "    DM = np.mean(row[\"track\"].distance.distmod.value)\n",
    "    MSTO_r = DM + MSTO_absmag\n",
    "\n",
    "    idx = np.where((iso[\"G\"] + DM) < 20.0)[0]\n",
    "    dIMF = iso[\"int_IMF\"][idx[-1]] - iso[\"int_IMF\"][idx[0]]\n",
    "    M = 2.0 * len(d[\"c_fr\"]) / dIMF\n",
    "\n",
    "    row[\"stellar_mass\"] = M * u.Msun\n",
    "    row[\"stellar_mass_ref\"] = \"\"  # TODO: this paper\n",
    "\n",
    "    # Estimate stream width:\n",
    "    xx = row[\"track\"].phi1.wrap_at(180 * u.deg).degree\n",
    "    _spl = InterpolatedUnivariateSpline(\n",
    "        xx[np.argsort(xx)], row[\"track\"].phi2.degree[np.argsort(xx)], k=3\n",
    "    )\n",
    "    c_track_phi2 = _spl(this_data[\"c_fr\"].phi1.wrap_at(180 * u.deg).degree)\n",
    "    row[\"width_sky\"] = 1.5 * MAD(this_data[\"c_fr\"].phi2.degree - c_track_phi2) * u.deg\n",
    "    row[\"width\"] = (row[\"width_sky\"] * np.mean(row[\"track\"].distance)).to(\n",
    "        u.pc, u.dimensionless_angles()\n",
    "    )\n",
    "    row[\"width_ref\"] = \"\"  # TODO: this work\n",
    "\n",
    "    internal_data.add_row(row)"
   ]
  },
  {
   "cell_type": "markdown",
   "id": "bfd5e9c4",
   "metadata": {},
   "source": [
    "Now find all other streams in Galstreams that are not already in our internal table:"
   ]
  },
  {
   "cell_type": "code",
   "execution_count": 54,
   "id": "e7b9f500",
   "metadata": {
    "ExecuteTime": {
     "end_time": "2024-02-14T06:40:32.093399Z",
     "start_time": "2024-02-14T06:40:32.072927Z"
    },
    "execution": {
     "iopub.execute_input": "2024-03-18T21:18:01.056216Z",
     "iopub.status.busy": "2024-03-18T21:18:01.055800Z",
     "iopub.status.idle": "2024-03-18T21:18:01.063845Z",
     "shell.execute_reply": "2024-03-18T21:18:01.062781Z",
     "shell.execute_reply.started": "2024-03-18T21:18:01.056191Z"
    }
   },
   "outputs": [],
   "source": [
    "galstreams_masses = {\n",
    "    \"20.0-1\": (1e5 * u.Msun, \"mateu2018\"),  # Estimate based on MV=-7.3,\n",
    "    \"Corvus\": (1e5 * u.Msun, \"mateu2018\"),  # Estimate based on MV=-7.5,\n",
    "    \"PS1-A\": (0.22e3 * 2 * u.Msun, \"bernard2016\"),  # M/L = 2\n",
    "    \"PS1-B\": (1.2e3 * 2 * u.Msun, \"bernard2016\"),\n",
    "    \"PS1-C\": (1e3 * 2 * u.Msun, \"bernard2016\"),\n",
    "    \"PS1-D\": (7.5e3 * 2 * u.Msun, \"bernard2016\"),\n",
    "    \"PS1-E\": (0.5e3 * 2 * u.Msun, \"bernard2016\"),\n",
    "    \"Pal13\": (1.4e3 * 2 * u.Msun, \"shipp2020\"),  # M/L = 2, Lv in tails from RRL\n",
    "    \"Pegasus\": (2e3 * 2 * u.Msun, \"perottoni2019\"),  # M/L = 2\n",
    "    \"Ravi\": (1e4 * u.Msun, \"shipp2018\"),\n",
    "    \"Turbio\": (3.5e3 * u.Msun, \"shipp2018\"),\n",
    "    \"Wambelong\": (1.6e3 * u.Msun, \"shipp2018\"),\n",
    "}\n",
    "\n",
    "# No reported masses:\n",
    "# Grillmair 2009: Acheron, Cocytos, Lethe, Styx\n",
    "# Grillmair 2013: Alpheus\n",
    "# Williams+2011: Aquarius\n",
    "# Ibata+2021: C-4, C-5, C-8, Gaia-2, Gaia-3, Gaia-4, Gaia-5, Gunnthra, M2\n",
    "# Myeong+2017: Eridanus, Pal15\n",
    "# Grillmair 2014: Hermus, Hyllus\n",
    "# Sollima 2020: M30, NGC6362\n",
    "# Grillmair 2017a: Sangarius, Scamander\n",
    "# Grillmair 2017b: Murrumbidgee, Molonglo, Orinoco, Kwando\n",
    "# Bonaca+2012: Tri-Pis\n",
    "# Weiss+2018: Parallel, Perpendicular"
   ]
  },
  {
   "cell_type": "code",
   "execution_count": 55,
   "id": "b79c4d26-0ff3-4753-a2a9-ec75450ae01f",
   "metadata": {
    "execution": {
     "iopub.execute_input": "2024-03-18T21:18:01.658910Z",
     "iopub.status.busy": "2024-03-18T21:18:01.658489Z",
     "iopub.status.idle": "2024-03-18T21:18:01.676113Z",
     "shell.execute_reply": "2024-03-18T21:18:01.675016Z",
     "shell.execute_reply.started": "2024-03-18T21:18:01.658884Z"
    }
   },
   "outputs": [],
   "source": [
    "galstreams_widths = {\n",
    "    \"20.0-1\": (1.8 * u.deg, 641 * u.pc, \"mateu2018\"),\n",
    "    \"Corvus\": (1.63 * u.deg, 313 * u.pc, \"mateu2018\"),\n",
    "    \"PS1-A\": (27 * u.arcmin, 63 * u.pc, \"bernard2016\"),\n",
    "    \"PS1-B\": (27 * u.arcmin, 112 * u.pc, \"bernard2016\"),\n",
    "    \"PS1-C\": (20 * u.arcmin, 99 * u.pc, \"bernard2016\"),\n",
    "    \"PS1-D\": (52 * u.arcmin, 350 * u.pc, \"bernard2016\"),\n",
    "    \"PS1-E\": (37 * u.arcmin, 140 * u.pc, \"bernard2016\"),\n",
    "    \"Pal13\": (0.25 * u.deg, (0.25 * u.deg * 23.6 * u.kpc), \"shipp2020\"),\n",
    "    \"Pegasus\": (0.4 * u.deg, 112 * u.pc, \"perottoni2019\"),\n",
    "    \"Ravi\": (288 * u.pc / (22.9 * u.kpc), 288 * u.pc, \"shipp2018\"),\n",
    "    \"Turbio\": (72 * u.pc / (16.6 * u.kpc), 72 * u.pc, \"shipp2018\"),\n",
    "    \"Wambelong\": (106 * u.pc / (15.1 * u.kpc), 106 * u.pc, \"shipp2018\"),\n",
    "    \"Acheron\": (0.9 * u.deg, 60 * u.pc, \"grillmair2009\"),\n",
    "    \"Cocytos\": (0.7 * u.deg, 140 * u.pc, \"grillmair2009\"),\n",
    "    \"Lethe\": (0.4 * u.deg, 95 * u.pc, \"grillmair2009\"),\n",
    "    \"Styx\": (3.3 * u.deg, 2.6 * u.kpc, \"grillmair2009\"),\n",
    "    \"Alpheus\": (3.2 * u.deg, 100 * u.pc, \"grillmair2013\"),\n",
    "    \"Hermus\": (0.7 * u.deg, 220 * u.pc, \"grillmair2014\"),\n",
    "    \"Hyllus\": (1.2 * u.deg, 180 * u.pc, \"grillmair2014\"),\n",
    "    \"Sangarius\": (1 * u.deg, 350 * u.pc, \"grillmair2017a\"),\n",
    "    \"Scamander\": (1 * u.deg, 350 * u.pc, \"grillmair2017a\"),\n",
    "    \"Molonglo\": (30 * u.arcmin, 170 * u.pc, \"grillmair2017b\"),\n",
    "    \"Murrumbidgee\": (22 * u.arcmin, 125 * u.pc, \"grillmair2017b\"),\n",
    "    \"Orinoco\": (40 * u.arcmin, 240 * u.pc, \"grillmair2017b\"),\n",
    "    \"Kwando\": (22 * u.arcmin, 130 * u.pc, \"grillmair2017b\"),\n",
    "    \"Tri-Pis\": (0.2 * u.deg, 75 * u.pc, \"bonaca2012\"),\n",
    "}\n",
    "\n",
    "# No reported widths:\n",
    "# Williams+2011: Aquarius\n",
    "# Myeong+2017: Eridanus, Pal15\n",
    "# Sollima 2020: M30, NGC6362\n",
    "# Weiss+2018: Parallel, Perpendicular"
   ]
  },
  {
   "cell_type": "code",
   "execution_count": 56,
   "id": "1cd43e03",
   "metadata": {
    "ExecuteTime": {
     "end_time": "2024-02-14T06:40:36.160013Z",
     "start_time": "2024-02-14T06:40:35.625353Z"
    },
    "execution": {
     "iopub.execute_input": "2024-03-18T21:18:02.520464Z",
     "iopub.status.busy": "2024-03-18T21:18:02.520065Z",
     "iopub.status.idle": "2024-03-18T21:18:02.790538Z",
     "shell.execute_reply": "2024-03-18T21:18:02.790259Z",
     "shell.execute_reply.started": "2024-03-18T21:18:02.520442Z"
    }
   },
   "outputs": [
    {
     "name": "stdout",
     "output_type": "stream",
     "text": [
      "Aquarius\n",
      "C-4\n",
      "C-5\n",
      "C-8\n",
      "Eridanus\n",
      "Gaia-2\n",
      "Gaia-3\n",
      "Gaia-4\n",
      "Gaia-5\n",
      "Gunnthra\n",
      "M2\n",
      "NGC6362\n",
      "Pal15\n",
      "Parallel\n",
      "Perpendicular\n"
     ]
    }
   ],
   "source": [
    "gs_to_internal_name = {\n",
    "    \"AAU-ATLAS\": \"AAU\",\n",
    "    \"AAU-AliqaUma\": \"AAU\",\n",
    "    \"M68-Fjorm\": \"Fjorm\",\n",
    "    \"NGC3201-Gjoll\": \"Gjoll\",\n",
    "    \"OmegaCen-Fimbulthul\": \"Fimbulthul\",\n",
    "    \"Orphan-Chenab\": \"OC\",\n",
    "    \"TucanaIII\": \"Tuc3\",\n",
    "    \"Jhelum-a\": \"Jhelum\",\n",
    "    \"Jhelum-b\": \"Jhelum\",\n",
    "}\n",
    "\n",
    "galstreams_default_tracks = np.array(list(mwstreams.keys()))\n",
    "galstreams_names = np.array(\n",
    "    [\n",
    "        x\n",
    "        for x in mwstreams.all_unique_stream_names()\n",
    "        if x not in [\"Cetus-New\", \"Cetus-Palca\", \"ACS\", \"Monoceros\", \"Sagittarius\"]\n",
    "    ]\n",
    ")\n",
    "\n",
    "_all_internal_names = np.concatenate(\n",
    "    (internal_data[\"name\"], [x for y in internal_data[\"other_names\"] for x in y])\n",
    ")\n",
    "for name in galstreams_names:\n",
    "    if gs_to_internal_name.get(name, name) in _all_internal_names:\n",
    "        continue\n",
    "\n",
    "    row = {}\n",
    "    row[\"name\"] = name\n",
    "    row[\"other_names\"] = []\n",
    "\n",
    "    track_name, stream = get_default_track_for_stream(name)\n",
    "    row[\"galstreams_track_name\"] = track_name if track_name is not None else \"\"\n",
    "\n",
    "    row[\"sky_poly\"] = get_full_galstreams_poly(stream.poly_sc)\n",
    "    row[\"track\"] = stream.track.transform_to(\n",
    "        stream.stream_frame.replicate_without_data()\n",
    "    )\n",
    "    row[\"sky_track_ref\"] = stream.ref\n",
    "    row[\"dist_track_ref\"] = stream.ref\n",
    "\n",
    "    if name in galstreams_masses:\n",
    "        row[\"stellar_mass\"] = galstreams_masses[name][0]\n",
    "        row[\"stellar_mass_ref\"] = galstreams_masses[name][1]\n",
    "    else:\n",
    "        row[\"stellar_mass\"] = np.nan * u.Msun\n",
    "        row[\"stellar_mass_ref\"] = \"\"\n",
    "\n",
    "    if name in galstreams_widths:\n",
    "        _w = galstreams_widths[name]\n",
    "        row[\"width_sky\"] = _w[0].to(u.deg, u.dimensionless_angles())\n",
    "        row[\"width\"] = _w[1].to(u.pc, u.dimensionless_angles())\n",
    "        row[\"width_ref\"] = _w[2]\n",
    "    else:\n",
    "        print(name)\n",
    "        row[\"width_sky\"] = np.nan * u.deg\n",
    "        row[\"width\"] = np.nan * u.pc\n",
    "        row[\"width_ref\"] = \"\"\n",
    "\n",
    "    internal_data.add_row(row)"
   ]
  },
  {
   "cell_type": "markdown",
   "id": "3f304f1c",
   "metadata": {},
   "source": [
    "Final adjustments to fill in values in columns:"
   ]
  },
  {
   "cell_type": "code",
   "execution_count": 68,
   "id": "98cc2124",
   "metadata": {
    "ExecuteTime": {
     "end_time": "2024-02-14T06:40:37.314950Z",
     "start_time": "2024-02-14T06:40:37.294695Z"
    },
    "execution": {
     "iopub.execute_input": "2024-03-19T12:04:16.268385Z",
     "iopub.status.busy": "2024-03-19T12:04:16.267924Z",
     "iopub.status.idle": "2024-03-19T12:04:16.278855Z",
     "shell.execute_reply": "2024-03-19T12:04:16.277442Z",
     "shell.execute_reply.started": "2024-03-19T12:04:16.268358Z"
    }
   },
   "outputs": [],
   "source": [
    "paper_to_bibcode = {\n",
    "    \"bernard2016\": \"2016MNRAS.463.1759B\",\n",
    "    \"bonaca2012\": \"2012ApJ...760L...6B\",\n",
    "    \"grillmair2009\": \"2009ApJ...693.1118G\",\n",
    "    \"grillmair2013\": \"2013ApJ...769L..23G\",\n",
    "    \"grillmair2014\": \"2014ApJ...790L..10G\",\n",
    "    \"grillmair2017\": \"2017ApJ...834...98G\",\n",
    "    \"grillmair2017a\": \"2017ApJ...834...98G\",\n",
    "    \"grillmair2017b\": \"2017ApJ...847..119G\",\n",
    "    \"ibata2021\": \"2021ApJ...914..123I\",\n",
    "    \"malhan2018\": \"2018MNRAS.481.3442M\",\n",
    "    \"mateu2018\": \"2018MNRAS.474.4112M\",\n",
    "    \"myeong2017\": \"2017MNRAS.469L..78M\",\n",
    "    \"perottoni2019\": \"2019MNRAS.486..843P\",\n",
    "    \"shipp2018\": \"2018ApJ...862..114S\",\n",
    "    \"shipp2020\": \"2020AJ....160..244S\",\n",
    "    \"sollima2020\": \"2020MNRAS.495.2222S\",\n",
    "    \"weiss2018\": \"2018ApJ...867L...1W\",\n",
    "    \"williams2011\": \"2011ApJ...728..102W\",\n",
    "    \"bonaca2012\": \"2012ApJ...760L...6B\",\n",
    "}\n",
    "for colname in [\"sky_track_ref\", \"dist_track_ref\", \"stellar_mass_ref\", \"width_ref\"]:\n",
    "    internal_data[colname] = [\n",
    "        paper_to_bibcode.get(x, x) for x in internal_data[colname]\n",
    "    ]"
   ]
  },
  {
   "cell_type": "markdown",
   "id": "49213090",
   "metadata": {},
   "source": [
    "## Discovery methods"
   ]
  },
  {
   "cell_type": "code",
   "execution_count": 70,
   "id": "b6ae4074",
   "metadata": {
    "ExecuteTime": {
     "end_time": "2024-02-14T06:40:39.253309Z",
     "start_time": "2024-02-14T06:40:39.228380Z"
    },
    "execution": {
     "iopub.execute_input": "2024-03-19T12:04:23.083542Z",
     "iopub.status.busy": "2024-03-19T12:04:23.083144Z",
     "iopub.status.idle": "2024-03-19T12:04:23.103021Z",
     "shell.execute_reply": "2024-03-19T12:04:23.102113Z",
     "shell.execute_reply.started": "2024-03-19T12:04:23.083519Z"
    }
   },
   "outputs": [],
   "source": [
    "discovery_method = {\n",
    "    \"Acheron\": \"photometry\",\n",
    "    \"Styx\": \"photometry\",\n",
    "    \"Cocytos\": \"photometry\",\n",
    "    \"Lethe\": \"photometry\",\n",
    "    \"Aquarius\": \"photometry\",\n",
    "    \"Tri-Pis\": \"photometry\",\n",
    "    \"Alpheus\": \"photometry\",\n",
    "    \"Hermus\": \"photometry\",\n",
    "    \"Hyllus\": \"photometry\",\n",
    "    \"PS1-C\": \"photometry\",\n",
    "    \"PS1-D\": \"photometry\",\n",
    "    \"PS1-E\": \"photometry\",\n",
    "    \"PS1-A\": \"photometry\",\n",
    "    \"PS1-B\": \"photometry\",\n",
    "    \"Orinoco\": \"photometry\",\n",
    "    \"Sangarius\": \"photometry\",\n",
    "    \"Scamander\": \"photometry\",\n",
    "    \"Molonglo\": \"photometry\",\n",
    "    \"Murrumbidgee\": \"photometry\",\n",
    "    \"Pal15\": \"photometry\",\n",
    "    \"Eridanus\": \"photometry\",\n",
    "    \"Wambelong\": \"photometry\",\n",
    "    \"Ravi\": \"photometry\",\n",
    "    \"Palca\": \"photometry\",\n",
    "    \"Willka Yaku\": \"photometry\",\n",
    "    \"Turbio\": \"photometry\",\n",
    "    \"300S\": \"photometry\",\n",
    "    \"Parallel\": \"photometry\",\n",
    "    \"Perpendicular\": \"photometry\",\n",
    "    \"Corvus\": \"rrl\",\n",
    "    \"20.0-1\": \"rrl\",\n",
    "    \"Gaia-5\": \"streamfinder\",\n",
    "    \"Gaia-4\": \"streamfinder\",\n",
    "    \"Gaia-3\": \"streamfinder\",\n",
    "    \"Turranburra\": \"photometry\",\n",
    "    \"Elqui\": \"photometry\",\n",
    "    \"Indus\": \"photometry\",\n",
    "    \"Phoenix\": \"photometry\",\n",
    "    \"OC\": \"photometry\",\n",
    "    \"Pegasus\": \"photometry\",\n",
    "    \"Pal13\": \"photometry\",\n",
    "    \"M30\": \"photometry\",\n",
    "    \"NGC6362\": \"astrometry\",\n",
    "    \"AAU\": \"photometry\",\n",
    "    \"M2\": \"streamfinder\",\n",
    "    \"Gaia-2\": \"streamfinder\",\n",
    "    \"C-8\": \"streamfinder\",\n",
    "    \"C-5\": \"streamfinder\",\n",
    "    \"C-4\": \"streamfinder\",\n",
    "    \"Gunnthra\": \"streamfinder\",\n",
    "    \"Jet\": \"photometry\",\n",
    "    \"Gjoll\": \"streamfinder\",\n",
    "    \"Gaia-10\": \"streamfinder\",\n",
    "    \"Hrid\": \"streamfinder\",\n",
    "    \"Hydrus\": \"photometry\",\n",
    "    \"Gaia-8\": \"streamfinder\",\n",
    "    \"Gaia-7\": \"streamfinder\",\n",
    "    \"Gaia-6\": \"streamfinder\",\n",
    "    \"Ylgr\": \"streamfinder\",\n",
    "    \"Tuc3\": \"photometry\",\n",
    "    \"Gaia-12\": \"streamfinder\",\n",
    "    \"Gaia-11\": \"streamfinder\",\n",
    "    \"Gaia-9\": \"streamfinder\",\n",
    "    \"Kwando\": \"photometry\",\n",
    "    \"GD-1\": \"photometry\",\n",
    "    \"C-10\": \"streamfinder\",\n",
    "    \"C-11\": \"streamfinder\",\n",
    "    \"C-12\": \"streamfinder\",\n",
    "    \"C-13\": \"streamfinder\",\n",
    "    \"C-19\": \"streamfinder\",\n",
    "    \"C-20\": \"streamfinder\",\n",
    "    \"C-22\": \"streamfinder\",\n",
    "    \"Gaia-1\": \"streamfinder\",\n",
    "    \"C-23\": \"streamfinder\",\n",
    "    \"C-25\": \"streamfinder\",\n",
    "    \"C-7\": \"streamfinder\",\n",
    "    \"C-9\": \"streamfinder\",\n",
    "    \"Fimbulthul\": \"streamfinder\",\n",
    "    \"Fimbulthul-S\": \"streamfinder\",\n",
    "    \"Sylgr\": \"streamfinder\",\n",
    "    \"Fjorm\": \"streamfinder\",\n",
    "    \"C-24\": \"streamfinder\",\n",
    "    \"Svol\": \"streamfinder\",\n",
    "    \"Slidr\": \"streamfinder\",\n",
    "    \"Phlegethon\": \"streamfinder\",\n",
    "    \"New-11\": \"streamfinder\",\n",
    "    \"New-10\": \"streamfinder\",\n",
    "    \"New-1\": \"streamfinder\",\n",
    "    \"NGC7492\": \"streamfinder\",\n",
    "    \"NGC7089\": \"streamfinder\",\n",
    "    \"NGC6397\": \"streamfinder\",\n",
    "    \"NGC6101\": \"streamfinder\",\n",
    "    \"NGC5466\": \"photometry\",\n",
    "    \"NGC288\": \"astrometry\",\n",
    "    \"NGC2808\": \"streamfinder\",\n",
    "    \"NGC2298\": \"astrometry\",\n",
    "    \"NGC1851\": \"streamfinder\",\n",
    "    \"NGC1261b\": \"streamfinder\",\n",
    "    \"NGC1261a\": \"streamfinder\",\n",
    "    \"NGC1261\": \"streamfinder\",\n",
    "    \"M92\": \"astrometry\",\n",
    "    \"M5\": \"photometry\",\n",
    "    \"Leiptr\": \"streamfinder\",\n",
    "    \"LMS-1\": \"iom-clustering\",\n",
    "    \"New-12\": \"streamfinder\",\n",
    "    \"Kshir\": \"streamfinder\",\n",
    "    \"New-13\": \"streamfinder\",\n",
    "    \"New-15\": \"streamfinder\",\n",
    "    \"Pal5\": \"photometry\",\n",
    "    \"Ophiuchus\": \"photometry\",\n",
    "    \"New-8\": \"streamfinder\",\n",
    "    \"New-7\": \"streamfinder\",\n",
    "    \"New-6\": \"streamfinder\",\n",
    "    \"New-5\": \"streamfinder\",\n",
    "    \"New-4\": \"streamfinder\",\n",
    "    \"New-3\": \"streamfinder\",\n",
    "    \"New-28\": \"streamfinder\",\n",
    "    \"New-27\": \"streamfinder\",\n",
    "    \"New-26\": \"streamfinder\",\n",
    "    \"New-24\": \"streamfinder\",\n",
    "    \"New-23\": \"streamfinder\",\n",
    "    \"New-22\": \"streamfinder\",\n",
    "    \"New-21\": \"streamfinder\",\n",
    "    \"New-20\": \"streamfinder\",\n",
    "    \"New-2\": \"streamfinder\",\n",
    "    \"New-19\": \"streamfinder\",\n",
    "    \"New-18\": \"streamfinder\",\n",
    "    \"Jhelum\": \"photometry\",\n",
    "    \"New-16\": \"streamfinder\",\n",
    "    \"New-14\": \"streamfinder\",\n",
    "    \"New-17\": \"streamfinder\",\n",
    "}\n",
    "discovery_method = at.Table(\n",
    "    {\n",
    "        \"name\": list(discovery_method.keys()),\n",
    "        \"discovery_method\": list(discovery_method.values()),\n",
    "    }\n",
    ")"
   ]
  },
  {
   "cell_type": "code",
   "execution_count": 71,
   "id": "71f87a11",
   "metadata": {
    "ExecuteTime": {
     "end_time": "2024-02-14T06:40:40.527435Z",
     "start_time": "2024-02-14T06:40:40.506763Z"
    },
    "execution": {
     "iopub.execute_input": "2024-03-19T12:04:23.873763Z",
     "iopub.status.busy": "2024-03-19T12:04:23.873360Z",
     "iopub.status.idle": "2024-03-19T12:04:23.886098Z",
     "shell.execute_reply": "2024-03-19T12:04:23.885127Z",
     "shell.execute_reply.started": "2024-03-19T12:04:23.873741Z"
    }
   },
   "outputs": [],
   "source": [
    "internal_data = at.join(internal_data, discovery_method, keys=\"name\", join_type=\"left\")"
   ]
  },
  {
   "cell_type": "code",
   "execution_count": 72,
   "id": "cab1c1df-4c16-4ea8-8129-84363327c232",
   "metadata": {
    "ExecuteTime": {
     "end_time": "2024-02-14T06:40:41.708342Z",
     "start_time": "2024-02-14T06:40:41.650800Z"
    },
    "execution": {
     "iopub.execute_input": "2024-03-19T12:04:24.326145Z",
     "iopub.status.busy": "2024-03-19T12:04:24.325737Z",
     "iopub.status.idle": "2024-03-19T12:04:24.387427Z",
     "shell.execute_reply": "2024-03-19T12:04:24.386986Z",
     "shell.execute_reply.started": "2024-03-19T12:04:24.326122Z"
    }
   },
   "outputs": [],
   "source": [
    "with open(\"../data/all_stream_summary_data.pkl\", \"wb\") as f:\n",
    "    pickle.dump(internal_data, f)"
   ]
  },
  {
   "cell_type": "markdown",
   "id": "db9edf66",
   "metadata": {},
   "source": [
    "## Main Summary Table\n",
    "\n",
    "- name\n",
    "- phi1,2 = (0, 0) in ICRS coords\n",
    "- length\n",
    "- distmod (dist)\n",
    "- range of distmod (dist)\n",
    "- stellar mass\n",
    "- found with gaia y/n\n",
    "- spec follow up y/n\n",
    "- associated with progenitor y/n"
   ]
  },
  {
   "cell_type": "code",
   "execution_count": 81,
   "id": "50bbfbe7",
   "metadata": {
    "ExecuteTime": {
     "end_time": "2024-02-14T06:42:53.547491Z",
     "start_time": "2024-02-14T06:42:52.587621Z"
    },
    "execution": {
     "iopub.execute_input": "2024-03-19T12:10:13.402401Z",
     "iopub.status.busy": "2024-03-19T12:10:13.401888Z",
     "iopub.status.idle": "2024-03-19T12:10:13.892552Z",
     "shell.execute_reply": "2024-03-19T12:10:13.892258Z",
     "shell.execute_reply.started": "2024-03-19T12:10:13.402367Z"
    }
   },
   "outputs": [],
   "source": [
    "summary_table = []\n",
    "for irow in internal_data:\n",
    "    row = {}\n",
    "    row[\"Name\"] = irow[\"name\"]\n",
    "\n",
    "    frame = irow[\"track\"].frame.replicate_without_data()\n",
    "\n",
    "    _sort_idx = np.argsort(irow[\"track\"].phi1.degree)\n",
    "    dist_spl = InterpolatedUnivariateSpline(\n",
    "        irow[\"track\"].phi1.degree[_sort_idx], irow[\"track\"].distance.kpc[_sort_idx], k=3\n",
    "    )\n",
    "    origin_c = coord.SkyCoord(\n",
    "        phi1=0 * u.deg,\n",
    "        phi2=0 * u.deg,\n",
    "        distance=np.abs(dist_spl(0.0)) * u.kpc,\n",
    "        frame=frame,\n",
    "    )\n",
    "    origin_c = origin_c.transform_to(coord.ICRS())\n",
    "    galcen = origin_c.transform_to(coord.Galactocentric())\n",
    "    row[\"Origin RA\"] = origin_c.ra\n",
    "    row[\"Origin Dec.\"] = origin_c.dec\n",
    "\n",
    "    # dhelio_name = \"Origin Helio. Dist.\"\n",
    "    dhelio_name = r\"$D_{\\rm hel}$\"\n",
    "    row[dhelio_name] = origin_c.distance.view(u.Quantity)\n",
    "\n",
    "    # rgal_name = \"Origin Gal. Radius\"\n",
    "    rgal_name = r\"$r_{\\rm gal}$\"\n",
    "    row[rgal_name] = np.squeeze(np.linalg.norm(galcen.data.xyz))\n",
    "\n",
    "    # if np.isclose(irow[\"track\"].distance.kpc.min(), irow[\"track\"].distance.kpc.max()):\n",
    "    #     row[\"Min. Dist.\"] = np.nan * u.kpc\n",
    "    #     row[\"Max. Dist.\"] = np.nan * u.kpc\n",
    "    # else:\n",
    "    #     row[\"Min. Dist.\"] = irow[\"track\"].distance.min().view(u.Quantity)\n",
    "    #     row[\"Max. Dist.\"] = irow[\"track\"].distance.max().view(u.Quantity)\n",
    "\n",
    "    row[\"Length (sky)\"] = irow[\"track\"].phi1.max() - irow[\"track\"].phi1.min()\n",
    "    row[\"Width (sky)\"] = irow[\"width_sky\"]\n",
    "    row[\"Width\"] = irow[\"width\"]\n",
    "    row[\"Reference\"] = irow[\"sky_track_ref\"]\n",
    "    row[\"Width Ref.\"] = irow[\"width_ref\"] if irow[\"width_ref\"] != \"\" else \"this work\"\n",
    "\n",
    "    row[\"Stellar Mass\"] = irow[\"stellar_mass\"]\n",
    "    if irow[\"stellar_mass_ref\"] != \"\" or np.isnan(irow[\"stellar_mass\"]):\n",
    "        row[\"Stellar Mass Ref.\"] = irow[\"stellar_mass_ref\"]\n",
    "    else:\n",
    "        row[\"Stellar Mass Ref.\"] = \"this work\"\n",
    "\n",
    "    if irow[\"ibata2023_sID\"] != 0:\n",
    "        row[\"Distance Ref.\"] = \"this work\"\n",
    "    else:\n",
    "        row[\"Distance Ref.\"] = irow[\"sky_track_ref\"]\n",
    "\n",
    "    try:\n",
    "        pm1 = irow[\"track\"].pm_phi1_cosphi2\n",
    "        pm_track_bool = np.any(~np.isclose(pm1.value, 0))\n",
    "    except TypeError:\n",
    "        pm_track_bool = False\n",
    "\n",
    "    # Special case some:\n",
    "    if irow[\"name\"] in [\"Aquarius\"]:\n",
    "        pm_track_bool = False\n",
    "    elif irow[\"name\"].startswith(\"Gaia\"):\n",
    "        pm_track_bool = True\n",
    "\n",
    "    row[\"Gaia\"] = irow[\"ibata2023_sID\"] != 0 or pm_track_bool\n",
    "    row[\"S5\"] = np.in1d([irow[\"name\"]] + irow[\"other_names\"], s5_data[\"name\"]).any()\n",
    "    summary_table.append(row)\n",
    "\n",
    "tmp_summary_table = at.QTable(summary_table)"
   ]
  },
  {
   "cell_type": "markdown",
   "id": "3b88087c",
   "metadata": {},
   "source": [
    "Sort by: S5, Ibata, all remaining, and then alphabetical by name within each:"
   ]
  },
  {
   "cell_type": "code",
   "execution_count": 82,
   "id": "d1010da2",
   "metadata": {
    "ExecuteTime": {
     "end_time": "2024-02-14T06:42:55.474845Z",
     "start_time": "2024-02-14T06:42:55.448965Z"
    },
    "execution": {
     "iopub.execute_input": "2024-03-19T12:10:16.576439Z",
     "iopub.status.busy": "2024-03-19T12:10:16.575910Z",
     "iopub.status.idle": "2024-03-19T12:10:16.601513Z",
     "shell.execute_reply": "2024-03-19T12:10:16.600852Z",
     "shell.execute_reply.started": "2024-03-19T12:10:16.576410Z"
    }
   },
   "outputs": [],
   "source": [
    "# Custom sort function:\n",
    "def natural_sort(key):\n",
    "    return [int(s) if s.isdigit() else s for s in re.split(r\"(\\d+)\", key)]\n",
    "\n",
    "\n",
    "tbl1 = tmp_summary_table[tmp_summary_table[\"S5\"]]\n",
    "tbl2 = tmp_summary_table[tmp_summary_table[\"Gaia\"] & ~tmp_summary_table[\"S5\"]]\n",
    "tbl3 = tmp_summary_table[~tmp_summary_table[\"Gaia\"] & ~tmp_summary_table[\"S5\"]]\n",
    "assert len(tbl1) + len(tbl2) + len(tbl3) == len(tmp_summary_table)\n",
    "tbls = [tbl1, tbl2, tbl3]\n",
    "table_heads = [\n",
    "    \"Observed by S5 Survey\",\n",
    "    \"Detected in Gaia\",\n",
    "    \"Needs Follow-up Observations\",\n",
    "]\n",
    "\n",
    "sorted_tbls = []\n",
    "split_streams = []\n",
    "for tbl in tbls:\n",
    "    sorted_names = sorted(tbl[\"Name\"], key=natural_sort)\n",
    "    argsort = np.array([np.where(tbl[\"Name\"] == name)[0][0] for name in sorted_names])\n",
    "    tbl = tbl[argsort]\n",
    "    sorted_tbls.append(tbl)\n",
    "    split_streams.append(tbl[\"Name\"][-1])\n",
    "\n",
    "summary_table = at.vstack(sorted_tbls)\n",
    "summary_table.remove_columns([\"S5\", \"Gaia\"])"
   ]
  },
  {
   "cell_type": "code",
   "execution_count": 75,
   "id": "0ec3c35d",
   "metadata": {
    "ExecuteTime": {
     "end_time": "2024-02-14T06:42:57.793764Z",
     "start_time": "2024-02-14T06:42:56.916814Z"
    },
    "execution": {
     "iopub.execute_input": "2024-03-19T12:04:27.268897Z",
     "iopub.status.busy": "2024-03-19T12:04:27.268519Z",
     "iopub.status.idle": "2024-03-19T12:04:40.957788Z",
     "shell.execute_reply": "2024-03-19T12:04:40.956468Z",
     "shell.execute_reply.started": "2024-03-19T12:04:27.268875Z"
    }
   },
   "outputs": [
    {
     "name": "stderr",
     "output_type": "stream",
     "text": [
      "/Users/apricewhelan/anaconda3/lib/python3.10/site-packages/ads/utils.py:26: UserWarning: You are lazy loading attributes via 'bibtex', and so are making multiple calls to the API. This will impact your overall rate limits.\n",
      "  warnings.warn(\n",
      "/Users/apricewhelan/anaconda3/lib/python3.10/site-packages/ads/search.py:302: UserWarning: bibtex should be queried with ads.ExportQuery(); You will hit API ratelimits very quickly otherwise.\n",
      "  warnings.warn(\"bibtex should be queried with ads.ExportQuery(); You will \"\n"
     ]
    },
    {
     "name": "stdout",
     "output_type": "stream",
     "text": [
      "this work\n"
     ]
    }
   ],
   "source": [
    "bibcode_to_bib = {}\n",
    "bibcode_to_ref_id = {}\n",
    "i = 1\n",
    "for bibcode in np.unique(\n",
    "    np.concatenate(\n",
    "        (\n",
    "            summary_table[\"Reference\"],\n",
    "            summary_table[\"Stellar Mass Ref.\"],\n",
    "            summary_table[\"Distance Ref.\"],\n",
    "            summary_table[\"Width Ref.\"],\n",
    "        )\n",
    "    )\n",
    "):\n",
    "    if bibcode == \"\":\n",
    "        continue\n",
    "\n",
    "    try:\n",
    "        paper = list(ads.SearchQuery(bibcode=bibcode))[0]\n",
    "    except IndexError:\n",
    "        print(bibcode)\n",
    "        continue\n",
    "\n",
    "    # Handle grillmair 2017b\n",
    "    cite_key = f\"{paper.first_author.split(',')[0].lower()}:{paper.year}\"\n",
    "    if cite_key in [x[0] for x in bibcode_to_bib.values()]:\n",
    "        cite_key = f\"{cite_key}b\"\n",
    "    bibtex = paper.bibtex.replace(bibcode, cite_key)\n",
    "    bibcode_to_bib[bibcode] = (cite_key, bibtex)\n",
    "    bibcode_to_ref_id[bibcode] = i\n",
    "    i += 1\n",
    "\n",
    "bibcode_to_ref_id[\"this work\"] = \"*\""
   ]
  },
  {
   "cell_type": "markdown",
   "id": "b11d519e",
   "metadata": {},
   "source": [
    "Replace references with letters after the stream name:"
   ]
  },
  {
   "cell_type": "code",
   "execution_count": 83,
   "id": "94d1c82f",
   "metadata": {
    "execution": {
     "iopub.execute_input": "2024-03-19T12:10:18.696117Z",
     "iopub.status.busy": "2024-03-19T12:10:18.695711Z",
     "iopub.status.idle": "2024-03-19T12:10:18.714799Z",
     "shell.execute_reply": "2024-03-19T12:10:18.713944Z",
     "shell.execute_reply.started": "2024-03-19T12:10:18.696095Z"
    }
   },
   "outputs": [],
   "source": [
    "# Add reference letters next to values:\n",
    "# with_refs = {\"Name\": [], dhelio_name: [], \"Stellar Mass\": []}\n",
    "# for row in summary_table:\n",
    "#     ref = bibcode_to_ref_id.get(row[\"Reference\"], \"\")\n",
    "#     with_refs[\"Name\"].append(f\"{row['Name']}$^{{({ref})}}$\" if ref else \"\")\n",
    "\n",
    "#     d = row[dhelio_name]\n",
    "#     ref = bibcode_to_ref_id.get(row[\"Distance Ref.\"], \"\")\n",
    "#     with_refs[dhelio_name].append(\n",
    "#         f\"{d.value:.1f}$^{{({ref})}}$\" if ref else f\"{d.value:.1f}\"\n",
    "#     )\n",
    "\n",
    "#     ref = bibcode_to_ref_id.get(row[\"Stellar Mass Ref.\"], \"\")\n",
    "#     with_refs[\"Stellar Mass\"].append(\n",
    "#         f\"{row['Stellar Mass'].value:.0e}$^{{({ref})}}$\"\n",
    "#         if ref\n",
    "#         else f\"{row['Stellar Mass'].value:.0e}\"\n",
    "#     )\n",
    "\n",
    "# summary_table[\"Name\"] = with_refs[\"Name\"]\n",
    "# summary_table[dhelio_name] = with_refs[dhelio_name]\n",
    "# summary_table[dhelio_name].unit = u.kpc\n",
    "# summary_table[\"Stellar Mass\"] = with_refs[\"Stellar Mass\"]\n",
    "# summary_table[\"Stellar Mass\"].unit = u.Msun\n",
    "# summary_table.remove_columns([\"Reference\", \"Stellar Mass Ref.\", \"Distance Ref.\"])\n",
    "\n",
    "# Add a new column with all reference letters:\n",
    "refs = []\n",
    "for row in summary_table:\n",
    "    ref = bibcode_to_ref_id.get(row[\"Reference\"], \"\")\n",
    "    ref_d = bibcode_to_ref_id.get(row[\"Distance Ref.\"], \"\")\n",
    "    ref_m = bibcode_to_ref_id.get(row[\"Stellar Mass Ref.\"], \"\")\n",
    "    ref_w = bibcode_to_ref_id.get(row[\"Width Ref.\"], \"\")\n",
    "    refs.append(\n",
    "        \",\".join([f\"({r})\" for r in np.unique([ref, ref_w, ref_d, ref_m]) if r])\n",
    "    )\n",
    "\n",
    "final_summary_table = summary_table.copy()\n",
    "final_summary_table[\"References\"] = refs\n",
    "final_summary_table.remove_columns(\n",
    "    [\"Reference\", \"Stellar Mass Ref.\", \"Distance Ref.\", \"Width Ref.\"]\n",
    ")"
   ]
  },
  {
   "cell_type": "code",
   "execution_count": 84,
   "id": "6cff1c57",
   "metadata": {
    "execution": {
     "iopub.execute_input": "2024-03-19T12:10:19.254123Z",
     "iopub.status.busy": "2024-03-19T12:10:19.253712Z",
     "iopub.status.idle": "2024-03-19T12:10:19.259168Z",
     "shell.execute_reply": "2024-03-19T12:10:19.258106Z",
     "shell.execute_reply.started": "2024-03-19T12:10:19.254101Z"
    }
   },
   "outputs": [],
   "source": [
    "caption = [\n",
    "    f\"({num}): \\citet{{{bibcode_to_bib[bibcode][0]}}}\"\n",
    "    if bibcode in bibcode_to_bib\n",
    "    else f\"({num}): this work\"\n",
    "    for bibcode, num in bibcode_to_ref_id.items()\n",
    "]\n",
    "caption = \", \".join(caption)"
   ]
  },
  {
   "cell_type": "markdown",
   "id": "64049f48",
   "metadata": {},
   "source": [
    "Split the full table into batches:"
   ]
  },
  {
   "cell_type": "code",
   "execution_count": 85,
   "id": "fe21fac1",
   "metadata": {
    "execution": {
     "iopub.execute_input": "2024-03-19T12:10:20.132890Z",
     "iopub.status.busy": "2024-03-19T12:10:20.132266Z",
     "iopub.status.idle": "2024-03-19T12:10:20.145972Z",
     "shell.execute_reply": "2024-03-19T12:10:20.144768Z",
     "shell.execute_reply.started": "2024-03-19T12:10:20.132865Z"
    }
   },
   "outputs": [
    {
     "data": {
      "text/plain": [
       "[36, 36, 36, 25]"
      ]
     },
     "execution_count": 85,
     "metadata": {},
     "output_type": "execute_result"
    }
   ],
   "source": [
    "idx = np.arange(0, len(final_summary_table) + 1, 36)\n",
    "if idx[-1] < len(final_summary_table):\n",
    "    idx = np.concatenate((idx, [len(final_summary_table)]))\n",
    "\n",
    "sub_tables = [final_summary_table[i:j] for i, j in zip(idx[:-1], idx[1:])]\n",
    "[len(x) for x in sub_tables]"
   ]
  },
  {
   "cell_type": "code",
   "execution_count": 94,
   "id": "2ed75afe",
   "metadata": {
    "execution": {
     "iopub.execute_input": "2024-03-19T12:14:32.008117Z",
     "iopub.status.busy": "2024-03-19T12:14:32.007470Z",
     "iopub.status.idle": "2024-03-19T12:14:32.041996Z",
     "shell.execute_reply": "2024-03-19T12:14:32.041518Z",
     "shell.execute_reply.started": "2024-03-19T12:14:32.008073Z"
    }
   },
   "outputs": [],
   "source": [
    "texts = []\n",
    "for i, tbl in enumerate(sub_tables):\n",
    "    with io.StringIO() as f:\n",
    "        tbl.write(\n",
    "            f,\n",
    "            format=\"ascii.latex\",\n",
    "            overwrite=True,\n",
    "            formats={\n",
    "                \"Origin RA\": \"%.3f\",\n",
    "                \"Origin Dec.\": \"%.3f\",\n",
    "                dhelio_name: \"%.1f\",\n",
    "                rgal_name: \"%.1f\",\n",
    "                \"Length (sky)\": \"%.0f\",\n",
    "                \"Width (sky)\": \"%.1f\",\n",
    "                \"Width\": \"%.0f\",\n",
    "                \"Stellar Mass\": \"%.0e\",\n",
    "            },\n",
    "            latexdict={\n",
    "                \"header_start\": r\"\\hline \\hline\",\n",
    "                \"data_start\": r\"\\hline\",\n",
    "                \"data_end\": r\"\\hline \\hline\",\n",
    "            },\n",
    "            col_align=\"cSSSScSccc\",\n",
    "        )\n",
    "\n",
    "        text = f.getvalue()\n",
    "        text = text.replace(\" nan \", \" \")\n",
    "\n",
    "        text = re.sub(\"(\\d+)e\\+0(\\d+)\", r\"$\\1 \\\\times 10^{\\2}$\", text)\n",
    "        # text = text.replace(\"_\", \"\")\n",
    "        texts.append(text)"
   ]
  },
  {
   "cell_type": "code",
   "execution_count": 95,
   "id": "8b849061",
   "metadata": {
    "execution": {
     "iopub.execute_input": "2024-03-19T12:14:32.535574Z",
     "iopub.status.busy": "2024-03-19T12:14:32.535164Z",
     "iopub.status.idle": "2024-03-19T12:14:32.540546Z",
     "shell.execute_reply": "2024-03-19T12:14:32.539157Z",
     "shell.execute_reply.started": "2024-03-19T12:14:32.535551Z"
    }
   },
   "outputs": [],
   "source": [
    "unit_to_siunitx = {\n",
    "    u.deg: \"\\\\unit{\\\\degree}\",\n",
    "    u.kpc: \"\\\\unit{\\\\kilo\\\\parsec}\",\n",
    "    u.pc: \"\\\\unit{\\\\parsec}\",\n",
    "    u.Msun: \"\\\\unit{\\\\Msun}\",\n",
    "}"
   ]
  },
  {
   "cell_type": "code",
   "execution_count": 96,
   "id": "465750a5",
   "metadata": {
    "execution": {
     "iopub.execute_input": "2024-03-19T12:14:33.119686Z",
     "iopub.status.busy": "2024-03-19T12:14:33.119026Z",
     "iopub.status.idle": "2024-03-19T12:14:33.135588Z",
     "shell.execute_reply": "2024-03-19T12:14:33.134770Z",
     "shell.execute_reply.started": "2024-03-19T12:14:33.119660Z"
    }
   },
   "outputs": [],
   "source": [
    "for i, text in enumerate(texts, start=1):\n",
    "    for bibcode, (cite_key, bibtex) in bibcode_to_bib.items():\n",
    "        text = text.replace(bibcode, f\"\\\\citet{{{cite_key}}}\")\n",
    "\n",
    "    split_text = text.split(\"\\n\")\n",
    "\n",
    "    # Fix the column names with periods for aligning on decimal:\n",
    "    # TODO: change replace to rstrip\n",
    "    new_header = \" & \".join(\n",
    "        [f\"{{{x.strip()}}}\" for x in split_text[3].rstrip(\"\\\\\").split(\" & \")]\n",
    "    )\n",
    "    split_text[3] = new_header + \"\\\\\\\\\"\n",
    "\n",
    "    # Fix the units to use siunitx:\n",
    "    new_units = \" & \".join(\n",
    "        [\n",
    "            unit_to_siunitx.get(col.unit, \"\")\n",
    "            for col in final_summary_table.columns.values()\n",
    "        ]\n",
    "    )\n",
    "    split_text[4] = new_units + \"\\\\\\\\\"\n",
    "\n",
    "    # Table head for first block:\n",
    "    if i == 1:\n",
    "        split_text[5] = split_text[5] + \"\\\\\\\\\"\n",
    "        head = table_heads[0]\n",
    "        split_text.insert(\n",
    "            6,\n",
    "            f\"\\\\multicolumn{{{len(final_summary_table.colnames)}}}{{l}}\"\n",
    "            f\"{{\\\\bf {head}:}}\\\\\\\\[1pt]\",\n",
    "        )\n",
    "\n",
    "    # Add hlines below any lines that start with the \"split stream\" names from above:\n",
    "    lines = []\n",
    "    for line in split_text:\n",
    "        lines.append(line)\n",
    "        for name, head in zip(split_streams[:-1], table_heads[1:]):\n",
    "            if line.strip().startswith(name):\n",
    "                lines.append(\"\\\\hline \\\\\\\\\")\n",
    "                lines.append(\n",
    "                    f\"\\\\multicolumn{{{len(final_summary_table.colnames)}}}{{l}}\"\n",
    "                    f\"{{\\\\bf {head}:}}\\\\\\\\[1pt]\"\n",
    "                )\n",
    "\n",
    "    text = \"\\n\".join(lines)\n",
    "\n",
    "    with open(f\"../tex/figures/stream-summary-table-{i}.tex\", \"w\") as f:\n",
    "        f.write(text)"
   ]
  },
  {
   "cell_type": "code",
   "execution_count": 97,
   "id": "b8a7da1c",
   "metadata": {
    "execution": {
     "iopub.execute_input": "2024-03-19T12:14:34.122260Z",
     "iopub.status.busy": "2024-03-19T12:14:34.121610Z",
     "iopub.status.idle": "2024-03-19T12:14:34.128157Z",
     "shell.execute_reply": "2024-03-19T12:14:34.127261Z",
     "shell.execute_reply.started": "2024-03-19T12:14:34.122234Z"
    }
   },
   "outputs": [
    {
     "name": "stdout",
     "output_type": "stream",
     "text": [
      "(1): \\citet{grillmair:2009}, (2): \\citet{williams:2011}, (3): \\citet{bonaca:2012}, (4): \\citet{grillmair:2013}, (5): \\citet{grillmair:2014}, (6): \\citet{bernard:2016}, (7): \\citet{grillmair:2017}, (8): \\citet{grillmair:2017b}, (9): \\citet{myeong:2017}, (10): \\citet{shipp:2018}, (11): \\citet{fu:2018}, (12): \\citet{weiss:2018}, (13): \\citet{mateu:2018}, (14): \\citet{jethwa:2018}, (15): \\citet{malhan:2018}, (16): \\citet{shipp:2019}, (17): \\citet{perottoni:2019}, (18): \\citet{shipp:2020}, (19): \\citet{sollima:2020}, (20): \\citet{li:2021}, (21): \\citet{ibata:2021}, (22): \\citet{thomas:2022}, (23): \\citet{ferguson:2022}, (24): \\citet{koposov:2023}, (25): \\citet{ibata:2023}, (26): \\citet{usman:2024}, (*): this work\n"
     ]
    }
   ],
   "source": [
    "print(caption)"
   ]
  },
  {
   "cell_type": "code",
   "execution_count": 98,
   "id": "9196b98b",
   "metadata": {
    "execution": {
     "iopub.execute_input": "2024-03-19T12:14:34.827303Z",
     "iopub.status.busy": "2024-03-19T12:14:34.826911Z",
     "iopub.status.idle": "2024-03-19T12:14:34.842835Z",
     "shell.execute_reply": "2024-03-19T12:14:34.841531Z",
     "shell.execute_reply.started": "2024-03-19T12:14:34.827281Z"
    }
   },
   "outputs": [],
   "source": [
    "with open(\"../tex/refs.bib\") as f:\n",
    "    refs_text = f.read()\n",
    "\n",
    "\n",
    "for cite_key, bibtex in bibcode_to_bib.values():\n",
    "    if cite_key in refs_text:\n",
    "        continue\n",
    "    else:\n",
    "        print(cite_key)\n",
    "        # print(bibtex)"
   ]
  },
  {
   "cell_type": "code",
   "execution_count": null,
   "id": "f4843a98",
   "metadata": {},
   "outputs": [],
   "source": []
  }
 ],
 "metadata": {
  "kernelspec": {
   "display_name": "Python 3 (ipykernel)",
   "language": "python",
   "name": "python3"
  },
  "language_info": {
   "codemirror_mode": {
    "name": "ipython",
    "version": 3
   },
   "file_extension": ".py",
   "mimetype": "text/x-python",
   "name": "python",
   "nbconvert_exporter": "python",
   "pygments_lexer": "ipython3",
   "version": "3.10.12"
  },
  "toc": {
   "base_numbering": 1,
   "nav_menu": {},
   "number_sections": true,
   "sideBar": true,
   "skip_h1_title": true,
   "title_cell": "Table of Contents",
   "title_sidebar": "Contents",
   "toc_cell": false,
   "toc_position": {},
   "toc_section_display": true,
   "toc_window_display": true
  }
 },
 "nbformat": 4,
 "nbformat_minor": 5
}

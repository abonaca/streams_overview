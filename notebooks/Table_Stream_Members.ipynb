{
 "cells": [
  {
   "cell_type": "markdown",
   "id": "eea20a97",
   "metadata": {},
   "source": [
    "## Imports"
   ]
  },
  {
   "cell_type": "code",
   "execution_count": 1,
   "id": "f44ac798",
   "metadata": {
    "ExecuteTime": {
     "end_time": "2024-10-11T06:04:01.060600Z",
     "start_time": "2024-10-11T06:04:00.479430Z"
    }
   },
   "outputs": [],
   "source": [
    "import numpy as np\n",
    "from astropy.table import Table\n",
    "import io"
   ]
  },
  {
   "cell_type": "markdown",
   "id": "abcc725d",
   "metadata": {},
   "source": [
    "## Read in tables"
   ]
  },
  {
   "cell_type": "code",
   "execution_count": 2,
   "id": "ab5af79b",
   "metadata": {
    "ExecuteTime": {
     "end_time": "2024-10-11T06:04:01.454927Z",
     "start_time": "2024-10-11T06:04:01.387362Z"
    }
   },
   "outputs": [
    {
     "name": "stderr",
     "output_type": "stream",
     "text": [
      "WARNING: UnitsWarning: '[-]' did not parse as fits unit: Invalid character at col 0 If this is meant to be a custom unit, define it with 'u.def_unit'. To have it recognized inside a file reader or other code, enable it with 'u.add_enabled_units'. For details, see https://docs.astropy.org/en/latest/units/combining_and_defining.html [astropy.units.core]\n"
     ]
    }
   ],
   "source": [
    "tall = Table.read('../data/members/all_streams.fits')"
   ]
  },
  {
   "cell_type": "code",
   "execution_count": 3,
   "id": "c47dfbcd",
   "metadata": {
    "ExecuteTime": {
     "end_time": "2024-10-11T06:04:01.977973Z",
     "start_time": "2024-10-11T06:04:01.949531Z"
    }
   },
   "outputs": [
    {
     "data": {
      "text/html": [
       "<div><i>Table length=80686</i>\n",
       "<table id=\"table139822882584224\" class=\"table-striped table-bordered table-condensed\">\n",
       "<thead><tr><th>source_id</th><th>dist</th><th>dist_err</th><th>Vr</th><th>Vr_err</th><th>FeH</th><th>FeH_err</th><th>aFe</th><th>aFe_err</th><th>p_mem</th><th>ra</th><th>ra_error</th><th>dec</th><th>dec_error</th><th>parallax</th><th>parallax_error</th><th>parallax_over_error</th><th>pm</th><th>pmra</th><th>pmra_error</th><th>pmdec</th><th>pmdec_error</th><th>ra_dec_corr</th><th>ra_parallax_corr</th><th>ra_pmra_corr</th><th>ra_pmdec_corr</th><th>dec_parallax_corr</th><th>dec_pmra_corr</th><th>dec_pmdec_corr</th><th>parallax_pmra_corr</th><th>parallax_pmdec_corr</th><th>pmra_pmdec_corr</th><th>name</th><th>reference</th></tr></thead>\n",
       "<thead><tr><th></th><th>kpc</th><th>kpc</th><th>km / s</th><th>km / s</th><th>[-]</th><th>[-]</th><th></th><th></th><th></th><th>deg</th><th>mas</th><th>deg</th><th>mas</th><th>mas</th><th>mas</th><th></th><th>mas / yr</th><th>mas / yr</th><th>mas / yr</th><th>mas / yr</th><th>mas / yr</th><th></th><th></th><th></th><th></th><th></th><th></th><th></th><th></th><th></th><th></th><th></th><th></th></tr></thead>\n",
       "<thead><tr><th>int64</th><th>float64</th><th>float64</th><th>float64</th><th>float64</th><th>float64</th><th>float64</th><th>float64</th><th>float64</th><th>float64</th><th>float64</th><th>float32</th><th>float64</th><th>float32</th><th>float64</th><th>float32</th><th>float32</th><th>float32</th><th>float64</th><th>float32</th><th>float64</th><th>float32</th><th>float32</th><th>float32</th><th>float32</th><th>float32</th><th>float32</th><th>float32</th><th>float32</th><th>float32</th><th>float32</th><th>float32</th><th>bytes15</th><th>bytes13</th></tr></thead>\n",
       "<tr><td>614929674862467712</td><td>--</td><td>--</td><td>--</td><td>--</td><td>--</td><td>--</td><td>--</td><td>--</td><td>--</td><td>150.33340244295138</td><td>0.2172744</td><td>13.24963486472028</td><td>0.18321106</td><td>-0.3381786908535966</td><td>0.25940955</td><td>-1.3036479</td><td>4.0808206</td><td>-2.911746254015053</td><td>0.27712572</td><td>-2.8591656877612537</td><td>0.20834441</td><td>-0.27213326</td><td>-0.2688552</td><td>-0.20517108</td><td>-0.04061675</td><td>0.122902796</td><td>-0.032932352</td><td>-0.46550173</td><td>0.36616457</td><td>-0.24776016</td><td>-0.472972</td><td>300S</td><td>Ibata2024</td></tr>\n",
       "<tr><td>615585464829093376</td><td>--</td><td>--</td><td>--</td><td>--</td><td>--</td><td>--</td><td>--</td><td>--</td><td>--</td><td>151.20306019519643</td><td>0.07055353</td><td>15.0644458030475</td><td>0.07045847</td><td>0.17911830305781481</td><td>0.094154194</td><td>1.9023932</td><td>3.823125</td><td>-2.6025168420229896</td><td>0.091028675</td><td>-2.8005695571293465</td><td>0.073981054</td><td>-0.40919924</td><td>-0.3131129</td><td>-0.403757</td><td>0.27107292</td><td>0.047583494</td><td>0.17083327</td><td>-0.6234429</td><td>0.6029098</td><td>-0.3358856</td><td>-0.5342571</td><td>300S</td><td>Ibata2024</td></tr>\n",
       "<tr><td>615793203807403136</td><td>--</td><td>--</td><td>289.64</td><td>13.2</td><td>--</td><td>--</td><td>--</td><td>--</td><td>--</td><td>150.80093245391498</td><td>0.105187275</td><td>15.251068516606624</td><td>0.09548935</td><td>-0.16577688810328448</td><td>0.12822632</td><td>-1.292846</td><td>3.7855484</td><td>-2.5787482483325683</td><td>0.123326175</td><td>-2.771359639657288</td><td>0.09676449</td><td>-0.19381382</td><td>-0.17572111</td><td>-0.36642805</td><td>0.04986707</td><td>0.19347896</td><td>0.035219863</td><td>-0.6044907</td><td>0.44029</td><td>-0.37176982</td><td>-0.2608366</td><td>300S</td><td>Ibata2024</td></tr>\n",
       "<tr><td>616138592192425856</td><td>--</td><td>--</td><td>--</td><td>--</td><td>--</td><td>--</td><td>--</td><td>--</td><td>--</td><td>148.2127272990071</td><td>0.23687758</td><td>14.86371021955599</td><td>0.19594307</td><td>-0.33348462878182056</td><td>0.29002234</td><td>-1.1498584</td><td>3.5326731</td><td>-2.4460593020568853</td><td>0.29745242</td><td>-2.548837629445982</td><td>0.2266088</td><td>-0.29243183</td><td>-0.3753647</td><td>-0.3257198</td><td>0.14543423</td><td>0.13805312</td><td>0.18332621</td><td>-0.61194575</td><td>0.48853102</td><td>-0.24434897</td><td>-0.4707569</td><td>300S</td><td>Ibata2024</td></tr>\n",
       "<tr><td>616408792882903296</td><td>--</td><td>--</td><td>299.55</td><td>13.19</td><td>--</td><td>--</td><td>--</td><td>--</td><td>--</td><td>147.8030755962404</td><td>0.06578866</td><td>15.386929543937446</td><td>0.06529123</td><td>0.06397401246297103</td><td>0.074224725</td><td>0.8618963</td><td>3.4420931</td><td>-2.1418607404594425</td><td>0.08339962</td><td>-2.6945198915518356</td><td>0.072843075</td><td>-0.34804758</td><td>-0.15600641</td><td>-0.26102147</td><td>0.25778595</td><td>0.07285713</td><td>0.22747582</td><td>-0.7075626</td><td>0.3070973</td><td>-0.27311182</td><td>-0.39333603</td><td>300S</td><td>Ibata2024</td></tr>\n",
       "<tr><td>616546541071209856</td><td>--</td><td>--</td><td>297.79</td><td>5.46</td><td>--</td><td>--</td><td>--</td><td>--</td><td>--</td><td>149.20536284036064</td><td>0.0986222</td><td>15.367928462127727</td><td>0.07905106</td><td>-0.16422922891836406</td><td>0.109992206</td><td>-1.4930989</td><td>3.7338042</td><td>-2.6365814344498886</td><td>0.124232344</td><td>-2.6438103101322694</td><td>0.09245272</td><td>-0.18257877</td><td>-0.34422466</td><td>-0.35431823</td><td>-0.0060119964</td><td>0.1681687</td><td>-0.02229197</td><td>-0.5348794</td><td>0.32588485</td><td>-0.23508537</td><td>-0.3357986</td><td>300S</td><td>Ibata2024</td></tr>\n",
       "<tr><td>...</td><td>...</td><td>...</td><td>...</td><td>...</td><td>...</td><td>...</td><td>...</td><td>...</td><td>...</td><td>...</td><td>...</td><td>...</td><td>...</td><td>...</td><td>...</td><td>...</td><td>...</td><td>...</td><td>...</td><td>...</td><td>...</td><td>...</td><td>...</td><td>...</td><td>...</td><td>...</td><td>...</td><td>...</td><td>...</td><td>...</td><td>...</td><td>...</td><td>...</td></tr>\n",
       "<tr><td>6149381548457021824</td><td>--</td><td>--</td><td>--</td><td>--</td><td>--</td><td>--</td><td>--</td><td>--</td><td>--</td><td>183.42182243740444</td><td>0.13597022</td><td>-39.57385736885261</td><td>0.09558439</td><td>-0.38179508118237165</td><td>0.19138853</td><td>-1.9948691</td><td>5.0027466</td><td>-0.3860468029973564</td><td>0.14277346</td><td>-4.987829321320489</td><td>0.12189874</td><td>0.0669255</td><td>-0.31316662</td><td>-0.5687638</td><td>-0.30208716</td><td>-0.02063234</td><td>-0.22399798</td><td>-0.09994907</td><td>0.27680025</td><td>0.14315754</td><td>0.12714913</td><td>Ylgr</td><td>Ibata2024</td></tr>\n",
       "<tr><td>6149653127828774272</td><td>--</td><td>--</td><td>--</td><td>--</td><td>--</td><td>--</td><td>--</td><td>--</td><td>--</td><td>182.58450668688886</td><td>0.23036619</td><td>-39.04912374939328</td><td>0.16679478</td><td>-0.1246092998811394</td><td>0.3314453</td><td>-0.37595734</td><td>5.200795</td><td>-0.7553814068624187</td><td>0.23936778</td><td>-5.145645864308278</td><td>0.20090872</td><td>-0.04256559</td><td>-0.16392402</td><td>-0.54426783</td><td>-0.21674585</td><td>-0.03420069</td><td>-0.20883104</td><td>-0.023467623</td><td>0.26318866</td><td>0.19183393</td><td>-0.096438035</td><td>Ylgr</td><td>Ibata2024</td></tr>\n",
       "<tr><td>6149830016056996480</td><td>--</td><td>--</td><td>--</td><td>--</td><td>--</td><td>--</td><td>--</td><td>--</td><td>--</td><td>186.03348838257716</td><td>0.53623545</td><td>-40.56967888370836</td><td>0.36401284</td><td>-1.9770302323914368</td><td>0.7049466</td><td>-2.8045106</td><td>5.1806407</td><td>-1.183275034298739</td><td>0.6192138</td><td>-5.043699056722138</td><td>0.6377703</td><td>-0.09506506</td><td>-0.23195265</td><td>-0.46427402</td><td>0.082547866</td><td>-0.055990934</td><td>0.09965752</td><td>-0.5910083</td><td>0.16437666</td><td>0.23086867</td><td>-0.046170145</td><td>Ylgr</td><td>Ibata2024</td></tr>\n",
       "<tr><td>6149903339738770560</td><td>--</td><td>--</td><td>--</td><td>--</td><td>--</td><td>--</td><td>--</td><td>--</td><td>--</td><td>186.01910479623496</td><td>0.036827825</td><td>-40.15760057641239</td><td>0.0235134</td><td>0.1337016045525114</td><td>0.047047768</td><td>2.841827</td><td>5.1694694</td><td>-1.0710127430925174</td><td>0.041355982</td><td>-5.057306093977807</td><td>0.044275768</td><td>-0.05890155</td><td>-0.2208006</td><td>-0.42062402</td><td>0.021887831</td><td>-0.11862684</td><td>0.11936324</td><td>-0.5919925</td><td>0.12164682</td><td>0.29096803</td><td>-0.1829625</td><td>Ylgr</td><td>Ibata2024</td></tr>\n",
       "<tr><td>6150816067532736896</td><td>--</td><td>--</td><td>--</td><td>--</td><td>--</td><td>--</td><td>--</td><td>--</td><td>--</td><td>184.11149353625694</td><td>0.32558656</td><td>-39.75721641180895</td><td>0.23565806</td><td>0.5983850512001134</td><td>0.42689225</td><td>1.4017239</td><td>4.8181276</td><td>-0.42907007460799385</td><td>0.3604269</td><td>-4.798984457764162</td><td>0.3055959</td><td>0.20454052</td><td>-0.0098363375</td><td>-0.53817123</td><td>-0.26182595</td><td>0.08874526</td><td>-0.22579765</td><td>-0.42364463</td><td>0.13099816</td><td>-0.015554134</td><td>0.187282</td><td>Ylgr</td><td>Ibata2024</td></tr>\n",
       "<tr><td>6151097027112747392</td><td>--</td><td>--</td><td>--</td><td>--</td><td>--</td><td>--</td><td>--</td><td>--</td><td>--</td><td>183.37829974024262</td><td>0.16536406</td><td>-39.023053497398344</td><td>0.12760185</td><td>-0.25829403280205443</td><td>0.25067255</td><td>-1.0304041</td><td>4.9570775</td><td>-0.050227603080344574</td><td>0.17965835</td><td>-4.956822965162361</td><td>0.16273545</td><td>0.08927197</td><td>-0.10486514</td><td>-0.6021778</td><td>-0.23547795</td><td>0.24971746</td><td>-0.14363632</td><td>-0.39213493</td><td>0.19582795</td><td>0.06600188</td><td>0.037745424</td><td>Ylgr</td><td>Ibata2024</td></tr>\n",
       "</table></div>"
      ],
      "text/plain": [
       "<Table length=80686>\n",
       "     source_id        dist  dist_err ... pmra_pmdec_corr   name  reference\n",
       "                      kpc     kpc    ...                                  \n",
       "       int64        float64 float64  ...     float32     bytes15  bytes13 \n",
       "------------------- ------- -------- ... --------------- ------- ---------\n",
       " 614929674862467712      --       -- ...       -0.472972    300S Ibata2024\n",
       " 615585464829093376      --       -- ...      -0.5342571    300S Ibata2024\n",
       " 615793203807403136      --       -- ...      -0.2608366    300S Ibata2024\n",
       " 616138592192425856      --       -- ...      -0.4707569    300S Ibata2024\n",
       " 616408792882903296      --       -- ...     -0.39333603    300S Ibata2024\n",
       " 616546541071209856      --       -- ...      -0.3357986    300S Ibata2024\n",
       "                ...     ...      ... ...             ...     ...       ...\n",
       "6149381548457021824      --       -- ...      0.12714913    Ylgr Ibata2024\n",
       "6149653127828774272      --       -- ...    -0.096438035    Ylgr Ibata2024\n",
       "6149830016056996480      --       -- ...    -0.046170145    Ylgr Ibata2024\n",
       "6149903339738770560      --       -- ...      -0.1829625    Ylgr Ibata2024\n",
       "6150816067532736896      --       -- ...        0.187282    Ylgr Ibata2024\n",
       "6151097027112747392      --       -- ...     0.037745424    Ylgr Ibata2024"
      ]
     },
     "execution_count": 3,
     "metadata": {},
     "output_type": "execute_result"
    }
   ],
   "source": [
    "tall"
   ]
  },
  {
   "cell_type": "code",
   "execution_count": 4,
   "id": "de88dcae",
   "metadata": {
    "ExecuteTime": {
     "end_time": "2024-10-11T06:04:02.519380Z",
     "start_time": "2024-10-11T06:04:02.502201Z"
    }
   },
   "outputs": [],
   "source": [
    "streams = np.unique(np.array(tall['name']))"
   ]
  },
  {
   "cell_type": "code",
   "execution_count": 5,
   "id": "39ae3283",
   "metadata": {
    "ExecuteTime": {
     "end_time": "2024-10-11T06:04:03.126762Z",
     "start_time": "2024-10-11T06:04:03.111405Z"
    }
   },
   "outputs": [
    {
     "name": "stdout",
     "output_type": "stream",
     "text": [
      "[b'300S' b'ATLAS-Aliqa Uma' b'C-10' b'C-11' b'C-12' b'C-13' b'C-19'\n",
      " b'C-20' b'C-22' b'C-23' b'C-24' b'C-25' b'C-7' b'C-9' b'Cetus-Palca'\n",
      " b'Elqui' b'GD-1' b'Gaia-1' b'Gaia-11' b'Gaia-12' b'Gaia-6' b'Gaia-7'\n",
      " b'Gaia-8' b'Gaia-9' b'Hrid' b'Hydrus' b'Indus' b'Jet' b'Jhelum' b'Kshir'\n",
      " b'Kwando' b'Leiptr' b'M2' b'M3' b'M30' b'M5' b'M68' b'M92' b'NGC 1261'\n",
      " b'NGC 1851' b'NGC 2298' b'NGC 2808' b'NGC 288' b'NGC 3201' b'NGC 5466'\n",
      " b'NGC 5824' b'NGC 6101' b'NGC 6397' b'NGC 7492' b'New-1' b'New-10'\n",
      " b'New-11' b'New-12' b'New-13' b'New-14' b'New-15' b'New-16' b'New-17'\n",
      " b'New-18' b'New-19' b'New-2' b'New-20' b'New-21' b'New-22' b'New-23'\n",
      " b'New-24' b'New-25' b'New-26' b'New-27' b'New-3' b'New-4' b'New-5'\n",
      " b'New-6' b'New-7' b'New-8' b'New-9' b'Omega Centauri' b'Ophiuchus'\n",
      " b'Orphan-Chenab' b'Palomar 13' b'Palomar 5' b'Phlegethon' b'Phoenix'\n",
      " b'SGP-S' b'Sagittarius' b'Slidr' b'Spectre' b'Sylgr' b'Tucana III'\n",
      " b'Turranburra' b'Wukong' b'Ylgr'] 92\n"
     ]
    }
   ],
   "source": [
    "print(streams, np.size(streams))"
   ]
  },
  {
   "cell_type": "code",
   "execution_count": 6,
   "id": "07d1ba44",
   "metadata": {
    "ExecuteTime": {
     "end_time": "2024-10-11T06:04:03.943047Z",
     "start_time": "2024-10-11T06:04:03.863012Z"
    }
   },
   "outputs": [],
   "source": [
    "tunique = Table.read('../data/members/all_streams_unique.fits')"
   ]
  },
  {
   "cell_type": "code",
   "execution_count": 7,
   "id": "255823f2",
   "metadata": {
    "ExecuteTime": {
     "end_time": "2024-10-11T06:04:04.427086Z",
     "start_time": "2024-10-11T06:04:04.416580Z"
    }
   },
   "outputs": [
    {
     "data": {
      "text/plain": [
       "(80162, 80686, 524)"
      ]
     },
     "execution_count": 7,
     "metadata": {},
     "output_type": "execute_result"
    }
   ],
   "source": [
    "len(tunique), len(tall), len(tall) - len(tunique)"
   ]
  },
  {
   "cell_type": "code",
   "execution_count": 8,
   "id": "7c371a4d",
   "metadata": {
    "ExecuteTime": {
     "end_time": "2024-10-11T06:04:04.836908Z",
     "start_time": "2024-10-11T06:04:04.823619Z"
    }
   },
   "outputs": [
    {
     "data": {
      "text/plain": [
       "['source_id',\n",
       " 'dist',\n",
       " 'dist_err',\n",
       " 'Vr',\n",
       " 'Vr_err',\n",
       " 'FeH',\n",
       " 'FeH_err',\n",
       " 'aFe',\n",
       " 'aFe_err',\n",
       " 'p_mem',\n",
       " 'ra',\n",
       " 'ra_error',\n",
       " 'dec',\n",
       " 'dec_error',\n",
       " 'parallax',\n",
       " 'parallax_error',\n",
       " 'parallax_over_error',\n",
       " 'pm',\n",
       " 'pmra',\n",
       " 'pmra_error',\n",
       " 'pmdec',\n",
       " 'pmdec_error',\n",
       " 'ra_dec_corr',\n",
       " 'ra_parallax_corr',\n",
       " 'ra_pmra_corr',\n",
       " 'ra_pmdec_corr',\n",
       " 'dec_parallax_corr',\n",
       " 'dec_pmra_corr',\n",
       " 'dec_pmdec_corr',\n",
       " 'parallax_pmra_corr',\n",
       " 'parallax_pmdec_corr',\n",
       " 'pmra_pmdec_corr',\n",
       " 'name',\n",
       " 'reference']"
      ]
     },
     "execution_count": 8,
     "metadata": {},
     "output_type": "execute_result"
    }
   ],
   "source": [
    "tunique.colnames"
   ]
  },
  {
   "cell_type": "markdown",
   "id": "379b922e",
   "metadata": {},
   "source": [
    "### Alphabetize tables"
   ]
  },
  {
   "cell_type": "code",
   "execution_count": 9,
   "id": "41ea42ae",
   "metadata": {
    "ExecuteTime": {
     "end_time": "2024-10-11T06:04:06.268050Z",
     "start_time": "2024-10-11T06:04:06.259694Z"
    }
   },
   "outputs": [],
   "source": [
    "def alphabetize_references(reference_string):\n",
    "    references = reference_string.split(', ')\n",
    "    sorted_references = sorted(references)\n",
    "    return ', '.join(sorted_references)\n"
   ]
  },
  {
   "cell_type": "code",
   "execution_count": 10,
   "id": "a9401fd7",
   "metadata": {
    "ExecuteTime": {
     "end_time": "2024-10-11T06:04:06.835742Z",
     "start_time": "2024-10-11T06:04:06.699624Z"
    }
   },
   "outputs": [],
   "source": [
    "tunique['reference'] = [alphabetize_references(x) for x in tunique['reference']]\n",
    "tall['reference'] = [alphabetize_references(x) for x in tall['reference']]"
   ]
  },
  {
   "cell_type": "markdown",
   "id": "63056edf",
   "metadata": {},
   "source": [
    "## Write latex table"
   ]
  },
  {
   "cell_type": "code",
   "execution_count": 15,
   "id": "a79e6473",
   "metadata": {
    "ExecuteTime": {
     "end_time": "2024-10-11T06:05:31.295956Z",
     "start_time": "2024-10-11T06:05:31.281375Z"
    }
   },
   "outputs": [],
   "source": [
    "tout = tunique[135:165]\n",
    "colnames = ['name', 'source_id', 'ra', 'dec', 'pmra', 'pmdec', 'parallax', 'dist', 'Vr', 'reference']\n",
    "tout.keep_columns(colnames)\n",
    "tout = tout[colnames]\n",
    "\n",
    "new_colnames = dict(name='Stream', source_id='Gaia DR3 Source ID', ra=r'{R.A.}', dec='{Dec}', pmra=r'$\\mu_\\alpha$',\n",
    "               pmdec=r'$\\mu_\\delta$', parallax=r'$\\varpi$', dist='{$D_h$}', Vr='{$V_r$}', reference='Reference')\n",
    "for k in new_colnames:\n",
    "    tout.rename_column(k,new_colnames[k])"
   ]
  },
  {
   "cell_type": "code",
   "execution_count": 16,
   "id": "51bc1a1f",
   "metadata": {
    "ExecuteTime": {
     "end_time": "2024-10-11T06:05:31.755150Z",
     "start_time": "2024-10-11T06:05:31.737807Z"
    }
   },
   "outputs": [
    {
     "name": "stdout",
     "output_type": "stream",
     "text": [
      "     Stream      Gaia DR3 Source ID       {R.A.}              {Dec}             $\\mu_\\alpha$         $\\mu_\\delta$           $\\varpi$             {$D_h$}             {$V_r$}                Reference          \n",
      "                                           deg                 deg                mas / yr             mas / yr               mas                  kpc                km / s                                   \n",
      "--------------- ------------------- ------------------ ------------------- --------------------- ------------------- ---------------------- ------------------ ------------------- ----------------------------\n",
      "           300S 3969240377885586816 164.39719472007044   14.78272877939984    -4.457311858401225  -3.339079504635508   -0.01870677041861573                 --              284.55                    Ibata2024\n",
      "           300S 3969966811474904704 169.08828303307527  15.050543628502457    -4.985332393860634 -3.2995390724325224     0.4950603443016933                 --                  --                    Ibata2024\n",
      "           300S 3970305156113225856 167.78362655423643  15.878518454683695    -4.936349315611407 -3.4815641509130257    0.08136354933341494                 --                  --                    Ibata2024\n",
      "           300S 3981255432932609152  162.9227489255363  14.954068797567619    -4.492868267749614 -3.4750950063816246    0.01185933851814102                 --              287.31                    Ibata2024\n",
      "           300S 3981405065297988480 163.74936132754695  15.705782444532916    -4.312620875408785 -3.2345204606028894 -0.0045523559833654265                 --              284.12                    Ibata2024\n",
      "           300S 3982491833757808000 162.75248389526513  16.892836367686204   -3.9263389591752906 -3.3924861139121676    0.41221417827966017                 --                  --                    Ibata2024\n",
      "ATLAS-Aliqa Uma 5039838702437479936 19.112903636805836  -26.11693093044752  -0.10363643781858604 -0.9489286998696127   0.032045493116992826                 --             -113.36            Ibata2024, Li2021\n",
      "ATLAS-Aliqa Uma 5034653611759500160 18.135219195158808 -25.865839070770907  -0.20724121418500902 -1.0272706261134024   0.056294530120900826                 --              -117.1            Ibata2024, Li2021\n",
      "ATLAS-Aliqa Uma 5022844307121290752  25.03612906558231 -29.870711467466965  0.054283998283948615  -0.936473600999103   0.004926049222016969                 --              -86.36            Ibata2024, Li2021\n",
      "ATLAS-Aliqa Uma 4966915105554905344 36.609162859183506  -35.37392597307872    0.3194157683873357  -0.716783850831943  -0.023736301974611386                 --              -23.28            Li2021, Shipp2019\n",
      "ATLAS-Aliqa Uma 4971176778264340352  32.28456434900104  -32.76836942329286    0.1548694399320265 -0.8542708991607908  -0.002557144194328991                 --              -52.38            Ibata2024, Li2021\n",
      "ATLAS-Aliqa Uma 2345957664457105408 14.666996194977685 -23.863799237542633   -0.3734812765422289 -1.0294989491315438    0.07172146393966614                 -- -130.80131456567318 Ibata2024, Li2021, Shipp2019\n",
      "ATLAS-Aliqa Uma 5018003535381679488  29.55297381449389  -32.49086663268327   0.17602608752355914  -0.857074124209692    0.05530732303988214                 --              -63.35 Ibata2024, Li2021, Shipp2019\n",
      "ATLAS-Aliqa Uma 5022824584631471872 25.117786085631746  -30.12437041305701  -0.08146597338763173 -0.9587815344604738   0.018120201560867986                 --  -84.83719900873177 Ibata2024, Li2021, Shipp2019\n",
      "ATLAS-Aliqa Uma 5040976937490509184  17.80427303240917 -24.746739841470493  -0.23973384267007725 -0.9915210853683656    0.04821681575138319                 --             -118.49            Ibata2024, Li2021\n",
      "ATLAS-Aliqa Uma 4971328167270778496 32.495482991033036 -32.094444031578014    0.1884842028604478 -0.8687048652704039   0.004966214873700851                 --              -56.52            Ibata2024, Li2021\n",
      "ATLAS-Aliqa Uma 4969961611757057536  34.07885240100321  -34.10636586610737   0.23618118864980508 -0.7347586541029205    0.04380716889574815                 --              -35.19                       Li2021\n",
      "ATLAS-Aliqa Uma 2350348972163836160 11.151796657920308  -21.48025186538378   -0.4941175084336981  -1.069666775382971  -0.009035930493029146                 --              -144.9            Ibata2024, Li2021\n",
      "ATLAS-Aliqa Uma 4971220071534578048 31.172655924473275  -32.84165154975874    0.2071813596966911 -0.8145131472551483    0.06377116675053855                 --              -55.01            Ibata2024, Li2021\n",
      "ATLAS-Aliqa Uma 5033893299468726656   18.3158016140837   -26.1125906547185   -0.1891601021018523  -1.002506351460518  -0.020631851019816603                 --             -115.33            Ibata2024, Li2021\n",
      "ATLAS-Aliqa Uma 5036538552646587904 20.369288564568937 -27.211475962259904   -0.3440159612397414  -0.861631552075725   -0.04337821244152624                 --             -108.32            Ibata2024, Li2021\n",
      "ATLAS-Aliqa Uma 4965425507816824192 37.542496024103585  -37.02950093004688    0.2247877929482473 -0.6818654855183464  -0.025003828247624746                 --              -24.15                       Li2021\n",
      "ATLAS-Aliqa Uma 2350310424833246592  9.974478197996955  -20.89289699570487   -0.5826326287474906 -0.9973832393380759    0.06725130119079333 18.793168168032725             -156.83                       Li2021\n",
      "ATLAS-Aliqa Uma 5040039054071916672 19.175974648685013 -25.368739021186116  -0.08772499907702641 -0.9298166471529298   0.016693942262153837                 --             -107.21            Ibata2024, Li2021\n",
      "ATLAS-Aliqa Uma 5040671754294144512 18.091003006602968 -25.747822291129047  -0.30199002681433595 -0.9283971048610539   0.017499558583535954                 --             -115.92            Ibata2024, Li2021\n",
      "ATLAS-Aliqa Uma 5036582979788129024 21.283701440631965 -27.014494826226453 -0.023339403334147968  -1.004120312532654   0.021362464441669546                 --              -99.36            Ibata2024, Li2021\n",
      "ATLAS-Aliqa Uma 2346224467824940544 13.247239388481352 -22.904330911372767   -0.4508028291744963 -0.9878458716549404    0.08666052822006491                 --             -130.55            Ibata2024, Li2021\n",
      "ATLAS-Aliqa Uma 2349268564550587904 12.229043174062914 -22.749462887694364   -0.5818690621842768 -1.1988077276355669   -0.03170595209775864                 --             -134.19 Ibata2024, Li2021, Shipp2019\n",
      "ATLAS-Aliqa Uma 5022762599663670784 24.075929044008245  -30.17974981436976  -0.09362118704986316  -0.961673004334536   0.010224197778514441                 --              -91.57 Ibata2024, Li2021, Shipp2019\n",
      "ATLAS-Aliqa Uma 5039851312461480960  19.32672864257542 -26.094205011384407   -0.1619170813705496 -0.9443330568591586    0.08121419443869339                 --             -113.64            Ibata2024, Li2021\n"
     ]
    }
   ],
   "source": [
    "tout.pprint_all()"
   ]
  },
  {
   "cell_type": "code",
   "execution_count": 17,
   "id": "8a98706d",
   "metadata": {
    "ExecuteTime": {
     "end_time": "2024-10-11T06:05:32.492376Z",
     "start_time": "2024-10-11T06:05:32.473462Z"
    }
   },
   "outputs": [
    {
     "name": "stdout",
     "output_type": "stream",
     "text": [
      "\\centering\n",
      "\\begin{tabular}{lcSSSSSSSl}\n",
      "\\hline\\hline\n",
      "Stream & Gaia DR3 Source ID & {R.A.} & {Dec} & $\\mu_\\alpha$ & $\\mu_\\delta$ & $\\varpi$ & {$D_h$} & {$V_r$} & Reference \\\\\n",
      " &  & $\\mathrm{{}^{\\circ}}$ & $\\mathrm{{}^{\\circ}}$ & $\\mathrm{mas\\,yr^{-1}}$ & $\\mathrm{mas\\,yr^{-1}}$ & $\\mathrm{mas}$ & $\\mathrm{kpc}$ & $\\mathrm{km\\,s^{-1}}$ &  \\\\\n",
      "\\hline\n",
      "300S & 3969240377885586816 & 164.397 & 14.783 & -4.46 & -3.34 & -0.019 &  & 284.6 & Ibata2024 \\\\\n",
      "300S & 3969966811474904704 & 169.088 & 15.051 & -4.99 & -3.30 & 0.495 &  &  & Ibata2024 \\\\\n",
      "300S & 3970305156113225856 & 167.784 & 15.879 & -4.94 & -3.48 & 0.081 &  &  & Ibata2024 \\\\\n",
      "300S & 3981255432932609152 & 162.923 & 14.954 & -4.49 & -3.48 & 0.012 &  & 287.3 & Ibata2024 \\\\\n",
      "300S & 3981405065297988480 & 163.749 & 15.706 & -4.31 & -3.23 & -0.005 &  & 284.1 & Ibata2024 \\\\\n",
      "300S & 3982491833757808000 & 162.752 & 16.893 & -3.93 & -3.39 & 0.412 &  &  & Ibata2024 \\\\\n",
      "ATLAS-Aliqa Uma & 5039838702437479936 & 19.113 & -26.117 & -0.10 & -0.95 & 0.032 &  & -113.4 & Ibata2024, Li2021 \\\\\n",
      "ATLAS-Aliqa Uma & 5034653611759500160 & 18.135 & -25.866 & -0.21 & -1.03 & 0.056 &  & -117.1 & Ibata2024, Li2021 \\\\\n",
      "ATLAS-Aliqa Uma & 5022844307121290752 & 25.036 & -29.871 & 0.05 & -0.94 & 0.005 &  & -86.4 & Ibata2024, Li2021 \\\\\n",
      "ATLAS-Aliqa Uma & 4966915105554905344 & 36.609 & -35.374 & 0.32 & -0.72 & -0.024 &  & -23.3 & Li2021, Shipp2019 \\\\\n",
      "ATLAS-Aliqa Uma & 4971176778264340352 & 32.285 & -32.768 & 0.15 & -0.85 & -0.003 &  & -52.4 & Ibata2024, Li2021 \\\\\n",
      "ATLAS-Aliqa Uma & 2345957664457105408 & 14.667 & -23.864 & -0.37 & -1.03 & 0.072 &  & -130.8 & Ibata2024, Li2021, Shipp2019 \\\\\n",
      "ATLAS-Aliqa Uma & 5018003535381679488 & 29.553 & -32.491 & 0.18 & -0.86 & 0.055 &  & -63.4 & Ibata2024, Li2021, Shipp2019 \\\\\n",
      "ATLAS-Aliqa Uma & 5022824584631471872 & 25.118 & -30.124 & -0.08 & -0.96 & 0.018 &  & -84.8 & Ibata2024, Li2021, Shipp2019 \\\\\n",
      "ATLAS-Aliqa Uma & 5040976937490509184 & 17.804 & -24.747 & -0.24 & -0.99 & 0.048 &  & -118.5 & Ibata2024, Li2021 \\\\\n",
      "ATLAS-Aliqa Uma & 4971328167270778496 & 32.495 & -32.094 & 0.19 & -0.87 & 0.005 &  & -56.5 & Ibata2024, Li2021 \\\\\n",
      "ATLAS-Aliqa Uma & 4969961611757057536 & 34.079 & -34.106 & 0.24 & -0.73 & 0.044 &  & -35.2 & Li2021 \\\\\n",
      "ATLAS-Aliqa Uma & 2350348972163836160 & 11.152 & -21.480 & -0.49 & -1.07 & -0.009 &  & -144.9 & Ibata2024, Li2021 \\\\\n",
      "ATLAS-Aliqa Uma & 4971220071534578048 & 31.173 & -32.842 & 0.21 & -0.81 & 0.064 &  & -55.0 & Ibata2024, Li2021 \\\\\n",
      "ATLAS-Aliqa Uma & 5033893299468726656 & 18.316 & -26.113 & -0.19 & -1.00 & -0.021 &  & -115.3 & Ibata2024, Li2021 \\\\\n",
      "ATLAS-Aliqa Uma & 5036538552646587904 & 20.369 & -27.211 & -0.34 & -0.86 & -0.043 &  & -108.3 & Ibata2024, Li2021 \\\\\n",
      "ATLAS-Aliqa Uma & 4965425507816824192 & 37.542 & -37.030 & 0.22 & -0.68 & -0.025 &  & -24.1 & Li2021 \\\\\n",
      "ATLAS-Aliqa Uma & 2350310424833246592 & 9.974 & -20.893 & -0.58 & -1.00 & 0.067 & 18.8 & -156.8 & Li2021 \\\\\n",
      "ATLAS-Aliqa Uma & 5040039054071916672 & 19.176 & -25.369 & -0.09 & -0.93 & 0.017 &  & -107.2 & Ibata2024, Li2021 \\\\\n",
      "ATLAS-Aliqa Uma & 5040671754294144512 & 18.091 & -25.748 & -0.30 & -0.93 & 0.017 &  & -115.9 & Ibata2024, Li2021 \\\\\n",
      "ATLAS-Aliqa Uma & 5036582979788129024 & 21.284 & -27.014 & -0.02 & -1.00 & 0.021 &  & -99.4 & Ibata2024, Li2021 \\\\\n",
      "ATLAS-Aliqa Uma & 2346224467824940544 & 13.247 & -22.904 & -0.45 & -0.99 & 0.087 &  & -130.6 & Ibata2024, Li2021 \\\\\n",
      "ATLAS-Aliqa Uma & 2349268564550587904 & 12.229 & -22.749 & -0.58 & -1.20 & -0.032 &  & -134.2 & Ibata2024, Li2021, Shipp2019 \\\\\n",
      "ATLAS-Aliqa Uma & 5022762599663670784 & 24.076 & -30.180 & -0.09 & -0.96 & 0.010 &  & -91.6 & Ibata2024, Li2021, Shipp2019 \\\\\n",
      "ATLAS-Aliqa Uma & 5039851312461480960 & 19.327 & -26.094 & -0.16 & -0.94 & 0.081 &  & -113.6 & Ibata2024, Li2021 \\\\\n",
      "\\hline\n",
      "\\end{tabular}\n"
     ]
    }
   ],
   "source": [
    "# generate latex table\n",
    "latex_buffer = io.StringIO()\n",
    "tout.write(latex_buffer, format='ascii.latex', col_align='lcSSSSSSSl',\n",
    "           latexdict=dict(tabletype='', preamble=r'\\centering', header_start=r'\\hline\\hline', \n",
    "                          data_start=r'\\hline', data_end=r'\\hline'),\n",
    "           formats={'Stream':'{}', 'Gaia DR3 Source ID':'{}', '{R.A.}':'{:.3f}', '{Dec}':'{:.3f}',\n",
    "                    r'$\\mu_\\alpha$':'{:.2f}', r'$\\mu_\\delta$':'{:.2f}', r'$\\varpi$':'{:.3f}',\n",
    "                    '{$D_h$}':'{:.1f}', '{$V_r$}':'{:.1f}', 'Reference':'{}'})\n",
    "\n",
    "# Remove the \\begin{table} and \\end{table} lines\n",
    "latex_output = latex_buffer.getvalue()\n",
    "lines = latex_output.splitlines()\n",
    "filtered_lines = [line for line in lines if not line.startswith(r'\\begin{}') and not line.startswith(r'\\end{}')]\n",
    "\n",
    "# Join the filtered lines back into a string\n",
    "latex_output = \"\\n\".join(filtered_lines)\n",
    "\n",
    "# check table looks good\n",
    "print(latex_output)"
   ]
  },
  {
   "cell_type": "code",
   "execution_count": 18,
   "id": "47fc74ce",
   "metadata": {
    "ExecuteTime": {
     "end_time": "2024-10-11T06:05:45.940803Z",
     "start_time": "2024-10-11T06:05:45.924262Z"
    }
   },
   "outputs": [],
   "source": [
    "# write to file\n",
    "with open('../tex/tables/stream-members.tex', 'w') as f:\n",
    "    f.write(latex_output)"
   ]
  },
  {
   "cell_type": "code",
   "execution_count": null,
   "id": "ddc484c2",
   "metadata": {},
   "outputs": [],
   "source": []
  },
  {
   "cell_type": "code",
   "execution_count": null,
   "id": "6e33b43e",
   "metadata": {},
   "outputs": [],
   "source": []
  }
 ],
 "metadata": {
  "kernelspec": {
   "display_name": "Python 3 (ipykernel)",
   "language": "python",
   "name": "python3"
  },
  "language_info": {
   "codemirror_mode": {
    "name": "ipython",
    "version": 3
   },
   "file_extension": ".py",
   "mimetype": "text/x-python",
   "name": "python",
   "nbconvert_exporter": "python",
   "pygments_lexer": "ipython3",
   "version": "3.9.20"
  },
  "toc": {
   "base_numbering": 1,
   "nav_menu": {},
   "number_sections": true,
   "sideBar": true,
   "skip_h1_title": true,
   "title_cell": "Table of Contents",
   "title_sidebar": "Contents",
   "toc_cell": false,
   "toc_position": {},
   "toc_section_display": true,
   "toc_window_display": true
  }
 },
 "nbformat": 4,
 "nbformat_minor": 5
}
